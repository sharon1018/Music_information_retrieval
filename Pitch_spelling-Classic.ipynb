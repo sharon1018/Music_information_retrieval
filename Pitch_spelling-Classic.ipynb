{
 "cells": [
  {
   "cell_type": "code",
   "execution_count": 1,
   "metadata": {},
   "outputs": [
    {
     "name": "stdout",
     "output_type": "stream",
     "text": [
      "\n"
     ]
    }
   ],
   "source": [
    "\"\"\"\n",
    "# Define pitch\n",
    "F = [0,1,0] ; E_sharp = [0,1,0]\n",
    "C = [1,0,1] ; B_sharp = [1,0,1] \n",
    "G = [0,-1,2]\n",
    "D = [-1,0,3]\n",
    "A = [0,1,4]\n",
    "E = [1,0,5]  ; F_flat = [1,0,5]\n",
    "B = [0,-1,6]  ; C_flat = [0,-1,6]\n",
    "F_sharp = [-1,0,7] ; G_flat = [-1,0,7]\n",
    "C_sharp = [0,1,8] ; D_flat = [0,1,8]\n",
    "G_sharp = [1,0,9] ; A_flat = [1,0,9]\n",
    "D_sharp = [0,-1,10] ; E_flat = [0,-1,10]\n",
    "A_sharp = [-1,0,11] ; B_flat = [-1,0,11]\n",
    "\"\"\"\n",
    "print()"
   ]
  },
  {
   "cell_type": "code",
   "execution_count": 72,
   "metadata": {},
   "outputs": [
    {
     "name": "stderr",
     "output_type": "stream",
     "text": [
      "/home/hsuan/env1/lib/python3.6/site-packages/pydub/utils.py:165: RuntimeWarning: Couldn't find ffmpeg or avconv - defaulting to ffmpeg, but may not work\n",
      "  warn(\"Couldn't find ffmpeg or avconv - defaulting to ffmpeg, but may not work\", RuntimeWarning)\n"
     ]
    }
   ],
   "source": [
    "import librosa\n",
    "import os, sys\n",
    "import numpy as np\n",
    "from pydub import AudioSegment\n",
    "from pydub.utils import make_chunks\n",
    "import warnings\n",
    "import matplotlib.pyplot as plt\n",
    "from collections import Counter\n",
    "from librosa import display\n",
    "warnings.filterwarnings('ignore')"
   ]
  },
  {
   "cell_type": "code",
   "execution_count": 73,
   "metadata": {},
   "outputs": [],
   "source": [
    "pitch_ary = [[1,0,1], [0,1,8], [-1,0,3], [0,-1,10], [1,0,5], [0,1,0], [-1,0,7],\\\n",
    "                 [0,-1,2], [1,0,9], [0,1,4], [-1,0,11], [0,-1,6]]\n",
    "pitch_ary = np.array(pitch_ary)\n",
    "\n",
    "## get all clip \n",
    "def get_dirs(path):\n",
    "    dirs = os.listdir(path)\n",
    "    return dirs  # file list\n",
    "\n",
    "def pitch_trans(seq):\n",
    "    pitch_list = ['C','C#','D','D#(E-)','E','F','F#','G','G#','A','A#(B-)','B']\n",
    "    return pitch_list[seq]\n",
    "\n",
    "def pitch_to_ary(notes):\n",
    "    pitch_ary = [[1,0,1], [0,1,8], [-1,0,3], [0,-1,10], [1,0,5], [0,1,0], [-1,0,7],\\\n",
    "                 [0,-1,2], [1,0,9], [0,1,4], [-1,0,11], [0,-1,6]]\n",
    "    pitch_ary = np.array(pitch_ary)\n",
    "    return pitch_ary[notes]\n",
    "\n",
    "\n",
    "## count CE\n",
    "def count_CE(notes_seq):\n",
    "    c = Counter(notes_seq)\n",
    "    Dab = 0\n",
    "    sum_dp = 0\n",
    "    for i in range(len(notes_seq)):\n",
    "        pij = (pitch_to_ary(notes_seq[i]))\n",
    "        dij = 1\n",
    "        Dab = sum(c.values())\n",
    "        sum_dp += (dij * pij)  \n",
    "        CE = sum_dp/Dab   \n",
    "    return CE\n",
    "\n",
    "def get_key(CE, pitch_ary):\n",
    "    key = []\n",
    "    for i in range(len(pitch_ary)):\n",
    "        key.append(abs(pitch_ary[i][0]-int(CE[0])) + abs(pitch_ary[i][1]-int(CE[1])) + \\\n",
    "                  abs(pitch_ary[i][2]-int(CE[2])))\n",
    "    predict_key = pitch_trans(key.index(min(key)))\n",
    "    return predict_key"
   ]
  },
  {
   "cell_type": "code",
   "execution_count": 120,
   "metadata": {},
   "outputs": [],
   "source": [
    "## Analysis chord and pitch\n",
    "def n_gram(key_list, ngram):\n",
    "    k_list = [[word for word in line.split(\",\")] for line in key_list]\n",
    "    flattened = [val for sublist in k_list for val in sublist]\n",
    "    ngram_key = []\n",
    "    for i in range(int(len(flattened)/ngram)):\n",
    "        ngram_key.append(flattened[ngram*i : ngram*(i+1)])\n",
    "    count_ary = [[x,ngram_key.count(x)] for x in (ngram_key)]\n",
    "    unique = []\n",
    "    for item in count_ary:\n",
    "        if item not in unique:\n",
    "            unique.append(item)\n",
    "    unique = sorted(unique, key=lambda x:x[1], reverse = True)\n",
    "    return unique\n",
    "\n",
    "## key matching\n",
    "perfect_five = [['C','G'],['G','D'],['D','A'],['A','E'],['E','B'],['B','F#'],['F#','C#'],['C#','G#'],\n",
    "                ['G#','D#(E-)'],['D#(E-)','A#(B-)'],['A#(B-)','F'],['F','C']]\n",
    "same_pitch = [['C','C','C'],['D','D','D'],['A','A','A'],['E','E','E'],['B','B','B'],['F#','F#','F#'],\n",
    "              ['C#','C#','C#'],['G#','G#','G#'], ['D#(E-)','D#(E-)','D#(E-)'],\n",
    "              ['A#(B-)','A#(B-)','A#(B-)'],['F','F','F'],['G','G','G']]\n",
    "big_three = [['C','E'],['D','F#'],['E','G#'],['F','A'],['G','B'],['A','C#'],['B','D#'],\n",
    "             ['C#','F'],['D#(E-)','G'],['F#','A#(B-)'],['G#','C'],['A#','D']]\n",
    "small_three = [['C','D#'],['D','F'],['E','G'],['F','G#'],['G','A#'],['A','C'],['B','D'],\n",
    "             ['C#','E'],['D#(E-)','F#'],['F#','A'],['G#','B'],['A#','C#']]"
   ]
  },
  {
   "cell_type": "code",
   "execution_count": 187,
   "metadata": {},
   "outputs": [],
   "source": [
    "## get all file name\n",
    "sleeping_music = sorted(get_dirs('./music/classic'))"
   ]
  },
  {
   "cell_type": "code",
   "execution_count": 188,
   "metadata": {},
   "outputs": [
    {
     "data": {
      "text/plain": [
       "19"
      ]
     },
     "execution_count": 188,
     "metadata": {},
     "output_type": "execute_result"
    }
   ],
   "source": [
    "len(sleeping_music)"
   ]
  },
  {
   "cell_type": "markdown",
   "metadata": {},
   "source": [
    "### Get Chord (4 beats)"
   ]
  },
  {
   "cell_type": "code",
   "execution_count": 240,
   "metadata": {},
   "outputs": [],
   "source": [
    "sleeping_key = []; pitch = []\n",
    "def job(num1, num2):\n",
    "#     for idx in range(len(sleeping_music)):\n",
    "    for idx in range(num1, num2):\n",
    "        temp2 = []; temp3 = []\n",
    "        for i in range(60):\n",
    "            try:\n",
    "                y1, sr = librosa.load('./music/classic/'+ sleeping_music[idx],offset=4*i,duration = 4, res_type = \"kaiser_fast\")\n",
    "                ## onset detection\n",
    "                o_env = librosa.onset.onset_strength(y1, sr=sr)\n",
    "                onset_frames = librosa.onset.onset_detect(y=y1, onset_envelope=o_env, sr=sr)\n",
    "\n",
    "                ## pitch detection\n",
    "                b = librosa.feature.chroma_stft(y=y1, sr=sr, n_fft=2048, hop_length=512)\n",
    "\n",
    "                temp =[]\n",
    "                for i in range(len(onset_frames)): \n",
    "                    temp.append(np.argsort(b[:,onset_frames[i]])[-1])  \n",
    "                for i in range(len(temp)):\n",
    "                    temp3.append(pitch_trans(temp[i]))    \n",
    "\n",
    "                ## count CE\n",
    "                CE = (count_CE(temp))\n",
    "                temp2.append(get_key(CE, pitch_ary))\n",
    "            except:\n",
    "                pass\n",
    "        sleeping_key.append(temp2)\n",
    "        pitch.append(temp3)\n",
    "        print(\"Finish\", idx)"
   ]
  },
  {
   "cell_type": "code",
   "execution_count": 241,
   "metadata": {},
   "outputs": [],
   "source": [
    "import threading\n",
    "import time\n",
    "\n",
    "threads = []\n",
    "threads2 = []\n",
    "threads3 = []\n",
    "threads4 = []\n",
    "\n",
    "threads.append(threading.Thread(target = job, args = (0,6))) \n",
    "for t in threads:\n",
    "    t.start()\n",
    "    \n",
    "threads2.append(threading.Thread(target = job, args = (6,12))) \n",
    "for t2 in threads2:\n",
    "    t2.start()\n",
    "    \n",
    "threads3.append(threading.Thread(target = job, args = (12,19))) \n",
    "for t2 in threads3:\n",
    "    t2.start()\n",
    "    \n",
    "# threads4.append(threading.Thread(target = job, args = (18,25))) \n",
    "# for t2 in threads4:\n",
    "#     t2.start()\n",
    "    \n",
    "# threads2.append(threading.Thread(target = job, args = (3,6))) \n",
    "# for t2 in threads2:\n",
    "#     t2.start()\n"
   ]
  },
  {
   "cell_type": "code",
   "execution_count": 324,
   "metadata": {},
   "outputs": [
    {
     "data": {
      "text/plain": [
       "'夜的钢琴曲 2.wav'"
      ]
     },
     "execution_count": 324,
     "metadata": {},
     "output_type": "execute_result"
    }
   ],
   "source": [
    "sleeping_music[14]"
   ]
  },
  {
   "cell_type": "code",
   "execution_count": 244,
   "metadata": {},
   "outputs": [
    {
     "name": "stdout",
     "output_type": "stream",
     "text": [
      "0 Beethoven Fur Elise 貝多芬 獻給愛麗絲.wav\n",
      "Perfect 5: 6.83 %\n",
      "Big three: 6.96 %\n",
      "Small 7.73 %\n",
      "Stable: 10.57 %\n",
      "Other 78.48 %\n",
      "\n",
      "1 Canon 卡農 (Johann Pachelbel ) 鋼琴 Jason Piano.wav\n",
      "Perfect 5: 7.93 %\n",
      "Big three: 7.8 %\n",
      "Small 7.93 %\n",
      "Stable: 11.35 %\n",
      "Other 76.33 %\n",
      "\n",
      "2 Mozart Sonata No.16 K.545 Mov.1  莫札特 奏鳴曲 16號 第一樂章.wav\n",
      "Perfect 5: 4.91 %\n",
      "Big three: 4.26 %\n",
      "Small 5.65 %\n",
      "Stable: 28.42 %\n",
      "Other 85.18 %\n",
      "\n",
      "3 classic1.wav\n",
      "Perfect 5: 7.37 %\n",
      "Big three: 5.1 %\n",
      "Small 2.55 %\n",
      "Stable: 20.68 %\n",
      "Other 84.99 %\n",
      "\n",
      "4 classic11.wav\n",
      "Perfect 5: 11.14 %\n",
      "Big three: 6.63 %\n",
      "Small 6.33 %\n",
      "Stable: 3.01 %\n",
      "Other 75.9 %\n",
      "\n",
      "5 classic2.wav\n",
      "Perfect 5: 7.69 %\n",
      "Big three: 5.81 %\n",
      "Small 5.66 %\n",
      "Stable: 6.82 %\n",
      "Other 80.84 %\n",
      "\n",
      "6 classic3.wav\n",
      "Perfect 5: 0 %\n",
      "Big three: 0 %\n",
      "Small 0 %\n",
      "Stable: 0 %\n",
      "Other 0 %\n",
      "\n",
      "7 classic4.wav\n",
      "Perfect 5: 9.57 %\n",
      "Big three: 3.48 %\n",
      "Small 9.57 %\n",
      "Stable: 6.09 %\n",
      "Other 77.39 %\n",
      "\n",
      "8 classic5.wav\n",
      "Perfect 5: 5.71 %\n",
      "Big three: 4.64 %\n",
      "Small 7.84 %\n",
      "Stable: 5.52 %\n",
      "Other 81.82 %\n",
      "\n",
      "9 classic9.wav\n",
      "Perfect 5: 7.69 %\n",
      "Big three: 5.81 %\n",
      "Small 5.66 %\n",
      "Stable: 6.82 %\n",
      "Other 80.84 %\n",
      "\n",
      "10 ❤♫ 柴可夫斯基 - 舞劇【胡桃鉗】進行曲.wav\n",
      "Perfect 5: 7.49 %\n",
      "Big three: 2.86 %\n",
      "Small 0.76 %\n",
      "Stable: 38.44 %\n",
      "Other 88.9 %\n",
      "\n",
      "11 ❤♫ 莫札特 - G大調第13 號小夜曲K.525（01.快板）.wav\n",
      "Perfect 5: 6.4 %\n",
      "Big three: 2.53 %\n",
      "Small 4.38 %\n",
      "Stable: 28.28 %\n",
      "Other 86.7 %\n",
      "\n",
      "12 古諾小夜曲 Gounod Serenade（France）for a  Victor-Marie Hugo poem 〔Gounod 1818-1893〕.wav\n",
      "Perfect 5: 5.54 %\n",
      "Big three: 5.21 %\n",
      "Small 4.23 %\n",
      "Stable: 10.26 %\n",
      "Other 85.02 %\n",
      "\n",
      "13 夜的钢琴曲 1.wav\n",
      "Perfect 5: 3.18 %\n",
      "Big three: 2.52 %\n",
      "Small 3.42 %\n",
      "Stable: 42.1 %\n",
      "Other 90.88 %\n",
      "\n",
      "14 夜的钢琴曲 2.wav\n",
      "Perfect 5: 5.58 %\n",
      "Big three: 5.58 %\n",
      "Small 5.29 %\n",
      "Stable: 20.08 %\n",
      "Other 83.55 %\n",
      "\n",
      "15 托塞里小夜曲　Tosell Serenade（ITALY）.wav\n",
      "Perfect 5: 6.64 %\n",
      "Big three: 7.19 %\n",
      "Small 9.91 %\n",
      "Stable: 18.63 %\n",
      "Other 76.25 %\n",
      "\n",
      "16 蕭邦夜曲no.20小提琴鋼琴合奏.wav\n",
      "Perfect 5: 0 %\n",
      "Big three: 0 %\n",
      "Small 0 %\n",
      "Stable: 0 %\n",
      "Other 0 %\n",
      "\n",
      "17 西班牙進行曲.wav\n",
      "Perfect 5: 6.77 %\n",
      "Big three: 4.88 %\n",
      "Small 3.98 %\n",
      "Stable: 18.92 %\n",
      "Other 84.36 %\n",
      "\n",
      "18 貝多芬月光奏鳴曲第3樂章.wav\n",
      "Perfect 5: 9.52 %\n",
      "Big three: 4.58 %\n",
      "Small 3.95 %\n",
      "Stable: 19.5 %\n",
      "Other 81.94 %\n",
      "\n"
     ]
    }
   ],
   "source": [
    "## Chord progression\n",
    "for idx in range(len(pitch)):\n",
    "    perfect = 0; same = 0; non = 0; big3 = 0; small3 = 0\n",
    "    perfect_ = 0; same_ = 0; non_ = 0; big3_ = 0; small3_ = 0\n",
    "    for i in range(len(pitch[idx])):\n",
    "        if pitch[idx][i:i+2] in perfect_five:\n",
    "            perfect = perfect+1\n",
    "        elif pitch[idx][i:i+2] in big_three:\n",
    "            big3 = big3+1\n",
    "        elif pitch[idx][i:i+2] in small_three:\n",
    "            small3 = small3+1\n",
    "        else:\n",
    "            non = non+1\n",
    "    for i in range(len(pitch[idx])):\n",
    "        if pitch[idx][i:i+3] in same_pitch:\n",
    "            same = same+1\n",
    "    try:\n",
    "        perfect_ = round(perfect/len(pitch[idx]) *100,2)\n",
    "        same_ = round(same/len(pitch[idx]) *100,2)\n",
    "        non_ = round(non/len(pitch[idx]) *100,2)\n",
    "        big3_ = round(big3/len(pitch[idx]) *100,2)\n",
    "        small3_ = round(small3/len(pitch[idx]) *100,2)\n",
    "    except:\n",
    "        pass\n",
    "    print(idx,sleeping_music[idx])\n",
    "    print(\"Perfect 5:\", perfect_, '%')\n",
    "    print(\"Big three:\",big3_, '%')\n",
    "    print(\"Small\",small3_, '%')\n",
    "    print(\"Stable:\",same_, '%')\n",
    "    print(\"Other\",non_, '%')\n",
    "    print()"
   ]
  },
  {
   "cell_type": "code",
   "execution_count": 327,
   "metadata": {},
   "outputs": [
    {
     "data": {
      "image/png": "[encoded data removed]",
      "text/plain": [
       "<Figure size 432x288 with 1 Axes>"
      ]
     },
     "metadata": {
      "needs_background": "light"
     },
     "output_type": "display_data"
    }
   ],
   "source": [
    "y1, sr = librosa.load('./music/classic/'+ sleeping_music[3],duration = 20, res_type = \"kaiser_fast\")\n",
    "    \n",
    "# Compute autocorrelation of input segment.\n",
    "r = librosa.autocorrelate(y1)\n",
    "\n",
    "plt.plot(r)\n",
    "plt.title('Auto-correlation')\n",
    "plt.xlabel('Lag (frames)')\n",
    "\n",
    "# Define lower and upper limits for the autocorrelation argmax.\n",
    "i_min = sr/2000\n",
    "i_max = sr/50\n",
    "r[:int(i_min)] = 0\n",
    "r[int(i_max):] = 0\n",
    "\n",
    "# Find the location of the maximum autocorrelation.\n",
    "i = r.argmax()\n",
    "f0 = float(sr)/i"
   ]
  },
  {
   "cell_type": "code",
   "execution_count": 322,
   "metadata": {},
   "outputs": [
    {
     "data": {
      "text/plain": [
       "441000"
      ]
     },
     "execution_count": 322,
     "metadata": {},
     "output_type": "execute_result"
    }
   ],
   "source": [
    "len(r)"
   ]
  },
  {
   "cell_type": "code",
   "execution_count": 336,
   "metadata": {},
   "outputs": [],
   "source": [
    "temp3=[];temp=[]\n",
    "y1, sr = librosa.load('./music/classic/'+ sleeping_music[3],duration = 20, res_type = \"kaiser_fast\")\n",
    "## onset detection\n",
    "o_env = librosa.onset.onset_strength(y1, sr=sr, hop_length=128)\n",
    "onset_frames = librosa.onset.onset_detect(y=y1, onset_envelope=o_env, sr=sr, hop_length=128)\n",
    "\n",
    "## pitch detection\n",
    "b = librosa.feature.chroma_stft(y=y1, sr=sr, n_fft=1024, hop_length=128)\n",
    "\n",
    "temp =[]\n",
    "for i in range(len(onset_frames)): \n",
    "    temp.append(np.argsort(b[:,onset_frames[i]])[-1])  \n",
    "for i in range(len(temp)):\n",
    "    temp3.append(pitch_trans(temp[i]))    \n",
    "\n",
    "## count CE\n",
    "CE = (count_CE(temp))\n",
    "temp2.append(get_key(CE, pitch_ary))"
   ]
  },
  {
   "cell_type": "code",
   "execution_count": 337,
   "metadata": {},
   "outputs": [
    {
     "name": "stdout",
     "output_type": "stream",
     "text": [
      "['A#(B-)', 'G', 'G', 'D#(E-)', 'A#(B-)', 'G', 'F', 'F', 'G#', 'G', 'F', 'D#(E-)', 'A#(B-)', 'D#(E-)', 'D#(E-)', 'D#(E-)', 'A#(B-)', 'G', 'G', 'E', 'C', 'C#', 'C#', 'C#', 'C', 'C', 'E', 'G', 'G', 'A#(B-)', 'A#(B-)', 'F', 'G#', 'C', 'G', 'F', 'F', 'D', 'G#', 'G', 'G', 'D', 'D#(E-)', 'D#(E-)', 'C', 'D#(E-)']\n"
     ]
    }
   ],
   "source": [
    "print(temp3)"
   ]
  },
  {
   "cell_type": "code",
   "execution_count": 306,
   "metadata": {},
   "outputs": [
    {
     "name": "stdout",
     "output_type": "stream",
     "text": [
      "['A', 'E', 'D', 'C', 'B', 'B', 'G', 'E', 'A', 'A', 'A', 'C#', 'D', 'B', 'A', 'E', 'D', 'B', 'C', 'D', 'E', 'A', 'G', 'A', 'D', 'D', 'D', 'D', 'E', 'D', 'G', 'E', 'D', 'D', 'B', 'G', 'C', 'B', 'A', 'G', 'A']\n"
     ]
    }
   ],
   "source": [
    "print(temp3)"
   ]
  },
  {
   "cell_type": "code",
   "execution_count": 304,
   "metadata": {},
   "outputs": [
    {
     "name": "stdout",
     "output_type": "stream",
     "text": [
      "['A', 'E', 'D', 'C', 'B', 'B', 'D', 'E', 'A', 'A', 'A', 'D', 'D', 'B', 'A', 'E', 'D', 'B', 'C', 'D', 'E', 'A', 'G', 'A', 'D', 'D', 'D', 'D', 'E', 'D', 'G', 'G', 'E', 'D', 'G', 'B', 'G', 'C', 'B', 'A', 'G', 'A', 'A']\n"
     ]
    }
   ],
   "source": [
    "print(temp3)"
   ]
  },
  {
   "cell_type": "code",
   "execution_count": 239,
   "metadata": {},
   "outputs": [
    {
     "name": "stdout",
     "output_type": "stream",
     "text": [
      "0 Beethoven Fur Elise 貝多芬 獻給愛麗絲.wav\n",
      "Stable: 10.56701030927835\n",
      "\n",
      "1 Canon 卡農 (Johann Pachelbel ) 鋼琴 Jason Piano.wav\n",
      "Stable: 11.354309165526676\n",
      "\n",
      "2 Mozart Sonata No.16 K.545 Mov.1  莫札特 奏鳴曲 16號 第一樂章.wav\n",
      "Stable: 28.419328419328423\n",
      "\n",
      "3 classic1.wav\n",
      "Stable: 20.679886685552407\n",
      "\n",
      "4 classic11.wav\n",
      "Stable: 6.821480406386067\n",
      "\n",
      "5 classic2.wav\n"
     ]
    },
    {
     "ename": "ZeroDivisionError",
     "evalue": "division by zero",
     "output_type": "error",
     "traceback": [
      "\u001b[0;31m---------------------------------------------------------------------------\u001b[0m",
      "\u001b[0;31mZeroDivisionError\u001b[0m                         Traceback (most recent call last)",
      "\u001b[0;32m<ipython-input-239-c6145487b165>\u001b[0m in \u001b[0;36m<module>\u001b[0;34m\u001b[0m\n\u001b[1;32m      9\u001b[0m \u001b[0;34m\u001b[0m\u001b[0m\n\u001b[1;32m     10\u001b[0m     \u001b[0mprint\u001b[0m\u001b[0;34m(\u001b[0m\u001b[0midx\u001b[0m\u001b[0;34m,\u001b[0m\u001b[0msleeping_music\u001b[0m\u001b[0;34m[\u001b[0m\u001b[0midx\u001b[0m\u001b[0;34m]\u001b[0m\u001b[0;34m)\u001b[0m\u001b[0;34m\u001b[0m\u001b[0m\n\u001b[0;32m---> 11\u001b[0;31m     \u001b[0mprint\u001b[0m\u001b[0;34m(\u001b[0m\u001b[0;34m\"Stable:\"\u001b[0m\u001b[0;34m,\u001b[0m\u001b[0msame\u001b[0m\u001b[0;34m/\u001b[0m\u001b[0mlen\u001b[0m\u001b[0;34m(\u001b[0m\u001b[0mpitch\u001b[0m\u001b[0;34m[\u001b[0m\u001b[0midx\u001b[0m\u001b[0;34m]\u001b[0m\u001b[0;34m)\u001b[0m\u001b[0;34m*\u001b[0m\u001b[0;36m100\u001b[0m\u001b[0;34m)\u001b[0m\u001b[0;34m\u001b[0m\u001b[0m\n\u001b[0m\u001b[1;32m     12\u001b[0m     \u001b[0mprint\u001b[0m\u001b[0;34m(\u001b[0m\u001b[0;34m)\u001b[0m\u001b[0;34m\u001b[0m\u001b[0m\n",
      "\u001b[0;31mZeroDivisionError\u001b[0m: division by zero"
     ]
    }
   ],
   "source": [
    "## Chord progression\n",
    "\n",
    "for idx in range(len(sleeping_music)):\n",
    "    same = 0; same_ = 0\n",
    "    for i in range(len(pitch[idx])):\n",
    "        if pitch[idx][i:i+3] in same_pitch:\n",
    "            same = same+1\n",
    "    \n",
    "    \n",
    "    print(idx,sleeping_music[idx])\n",
    "    print(\"Stable:\",same/len(pitch[idx])*100)\n",
    "    print()"
   ]
  },
  {
   "cell_type": "code",
   "execution_count": 224,
   "metadata": {},
   "outputs": [
    {
     "data": {
      "text/plain": [
       "19"
      ]
     },
     "execution_count": 224,
     "metadata": {},
     "output_type": "execute_result"
    }
   ],
   "source": [
    "len(sleeping_key)"
   ]
  },
  {
   "cell_type": "markdown",
   "metadata": {},
   "source": [
    "## Analysis"
   ]
  },
  {
   "cell_type": "code",
   "execution_count": 116,
   "metadata": {},
   "outputs": [
    {
     "name": "stdout",
     "output_type": "stream",
     "text": [
      "0 Beethoven Fur Elise 貝多芬 獻給愛麗絲.wav\n",
      "Perfect 5: 11.11 %\n",
      "Big three: 2.22 %\n",
      "Small 2.22 %\n",
      "Stable: 6.67 %\n",
      "Other 84.44 %\n",
      "\n",
      "1 Canon 卡農 (Johann Pachelbel ) 鋼琴 Jason Piano.wav\n",
      "Perfect 5: 16.67 %\n",
      "Big three: 1.67 %\n",
      "Small 6.67 %\n",
      "Stable: 0.0 %\n",
      "Other 75.0 %\n",
      "\n",
      "2 Mozart Sonata No.16 K.545 Mov.1  莫札特 奏鳴曲 16號 第一樂章.wav\n",
      "Perfect 5: 20.34 %\n",
      "Big three: 0.0 %\n",
      "Small 0.0 %\n",
      "Stable: 6.78 %\n",
      "Other 79.66 %\n",
      "\n",
      "3 classic1.wav\n",
      "Perfect 5: 13.33 %\n",
      "Big three: 1.67 %\n",
      "Small 0.0 %\n",
      "Stable: 6.67 %\n",
      "Other 85.0 %\n",
      "\n",
      "4 classic10.wav\n",
      "Perfect 5: 15.79 %\n",
      "Big three: 0.0 %\n",
      "Small 0.0 %\n",
      "Stable: 42.11 %\n",
      "Other 84.21 %\n",
      "\n",
      "5 classic11.wav\n",
      "Perfect 5: 15.0 %\n",
      "Big three: 1.67 %\n",
      "Small 1.67 %\n",
      "Stable: 1.67 %\n",
      "Other 81.67 %\n",
      "\n",
      "6 classic2.wav\n",
      "Perfect 5: 30.0 %\n",
      "Big three: 0.0 %\n",
      "Small 0.0 %\n",
      "Stable: 13.33 %\n",
      "Other 70.0 %\n",
      "\n",
      "7 classic3.wav\n",
      "Perfect 5: 16.67 %\n",
      "Big three: 0.0 %\n",
      "Small 1.67 %\n",
      "Stable: 0.0 %\n",
      "Other 81.67 %\n",
      "\n",
      "8 classic4.wav\n",
      "Perfect 5: 10.0 %\n",
      "Big three: 3.33 %\n",
      "Small 10.0 %\n",
      "Stable: 3.33 %\n",
      "Other 76.67 %\n",
      "\n",
      "9 classic5.wav\n",
      "Perfect 5: 16.67 %\n",
      "Big three: 0.0 %\n",
      "Small 0.0 %\n",
      "Stable: 2.78 %\n",
      "Other 83.33 %\n",
      "\n",
      "10 classic6.wav\n",
      "Perfect 5: 30.0 %\n",
      "Big three: 0.0 %\n",
      "Small 1.67 %\n",
      "Stable: 10.0 %\n",
      "Other 68.33 %\n",
      "\n",
      "11 classic7.wav\n",
      "Perfect 5: 30.0 %\n",
      "Big three: 0.0 %\n",
      "Small 0.0 %\n",
      "Stable: 13.33 %\n",
      "Other 70.0 %\n",
      "\n",
      "12 classic8.wav\n",
      "Perfect 5: 20.93 %\n",
      "Big three: 0.0 %\n",
      "Small 0.0 %\n",
      "Stable: 13.95 %\n",
      "Other 79.07 %\n",
      "\n",
      "13 classic9.wav\n",
      "Perfect 5: 23.64 %\n",
      "Big three: 1.82 %\n",
      "Small 5.45 %\n",
      "Stable: 9.09 %\n",
      "Other 69.09 %\n",
      "\n",
      "14 ❤♫ 柴可夫斯基 - 舞劇【胡桃鉗】進行曲.wav\n",
      "Perfect 5: 13.33 %\n",
      "Big three: 3.33 %\n",
      "Small 11.67 %\n",
      "Stable: 3.33 %\n",
      "Other 71.67 %\n",
      "\n",
      "15 ❤♫ 羅西尼 - 歌劇「威廉.泰爾」序曲  節錄’’.wav\n",
      "Perfect 5: 13.33 %\n",
      "Big three: 0.0 %\n",
      "Small 1.67 %\n",
      "Stable: 20.0 %\n",
      "Other 85.0 %\n",
      "\n",
      "16 ❤♫ 莫札特 - G大調第13 號小夜曲K.525（01.快板）.wav\n",
      "Perfect 5: 21.57 %\n",
      "Big three: 0.0 %\n",
      "Small 5.88 %\n",
      "Stable: 3.92 %\n",
      "Other 72.55 %\n",
      "\n",
      "17 古諾小夜曲 Gounod Serenade（France）for a  Victor-Marie Hugo poem 〔Gounod 1818-1893〕.wav\n",
      "Perfect 5: 25.0 %\n",
      "Big three: 0.0 %\n",
      "Small 1.67 %\n",
      "Stable: 5.0 %\n",
      "Other 73.33 %\n",
      "\n",
      "18 夜的钢琴曲 1.wav\n",
      "Perfect 5: 13.33 %\n",
      "Big three: 1.67 %\n",
      "Small 0.0 %\n",
      "Stable: 6.67 %\n",
      "Other 85.0 %\n",
      "\n",
      "19 夜的钢琴曲 2.wav\n",
      "Perfect 5: 16.67 %\n",
      "Big three: 0.0 %\n",
      "Small 1.67 %\n",
      "Stable: 0.0 %\n",
      "Other 81.67 %\n",
      "\n",
      "20 托塞里小夜曲　Tosell Serenade（ITALY）.wav\n",
      "Perfect 5: 21.67 %\n",
      "Big three: 0.0 %\n",
      "Small 6.67 %\n",
      "Stable: 0.0 %\n",
      "Other 71.67 %\n",
      "\n",
      "21 海軍起錨進行曲 Anchors Aweigh March.wav\n",
      "Perfect 5: 25.0 %\n",
      "Big three: 0.0 %\n",
      "Small 0.0 %\n",
      "Stable: 30.0 %\n",
      "Other 75.0 %\n",
      "\n",
      "22 蕭邦夜曲no.20小提琴鋼琴合奏.wav\n",
      "Perfect 5: 30.0 %\n",
      "Big three: 0.0 %\n",
      "Small 0.0 %\n",
      "Stable: 13.33 %\n",
      "Other 70.0 %\n",
      "\n",
      "23 西班牙進行曲.wav\n",
      "Perfect 5: 13.33 %\n",
      "Big three: 1.67 %\n",
      "Small 0.0 %\n",
      "Stable: 6.67 %\n",
      "Other 85.0 %\n",
      "\n",
      "24 貝多芬月光奏鳴曲第3樂章.wav\n",
      "Perfect 5: 15.0 %\n",
      "Big three: 1.67 %\n",
      "Small 5.0 %\n",
      "Stable: 3.33 %\n",
      "Other 78.33 %\n",
      "\n"
     ]
    }
   ],
   "source": [
    "## Chord progression\n",
    "for idx in range(len(sleeping_music)):\n",
    "    perfect = 0; same = 0; non = 0; big3 = 0; small3 = 0\n",
    "    perfect_ = 0; same_ = 0; non_ = 0; big3_ = 0; small3_ = 0\n",
    "    for i in range(len(sleeping_key[idx])):\n",
    "        if sleeping_key[idx][i:i+2] in perfect_five:\n",
    "            perfect = perfect+1\n",
    "        elif sleeping_key[idx][i:i+2] in big_three:\n",
    "            big3 = big3+1\n",
    "        elif sleeping_key[idx][i:i+2] in small_three:\n",
    "            small3 = small3+1\n",
    "        else:\n",
    "            non = non+1\n",
    "    for i in range(len(sleeping_key[idx])):\n",
    "        if sleeping_key[idx][i:i+3] in same_pitch:\n",
    "            same = same+1\n",
    "    try:\n",
    "        perfect_ = round(perfect/len(sleeping_key[idx]) *100,2)\n",
    "        same_ = round(same/len(sleeping_key[idx]) *100,2)\n",
    "        non_ = round(non/len(sleeping_key[idx]) *100,2)\n",
    "        big3_ = round(big3/len(sleeping_key[idx]) *100,2)\n",
    "        small3_ = round(small3/len(sleeping_key[idx]) *100,2)\n",
    "    except:\n",
    "        pass\n",
    "    print(idx,sleeping_music[idx])\n",
    "    print(\"Perfect 5:\", perfect_, '%')\n",
    "    print(\"Big three:\",big3_, '%')\n",
    "    print(\"Small\",small3_, '%')\n",
    "    print(\"Stable:\",same_, '%')\n",
    "    print(\"Other\",non_, '%')\n",
    "    print()"
   ]
  },
  {
   "cell_type": "code",
   "execution_count": 119,
   "metadata": {},
   "outputs": [
    {
     "name": "stdout",
     "output_type": "stream",
     "text": [
      "['D#(E-)', 'B', 'F#', 'B', 'F#', 'F#', 'G#', 'B', 'G#', 'B', 'G#', 'B', 'B', 'B', 'G#', 'G#', 'G#', 'E', 'G#', 'F#', 'B', 'B', 'F#', 'F#', 'F#', 'F#', 'B', 'B', 'F#', 'B', 'B', 'E', 'F#', 'F#', 'F#', 'B', 'F#', 'E', 'B', 'F#', 'B', 'B', 'B', 'B', 'B', 'B', 'B', 'B', 'B', 'B', 'B', 'B', 'F#', 'B', 'B', 'B', 'B', 'F#', 'B', 'B', 'F#', 'B', 'F#', 'B', 'B', 'F#', 'B', 'F#', 'B', 'B', 'E', 'B', 'B', 'C', 'C', 'B', 'C', 'B', 'F', 'C', 'C', 'B', 'D#(E-)', 'C', 'C', 'B', 'B', 'B', 'E', 'E', 'C', 'C', 'B', 'B', 'C', 'C', 'G', 'F', 'E', 'F', 'F', 'F', 'B', 'E', 'B', 'E', 'F', 'B', 'G#', 'E', 'E', 'B', 'E', 'G#', 'B', 'D#(E-)', 'F#', 'E', 'B', 'E', 'E', 'F#', 'E', 'E', 'E', 'B', 'B', 'B', 'E', 'E', 'E', 'G#', 'F', 'F', 'E', 'G#', 'E', 'G#', 'G#', 'E', 'E', 'E', 'C#', 'C#', 'E', 'E', 'E', 'D#(E-)', 'E', 'F', 'E', 'B', 'G#', 'G#', 'G#', 'E', 'E', 'G#', 'G#', 'F', 'G#', 'C#', 'E', 'F', 'F#', 'A#(B-)', 'B', 'G', 'F#', 'G#', 'E', 'G#', 'G#', 'F', 'E', 'G#', 'F', 'G#', 'C#', 'G#', 'C#', 'G#', 'G#', 'G#', 'E', 'F', 'E', 'E', 'G#', 'E', 'B', 'G#', 'E', 'G#', 'E', 'G#', 'C#', 'G#', 'E', 'G#', 'F#', 'E', 'B', 'B', 'B', 'B', 'G#', 'E', 'B', 'B', 'B', 'F#', 'C#', 'A#(B-)', 'B', 'C#', 'B', 'C#', 'B', 'F#', 'A#(B-)', 'A#(B-)', 'B', 'F#', 'B', 'F#', 'F#', 'E', 'A#(B-)', 'F#', 'F#', 'A', 'E', 'E', 'B', 'E', 'A#(B-)', 'A#(B-)', 'B', 'B', 'B', 'B', 'B', 'E', 'C', 'F', 'C', 'C', 'C', 'C', 'B', 'B', 'F', 'B', 'C', 'B', 'E', 'B', 'B', 'B', 'C', 'F', 'B', 'B', 'E', 'G#', 'B', 'G#', 'B', 'B', 'D#(E-)', 'D#(E-)', 'E', 'E', 'E', 'B', 'C', 'E', 'B', 'G#', 'G#', 'B', 'B', 'B', 'F', 'G#', 'F#', 'E', 'B', 'B', 'B', 'B', 'B', 'E', 'B', 'G', 'B', 'E', 'A', 'B', 'B', 'F#', 'F#', 'E', 'E', 'E', 'E', 'E', 'E', 'B', 'E', 'E', 'G#', 'E', 'E', 'E', 'E', 'E', 'E', 'B', 'B', 'B', 'F#', 'F#', 'F#', 'E', 'E', 'E', 'F#', 'E', 'B', 'F#', 'B', 'B', 'B', 'E', 'E', 'E', 'E', 'E', 'E', 'E', 'E', 'E', 'E', 'E', 'E', 'B', 'B', 'E', 'F#', 'A', 'C#', 'F', 'F', 'F', 'F#', 'G', 'F', 'D', 'C#', 'D', 'C#', 'C#', 'G', 'B', 'A', 'A#(B-)', 'E', 'F', 'G#', 'C#', 'E', 'C', 'F#', 'F#', 'F#', 'G', 'C', 'E', 'C#', 'C#', 'C#', 'C', 'C#', 'C', 'D#(E-)', 'C#', 'B', 'A', 'G#', 'E', 'E', 'E', 'E', 'E', 'C#', 'C#', 'A', 'C', 'G#', 'G#', 'D#(E-)', 'D#(E-)', 'C#', 'C#', 'E', 'D#(E-)', 'D#(E-)', 'G#', 'G#', 'G#', 'C', 'G#', 'G#', 'G#', 'G#', 'G#', 'C', 'G#', 'G#', 'C#', 'D#(E-)', 'G#', 'G#', 'G#', 'G#', 'G#', 'G#', 'G', 'G#', 'A', 'G#', 'F#', 'E', 'B', 'F', 'B', 'D#(E-)', 'B', 'F#', 'F#', 'G#', 'G#', 'E', 'G#', 'G#', 'A', 'B', 'G#', 'G#', 'D#(E-)', 'F#', 'E', 'A#(B-)', 'E', 'G', 'B', 'B', 'E', 'F#', 'G#', 'A', 'D#(E-)', 'B', 'C#', 'E', 'D#(E-)', 'D#(E-)', 'G#', 'E', 'G#', 'C#', 'D#(E-)', 'E', 'F#', 'G#', 'C#', 'A', 'F#', 'C#', 'C#', 'C#', 'A', 'A#(B-)', 'B', 'C', 'C#', 'E', 'E', 'D#(E-)', 'F#', 'F#', 'E', 'G#', 'E', 'G#', 'E', 'B', 'G#', 'E', 'E', 'F#', 'A#(B-)', 'A#(B-)', 'B', 'B', 'C#', 'D#(E-)', 'E', 'F#', 'B', 'A', 'D#(E-)', 'B', 'C#', 'D#(E-)', 'D#(E-)', 'B', 'G#', 'A', 'E', 'G#', 'B', 'G#', 'G#', 'F#', 'C#', 'C', 'C#', 'D#(E-)', 'B', 'F#', 'E', 'E', 'F#', 'G#', 'A', 'B', 'C#', 'E', 'E', 'E', 'B', 'E', 'E', 'E', 'G#', 'G#', 'E', 'G#', 'E', 'E', 'E', 'E', 'B', 'E', 'E', 'F#', 'D#(E-)', 'A', 'G#', 'E', 'B', 'B', 'F#', 'F#', 'E', 'E', 'B', 'E', 'B', 'B', 'E', 'E', 'G#', 'G#', 'G#', 'G#', 'E', 'A', 'A', 'E', 'E', 'B', 'F#', 'A', 'A', 'E', 'G#', 'E', 'E', 'F#', 'E', 'F', 'F', 'G#', 'F', 'A', 'G#', 'A', 'G#', 'F', 'F', 'A', 'G#', 'F', 'F', 'D', 'F', 'G', 'F', 'F', 'D', 'F', 'E', 'E', 'G#', 'G#', 'E', 'E', 'E', 'C#', 'G#', 'C#', 'G#', 'C#', 'B', 'E', 'B', 'B', 'A#(B-)', 'F#', 'E', 'E', 'E', 'E', 'G#', 'E', 'G#', 'C#', 'E', 'E', 'G#', 'C#', 'G#', 'F#', 'E', 'E', 'E', 'E', 'E', 'E', 'G#', 'G#', 'E', 'G#', 'G#', 'E', 'E', 'E', 'C#', 'G#', 'C#', 'B', 'F#', 'B', 'F#', 'F#', 'F#', 'F#', 'F#', 'C#', 'G#', 'F#', 'B', 'A', 'B', 'C#', 'E', 'G#', 'A#(B-)', 'B', 'A#(B-)', 'B', 'B', 'C#', 'B', 'B', 'F#', 'A#(B-)', 'B', 'E', 'B', 'C#', 'F#', 'C#', 'B', 'E', 'B', 'E', 'B', 'B', 'B', 'B', 'B', 'F', 'B', 'B', 'C', 'E', 'E', 'F', 'C', 'C', 'B', 'C', 'C', 'C', 'D#(E-)', 'F#', 'D#(E-)', 'B', 'B', 'B', 'B', 'B', 'B', 'C', 'B', 'B', 'B', 'B', 'G#', 'E', 'D#(E-)', 'D#(E-)', 'F#', 'F#', 'F', 'E', 'E', 'E', 'F', 'B', 'G#', 'E', 'E', 'E', 'E', 'E', 'E', 'E', 'E', 'E', 'E', 'E', 'G#', 'E', 'F', 'F#', 'F#', 'F', 'E', 'E', 'E', 'E', 'E', 'E', 'E', 'E', 'E', 'F#', 'E', 'G#', 'G#', 'G#', 'B', 'F#', 'B', 'E', 'G#', 'E', 'B', 'E', 'B', 'G#', 'E', 'A', 'F#', 'A', 'F#', 'D', 'F#', 'A', 'A', 'F#', 'E', 'E', 'E', 'E', 'B', 'B', 'B', 'G#', 'A', 'A', 'F#', 'A', 'A', 'F#', 'F#', 'F#', 'A', 'A', 'E', 'E', 'G#', 'E', 'E', 'E', 'E', 'E', 'G#', 'E', 'F#', 'F#', 'E', 'E', 'G', 'E', 'E', 'G#', 'B', 'G#', 'E', 'D#(E-)', 'B', 'E', 'E', 'E', 'G', 'E', 'G', 'G', 'E', 'E', 'B', 'G#', 'B', 'B', 'E', 'B', 'B', 'B', 'B', 'B', 'E', 'E', 'E', 'G#', 'E', 'B', 'B', 'E', 'F#', 'C#', 'F#', 'C#', 'F#', 'F#', 'B', 'E', 'G#', 'E', 'E', 'E', 'E', 'D#(E-)', 'G#', 'A', 'A', 'A', 'F#', 'A', 'A', 'F#', 'F#', 'F#', 'G#', 'G#', 'G#', 'B', 'F#', 'E', 'G#', 'E', 'E', 'B', 'E', 'E', 'C', 'G#', 'B', 'E', 'B', 'E', 'G#', 'C#', 'E', 'E', 'E', 'B', 'B', 'B', 'B', 'B', 'B', 'A', 'B', 'B', 'B', 'E', 'C', 'B', 'B', 'D#(E-)', 'E', 'F#', 'F#', 'G#', 'G#', 'B', 'B', 'A#(B-)', 'B', 'G#', 'G#', 'B', 'E', 'F#', 'G#', 'G#', 'A', 'B', 'B', 'E', 'D#(E-)', 'E', 'E', 'F#', 'E', 'F#', 'F#', 'D#(E-)', 'E', 'B', 'E', 'B', 'E', 'F#', 'E', 'B', 'F', 'E', 'E', 'E', 'B', 'B', 'C', 'B', 'B', 'E', 'E', 'E', 'E', 'E', 'E', 'B', 'B', 'E', 'E', 'E', 'E', 'E', 'B', 'E', 'D#(E-)', 'G#', 'B', 'E', 'E', 'A#(B-)', 'E', 'B', 'G#', 'E', 'B', 'G#', 'E', 'B', 'E', 'B', 'E', 'E', 'B', 'G#', 'E', 'E', 'E', 'E', 'G#', 'E', 'F', 'E', 'E', 'E', 'E', 'E', 'E', 'B', 'B', 'B', 'E', 'E', 'E', 'E', 'E', 'B', 'B', 'B', 'B', 'B', 'B', 'E', 'E', 'E', 'B', 'E', 'E', 'E', 'E', 'B', 'C', 'G#', 'C', 'C', 'E', 'F', 'C', 'C', 'C', 'A', 'F', 'E', 'E', 'C', 'E', 'F', 'A', 'C', 'C', 'F', 'C#', 'E', 'E', 'F', 'E', 'F', 'C#']\n"
     ]
    }
   ],
   "source": [
    "print(pitch[13])"
   ]
  },
  {
   "cell_type": "code",
   "execution_count": 17,
   "metadata": {},
   "outputs": [
    {
     "name": "stdout",
     "output_type": "stream",
     "text": [
      "0 [[['E'], 170], [['A'], 151], [['C'], 110], [['B'], 86], [['G#'], 56], [['D#(E-)'], 55], [['D'], 53], [['G'], 41], [['F'], 30], [['A#(B-)'], 20], [['C#'], 3], [['F#'], 1]]\n",
      "\n",
      "1 [[['C#'], 236], [['F'], 129], [['G#'], 105], [['A#(B-)'], 71], [['D#(E-)'], 65], [['C'], 50], [['F#'], 38], [['G'], 5], [['B'], 3], [['D'], 2], [['E'], 1], [['A'], 1]]\n",
      "\n",
      "2 [[['A#(B-)'], 28], [['G#'], 25], [['F'], 18], [['D#(E-)'], 16], [['G'], 15], [['C'], 12], [['F#'], 11], [['C#'], 4], [['E'], 3], [['D'], 2]]\n",
      "\n",
      "3 [[['G'], 284], [['D'], 243], [['C'], 216], [['A'], 202], [['B'], 189], [['E'], 189], [['F'], 128], [['F#'], 45], [['A#(B-)'], 40], [['C#'], 33], [['G#'], 20], [['D#(E-)'], 6]]\n",
      "\n",
      "4 [[['D#(E-)'], 120], [['F'], 105], [['G'], 89], [['C'], 65], [['D'], 64], [['A#(B-)'], 50], [['B'], 34], [['G#'], 31], [['A'], 24], [['C#'], 23], [['F#'], 6], [['E'], 3]]\n",
      "\n",
      "5 [[['C#'], 164], [['G#'], 153], [['F#'], 143], [['E'], 93], [['D#(E-)'], 75], [['B'], 70], [['C'], 61], [['A'], 50], [['G'], 41], [['A#(B-)'], 24], [['D'], 23], [['F'], 21]]\n",
      "\n",
      "6 [[['C#'], 164], [['G#'], 153], [['F#'], 143], [['E'], 93], [['D#(E-)'], 75], [['B'], 70], [['C'], 61], [['A'], 50], [['G'], 41], [['A#(B-)'], 24], [['D'], 23], [['F'], 21]]\n",
      "\n",
      "7 [[['C#'], 164], [['G#'], 153], [['F#'], 143], [['E'], 93], [['D#(E-)'], 75], [['B'], 70], [['C'], 61], [['A'], 50], [['G'], 41], [['A#(B-)'], 24], [['D'], 23], [['F'], 21]]\n",
      "\n",
      "8 [[['A#(B-)'], 121], [['C#'], 90], [['F#'], 87], [['G#'], 87], [['D#(E-)'], 71], [['A'], 71], [['B'], 63], [['D'], 40], [['F'], 34], [['E'], 29], [['C'], 22], [['G'], 16]]\n",
      "\n",
      "9 [[['F#'], 263], [['D'], 244], [['A'], 173], [['E'], 166], [['C#'], 160], [['B'], 132], [['G'], 70], [['F'], 52], [['G#'], 43], [['A#(B-)'], 31], [['C'], 24], [['D#(E-)'], 20]]\n",
      "\n",
      "10 [[['A'], 427], [['E'], 192], [['D'], 176], [['G'], 106], [['C'], 95], [['F'], 91], [['A#(B-)'], 40], [['F#'], 30], [['B'], 26], [['C#'], 26], [['G#'], 26], [['D#(E-)'], 21]]\n",
      "\n",
      "11 [[['A#(B-)'], 121], [['C#'], 90], [['F#'], 87], [['G#'], 87], [['D#(E-)'], 71], [['A'], 71], [['B'], 63], [['D'], 40], [['F'], 34], [['E'], 29], [['C'], 22], [['G'], 16]]\n",
      "\n",
      "12 [[['F#'], 263], [['D'], 244], [['A'], 173], [['E'], 166], [['C#'], 160], [['B'], 132], [['G'], 70], [['F'], 52], [['G#'], 43], [['A#(B-)'], 31], [['C'], 24], [['D#(E-)'], 20]]\n",
      "\n",
      "13 [[['A#(B-)'], 122], [['C#'], 88], [['F#'], 87], [['G#'], 85], [['A'], 70], [['D#(E-)'], 69], [['B'], 64], [['D'], 38], [['F'], 34], [['E'], 27], [['C'], 23], [['G'], 14]]\n",
      "\n",
      "14 [[['F#'], 263], [['D'], 244], [['A'], 173], [['E'], 166], [['C#'], 160], [['B'], 132], [['G'], 70], [['F'], 52], [['G#'], 43], [['A#(B-)'], 31], [['C'], 24], [['D#(E-)'], 20]]\n",
      "\n",
      "15 [[['E'], 311], [['B'], 245], [['G#'], 144], [['F#'], 108], [['C#'], 53], [['F'], 49], [['C'], 47], [['A'], 42], [['D#(E-)'], 35], [['A#(B-)'], 18], [['G'], 13], [['D'], 5]]\n",
      "\n",
      "16 [[['A'], 386], [['D'], 167], [['E'], 146], [['C#'], 129], [['F#'], 129], [['B'], 114], [['G'], 48], [['G#'], 42], [['C'], 22], [['A#(B-)'], 20], [['D#(E-)'], 15], [['F'], 3]]\n",
      "\n",
      "17 [[['D'], 127], [['A'], 123], [['F'], 114], [['G'], 85], [['C'], 74], [['E'], 63], [['A#(B-)'], 53], [['C#'], 18], [['B'], 4], [['G#'], 2], [['D#(E-)'], 1]]\n",
      "\n",
      "18 [[['G#'], 342], [['C#'], 233], [['D#(E-)'], 130], [['E'], 112], [['A'], 101], [['F#'], 96], [['C'], 55], [['D'], 40], [['F'], 40], [['B'], 37], [['A#(B-)'], 23], [['G'], 19]]\n",
      "\n",
      "19 [[['C#'], 256], [['D#(E-)'], 218], [['G#'], 198], [['A'], 82], [['E'], 70], [['B'], 68], [['F#'], 63], [['D'], 55], [['G'], 38], [['C'], 31], [['F'], 19], [['A#(B-)'], 15]]\n",
      "\n"
     ]
    }
   ],
   "source": [
    "## Check if it has a dominant key\n",
    "for idx in range(len(sleeping_music)):\n",
    "    print(idx, n_gram(pitch[idx], 1))\n",
    "    print()"
   ]
  },
  {
   "cell_type": "code",
   "execution_count": null,
   "metadata": {},
   "outputs": [],
   "source": []
  },
  {
   "cell_type": "code",
   "execution_count": null,
   "metadata": {},
   "outputs": [],
   "source": [
    "# o_env = librosa.onset.onset_strength(y1, sr=sr)\n",
    "# times = librosa.frames_to_time(np.arange(len(o_env)), sr=sr)\n",
    "# onset_frames = librosa.onset.onset_detect(onset_envelope=o_env, sr=sr)\n",
    "\n",
    "# import matplotlib.pyplot as plt\n",
    "# D = np.abs(librosa.stft(y1))\n",
    "# plt.figure()\n",
    "# ax1 = plt.subplot(2, 1, 1)\n",
    "# librosa.display.specshow(librosa.amplitude_to_db(D, ref=np.max),\n",
    "#                           x_axis='time', y_axis='log')\n",
    "# plt.title('Power spectrogram')\n",
    "# plt.subplot(2, 1, 2, sharex=ax1)\n",
    "# plt.plot(times, o_env, label='Onset strength')\n",
    "# plt.vlines(times[onset_frames], 0, o_env.max(), color='r', alpha=0.9,\n",
    "#             linestyle='--', label='Onsets')\n",
    "# plt.axis('tight')\n",
    "# plt.legend(frameon=True, fram1ealpha=0.75)"
   ]
  },
  {
   "cell_type": "code",
   "execution_count": 37,
   "metadata": {},
   "outputs": [
    {
     "data": {
      "image/png": "[encoded data removed]",
      "text/plain": [
       "<Figure size 1080x360 with 2 Axes>"
      ]
     },
     "metadata": {},
     "output_type": "display_data"
    }
   ],
   "source": [
    "# for i in range(2):\n",
    "# y,sr = librosa.load('./test/soda/'+ clip_list2[i])    \n",
    "b = librosa.feature.chroma_stft(y=y1, sr=sr,  n_fft=1024, hop_length=512)\n",
    "plt.figure(figsize=(15, 5))\n",
    "librosa.display.specshow(b, y_axis='chroma', x_axis='time')\n",
    "plt.colorbar()\n",
    "plt.title('Chromagram')\n",
    "plt.tight_layout()"
   ]
  },
  {
   "cell_type": "code",
   "execution_count": null,
   "metadata": {},
   "outputs": [],
   "source": [
    "# ## split audio\n",
    "# def chunk_wav(file, chunk_ms,folder, title):\n",
    "#     chunks = make_chunks(file, chunk_ms)\n",
    "#     # Export all of the individual chunks as wav files\n",
    "#     for i, chunk in enumerate(chunks):\n",
    "#         chunk_name = os.path.join(\"./test\", folder,\"{0}_chunk{1}.wav\".format(title, i))\n",
    "#         librosa.output.write_wav(chunk_name, chunk, sr)\n"
   ]
  }
 ],
 "metadata": {
  "kernelspec": {
   "display_name": "Python 3",
   "language": "python",
   "name": "python3"
  },
  "language_info": {
   "codemirror_mode": {
    "name": "ipython",
    "version": 3
   },
   "file_extension": ".py",
   "mimetype": "text/x-python",
   "name": "python",
   "nbconvert_exporter": "python",
   "pygments_lexer": "ipython3",
   "version": "3.6.6"
  }
 },
 "nbformat": 4,
 "nbformat_minor": 2
}
