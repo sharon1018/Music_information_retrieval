{
 "cells": [
  {
   "cell_type": "code",
   "execution_count": 11,
   "metadata": {},
   "outputs": [
    {
     "name": "stdout",
     "output_type": "stream",
     "text": [
      "\n"
     ]
    }
   ],
   "source": [
    "import random\n",
    "import math\n",
    "import numpy as np\n",
    "import Parsing_midi as pm\n",
    "import Init_chromo as init\n",
    "import mido\n",
    "from mido import Message, MidiFile, MidiTrack\n",
    "from collections import Counter\n",
    "import copy\n",
    "import matplotlib.pyplot as plt\n",
    "from itertools import combinations # product: 排列\n",
    "\n",
    "\"\"\"\n",
    "## import function\n",
    "\n",
    "- Parsing_midi\n",
    "    - get_midi\n",
    "    - get_pitch\n",
    "    - parse_midi\n",
    "    - separate_phrase\n",
    "\n",
    "- Init_chromo\n",
    "    - shift_note\n",
    "    - merge_duplicate_note\n",
    "    - extend_duration\n",
    "\"\"\"\n",
    "print()"
   ]
  },
  {
   "cell_type": "markdown",
   "metadata": {},
   "source": [
    "### Output to midi file"
   ]
  },
  {
   "cell_type": "code",
   "execution_count": 12,
   "metadata": {},
   "outputs": [],
   "source": [
    "def to_midi_file(inputfile, program, outputfile):\n",
    "    ## initialize\n",
    "    mid = MidiFile()\n",
    "    track = MidiTrack()\n",
    "    mid.tracks.append(track)\n",
    "    ## add message\n",
    "    track.append(Message('program_change', program=program, time=0))\n",
    "    for i in range(len(inputfile)):\n",
    "        track.append(Message('note_on', note=inputfile[i].note, velocity=inputfile[i].velocity, time=inputfile[i].time))\n",
    "    mid.save(outputfile)\n",
    "    return True"
   ]
  },
  {
   "cell_type": "markdown",
   "metadata": {},
   "source": [
    "### Seperate phrase\n",
    "- one bar = 1920 (4 beats)\n",
    "- sliding window = 7680 (4 bar)\n",
    "- Parameters:\n",
    "    - base\n",
    "    - midi list\n",
    "    - threshold"
   ]
  },
  {
   "cell_type": "code",
   "execution_count": 13,
   "metadata": {},
   "outputs": [],
   "source": [
    "midi_list = pm.get_midi('MidiSample/sky.mid', 0)"
   ]
  },
  {
   "cell_type": "code",
   "execution_count": 14,
   "metadata": {},
   "outputs": [],
   "source": [
    "def trans_note_list(song):\n",
    "    return [song[i].note for i in range(len(song))]\n",
    "\n",
    "note_msg, midi_msg = pm.separate_song(midi_list, 15360)\n",
    "parent = midi_msg[0]  # change here for testing\n",
    "\n",
    "def flatten_list(midi_list):\n",
    "    return [item for sublist in midi_list for item in sublist]"
   ]
  },
  {
   "cell_type": "code",
   "execution_count": 15,
   "metadata": {},
   "outputs": [
    {
     "data": {
      "text/plain": [
       "True"
      ]
     },
     "execution_count": 15,
     "metadata": {},
     "output_type": "execute_result"
    }
   ],
   "source": [
    "## transform to C major #-3\n",
    "for i in range(len(parent)):\n",
    "    parent[i].note = parent[i].note -3 # shift\n",
    "[parent[i].note - 9 for i in range(len(parent))]\n",
    "    \n",
    "to_midi_file(parent, 1 , 'ori.mid')"
   ]
  },
  {
   "cell_type": "code",
   "execution_count": 16,
   "metadata": {},
   "outputs": [
    {
     "data": {
      "text/plain": [
       "[[69, 69, 71, 71],\n",
       " [72, 72, 71, 71, 72, 72, 76, 76],\n",
       " [71, 71, 64, 64],\n",
       " [69, 69, 67, 67, 69, 69, 72, 72],\n",
       " [67, 67, 64, 64, 64, 64],\n",
       " [65, 65, 64, 64, 65, 65, 72, 72],\n",
       " [64, 64, 72, 72, 72, 72, 72, 72],\n",
       " [71, 71, 66, 66, 71, 71]]"
      ]
     },
     "execution_count": 16,
     "metadata": {},
     "output_type": "execute_result"
    }
   ],
   "source": [
    "## original\n",
    "note_msg, midi_msg = pm.separate_song(parent, 1920)\n",
    "origin_note = [trans_note_list(midi_msg[i]) for i in range(len(midi_msg))]\n",
    "(origin_note)"
   ]
  },
  {
   "cell_type": "markdown",
   "metadata": {},
   "source": [
    "### Evolutionary algorithmn\n",
    "- selection\n",
    "- crossover\n",
    "- mutation\n",
    "- fitness"
   ]
  },
  {
   "cell_type": "code",
   "execution_count": 17,
   "metadata": {},
   "outputs": [],
   "source": [
    "pitch_ary = [[0,1,0],[-1,0,7],[0,-1,2],[1,0,9],[0,1,4],[-1,0,11],[0,-1,6], [1,0,1], [0,1,8],[-1,0,3],[0,-1,10],[1,0,5]]\n",
    "\n",
    "## Get CE \n",
    "def count_unique(ary):\n",
    "    u = []\n",
    "    unique = [i for i in ary if i not in u]\n",
    "    return unique, len(unique)\n",
    "\n",
    "def count_CE(notes_seq):\n",
    "    note_seq1, Dab = count_unique(notes_seq)\n",
    "    sum_dp = 0\n",
    "    for pij in note_seq1:\n",
    "        dij = 1  # duration\n",
    "        sum_dp += np.array(dij * pij)  \n",
    "    CE = sum_dp/Dab\n",
    "    return CE\n",
    "\n",
    "# transform to coordinate\n",
    "def trans_to_coordinate(seq):\n",
    "    ary = []\n",
    "    for i in range(len(seq)):\n",
    "        if i % 2 == 0:\n",
    "            pitch_ary[(seq[i].note) % 12][2] = seq[i].note\n",
    "            ary.append(pitch_ary[(seq[i].note) % 12])\n",
    "    return ary\n",
    "\n",
    "# get original CE\n",
    "def get_ce_list(midi_msg):\n",
    "    xyz = [trans_to_coordinate(midi_msg[i]) for i in range(len(midi_msg))]    \n",
    "    CE = [count_CE(xyz[i]) for i in range(len(xyz))]\n",
    "    return CE\n",
    "\n",
    "CE = get_ce_list(midi_msg)\n",
    "\n",
    "def count_distance(ori, new):\n",
    "    return round(np.sqrt(sum(np.array(ori - new) ** 2)), 2) "
   ]
  },
  {
   "cell_type": "code",
   "execution_count": 18,
   "metadata": {},
   "outputs": [],
   "source": [
    "## Selection\n",
    "def get_fitness_score(midi_msg):\n",
    "    score = 0\n",
    "    for i in range(len(CE)): # 分小節計算分數\n",
    "        ## 轉換encoding\n",
    "        temp = copy.deepcopy(midi_msg)\n",
    "        note = trans_note_list(temp[i])\n",
    "        ## 計算fitness\n",
    "        _score, mid = fitness(temp[i], note, CE[i], origin_note[i]) # 一小節之分數\n",
    "        score += _score\n",
    "    return score\n",
    "\n",
    "def select_best(pop_list):\n",
    "    pop_idx = [i for i in range(len(pop_list))]\n",
    "    score = -1000; pop1 = []; pop2 = []\n",
    "    candidate = list(combinations(pop_idx, 2))\n",
    "    for i in range(len(candidate)):\n",
    "        individual1, individual2 = pop_list[candidate[i][0]], pop_list[candidate[i][1]]\n",
    "        ind_note1, ind_midi1 = pm.separate_song(individual1, 1920) \n",
    "        ind_note2, ind_midi2 = pm.separate_song(individual2, 1920) \n",
    "\n",
    "        score1 = get_fitness_score(ind_midi1)  # 多個小節\n",
    "        score2 = get_fitness_score(ind_midi2)\n",
    "\n",
    "        total_score = score1 + score2\n",
    "        if score < total_score :\n",
    "            score = total_score\n",
    "            pop1, pop2 = ind_midi1, ind_midi2\n",
    "    return pop1, pop2, score\n",
    "\n",
    "## Crossover\n",
    "def crossover(parent, pop):\n",
    "    ind1 = copy.deepcopy(parent)\n",
    "    ind2 = copy.deepcopy(pop)\n",
    "    crossover_point = random.randint(0,len(ind1))\n",
    "    while crossover_point % 2 != 0 :\n",
    "        crossover_point = random.randint(0,len(ind1))\n",
    "    pop_midi1 = ind1[ :crossover_point] + ind2[crossover_point: ]\n",
    "    pop_midi2 = ind2[ :crossover_point] + ind1[crossover_point: ]\n",
    "    return pop_midi1, pop_midi2\n",
    "    \n",
    "## Mutation\n",
    "def mutation(child): \n",
    "    temp = copy.deepcopy(child)\n",
    "    mute_point = random.randint(0,len(temp)-1)  #選擇一點做突變\n",
    "    while mute_point % 2 != 0:\n",
    "        mute_point = random.randint(0,len(temp)-1)\n",
    "    mutate_note = init.get_note(temp[mute_point].note)\n",
    "    if temp[mute_point].note + mutate_note > 50 and temp[mute_point].note + mutate_note < 90:\n",
    "        temp[mute_point].note = temp[mute_point].note + mutate_note\n",
    "        temp[mute_point + 1].note = temp[mute_point].note\n",
    "    return temp"
   ]
  },
  {
   "cell_type": "code",
   "execution_count": 19,
   "metadata": {},
   "outputs": [],
   "source": [
    "## Evaluation\n",
    "\n",
    "## base on CE get the chord name \n",
    "C_pitch = [0, -1, 2, -1, 4, 5, -1, 7, -1, 9, -1, 11]\n",
    "chord_list = [[0,4,7],[-1,-1,-1],[2,5,9],[-1,-1,-1],[4,7,11],[5,9,0],[-1,-1,-1],[7,11,2],[-1,-1,-1],[9,0,4],[-1,-1,-1],[11,2,5]]\n",
    "pitch_list = ['C','D','E','F','G','A','B']\n",
    "\n",
    "def fitness(midi_msg, note_msg, chord, ori_note): # type: list\n",
    "    score = 0\n",
    "    scale_list = [0,2,4,5,7,9,11]\n",
    "    \n",
    "    ## 看整個小節的調性變化\n",
    "    xyz_ = trans_to_coordinate(midi_msg)\n",
    "    CE_ = count_CE(xyz_)\n",
    "    dist = count_distance(chord, CE_)\n",
    "    if dist == 0.0:\n",
    "        score += 6\n",
    "    elif dist > 0 and dist <= 2:\n",
    "        score += 4\n",
    "    elif dist > 3 and dist <= 4:\n",
    "        score += 3\n",
    "    elif dist > 4:\n",
    "        score -= 10\n",
    "    if len(midi_msg) != len(ori_note):\n",
    "        score += 5\n",
    "    \n",
    "    ## get chord note\n",
    "    c = int(list(chord)[2])\n",
    "    if c % 12 in C_pitch:\n",
    "        chord = chord_list[c % 12]\n",
    "    elif c + 1 % 12 in C_pitch:\n",
    "        chord = chord_list[c + 1 % 12]\n",
    "    elif c - 1 % 12 in C_pitch:\n",
    "        chord = chord_list[c - 1 % 12]\n",
    "    \n",
    "    ## 計算單一PITCH\n",
    "    for i in range(len(midi_msg)):\n",
    "        if i % 2 == 0:\n",
    "            if midi_msg[i].note in ori_note: # keep original melody\n",
    "                score += 5\n",
    "            elif midi_msg[i].note not in ori_note:\n",
    "                score -= 1\n",
    "                \n",
    "#             if abs(midi_msg[i].note - midi_msg[i+2].note) == 4: ## major third -- to do\n",
    "#                 score += 4\n",
    "#             if abs(midi_msg[i].note - midi_msg[i+2].note) == 7: ## perfect fifth -- to do\n",
    "#                 score += 4\n",
    "            if i < len(midi_msg) - 3 and abs(midi_msg[i].note - midi_msg[i+2].note) >= 7:  ## big jump note\n",
    "                score = score - 10 \n",
    "            if i < len(midi_msg) - 3 and abs(midi_msg[i].note - midi_msg[i+2].note) == 0: \n",
    "                score = score - 5                \n",
    "            if midi_msg[i].note % 12 == chord[0]:## chord root note\n",
    "                score += 4\n",
    "            if midi_msg[i].note % 12 == chord[1]:## 2nd note\n",
    "                score += 3\n",
    "            if midi_msg[i].note % 12 == chord[2]:## 3rd note\n",
    "                score += 3               \n",
    "            if midi_msg[i].time - midi_msg[i+1].time < 65: ## 裝飾音\n",
    "                score += 4                \n",
    "            if i == 0 and midi_msg[i].note % 12 == chord[0]:  # first note\n",
    "                score += 3\n",
    "            if i == 0 and midi_msg[i].note % 12 == chord[1]:\n",
    "                score += 2\n",
    "            if i == 0 and midi_msg[i].note % 12 == chord[2]:\n",
    "                score += 2\n",
    "            if i == 0 and midi_msg[i].note % 12 not in chord: # not in chord note\n",
    "                score -= 3   \n",
    "                \n",
    "            if i == len(midi_msg)-2 and midi_msg[i].note % 12 == chord[0]:  # last note\n",
    "                score += 3\n",
    "            if i == len(midi_msg)-2 and midi_msg[i].note % 12 == chord[1]:\n",
    "                score += 2\n",
    "            if i == len(midi_msg)-2 and midi_msg[i].note % 12 == chord[2]:\n",
    "                score += 2\n",
    "            if i == len(midi_msg)-2 and midi_msg[i].note % 12 not in chord: # not in chord note\n",
    "                score -= 3\n",
    "                \n",
    "            if midi_msg[i].note % 12 not in chord: # note is not a chord note\n",
    "                score -= 2\n",
    "            if midi_msg[i].note % 12 not in scale_list:  # note not in the scale\n",
    "                score -= 10\n",
    "            \n",
    "    return score, midi_msg"
   ]
  },
  {
   "cell_type": "markdown",
   "metadata": {},
   "source": [
    "### Main Function\n",
    "- initialize 有六種組合\n",
    "- 挑分數最高的兩條做crossover, mutation 產生300種不同組合\n",
    "- 從這300條中挑選分數最高的兩條繼續演化"
   ]
  },
  {
   "cell_type": "code",
   "execution_count": null,
   "metadata": {
    "scrolled": true
   },
   "outputs": [
    {
     "name": "stdout",
     "output_type": "stream",
     "text": [
      "score 458\n",
      "score 489\n",
      "score 513\n",
      "score 527\n",
      "score 554\n",
      "score 585\n",
      "score 600\n",
      "score 616\n",
      "score 630\n",
      "score 643\n",
      "score 653\n",
      "score 666\n",
      "score 669\n",
      "score 671\n",
      "score 674\n",
      "score 674\n",
      "score 682\n",
      "score 682\n",
      "score 682\n",
      "score 685\n",
      "score 688\n",
      "score 688\n",
      "score 688\n",
      "score 688\n",
      "score 688\n",
      "score 688\n"
     ]
    }
   ],
   "source": [
    "%%time\n",
    "## MAIN\n",
    "MUTATION_RATE = 0.4\n",
    "CROSSOVER_RATE = 0.4\n",
    "GENERATIONS = 200\n",
    "count = 0; score_list = []; midi_list = []; score_list = []; temp = []\n",
    "\n",
    "## Initialize \n",
    "# 增加裝飾音\n",
    "pop1 = init.add_note(parent, 119, 1)\n",
    "pop2 = init.add_note(parent, 239, 1)\n",
    "pop3 = init.add_note(parent, 119, 1)\n",
    "pop4 = init.add_note(parent, 239, 1)\n",
    "pop5 = init.add_note(parent, 119, 1)  \n",
    "pop6 = init.add_note(parent, 59, 1)\n",
    "pop7 = init.add_note(parent, 119, 1)\n",
    "pop8 = init.add_note(parent, 59, 1)\n",
    "pop9 = init.add_note(parent, 119, 2)\n",
    "pop10 = init.add_note(parent, 59, 1)\n",
    "pop11 = init.add_note(parent, 119,2) \n",
    "pop12 = init.add_note(parent, 119, 1) \n",
    "pop13 = parent                                    # origin       \n",
    "pop14 = init.merge_duplicate_note(parent)         # 重複的切分音直接轉為連音\n",
    "pop15 = init.change_duration(parent, 120, 480, 3) # 延長音 16分音符->一拍\n",
    "pop16 = init.change_duration(parent, 240, 120, 3) # 縮短音 16分音符->8分音符\n",
    "pop17 = init.remove_note(parent, 300)             # 移除音符\n",
    "\n",
    "pop_list = [pop1, pop2, pop3, pop4, pop5, pop6, pop7, pop8, pop9, pop10, pop11, pop12, pop13, pop14, pop15, pop16, pop17]\n",
    "\n",
    "# choose 2 best candidate\n",
    "pop1, pop2, scr1 = select_best(pop_list)\n",
    "\n",
    "# flattern \n",
    "parent = flatten_list(pop1)\n",
    "pop = flatten_list(pop2)\n",
    "\n",
    "score_list.append(scr1)\n",
    "\n",
    "\n",
    "while count < GENERATIONS:\n",
    "    candidate_list = []\n",
    "  \n",
    "    # crossover, mutation * N times\n",
    "    for i in range(60):  \n",
    "        # crossover\n",
    "        crossover_rate = round(random.uniform(0, 1),1)\n",
    "        if crossover_rate < CROSSOVER_RATE:\n",
    "            crossover_c1, crossover_c2 = crossover(parent, pop)\n",
    "        else:\n",
    "            crossover_c1 = parent \n",
    "            crossover_c2 = pop\n",
    "        # mutation\n",
    "        mute_rate = round(random.uniform(0, 1),1)    \n",
    "        if mute_rate < MUTATION_RATE:  \n",
    "            mutation_c1 = mutation(crossover_c1)\n",
    "            mutation_c2 = mutation(crossover_c2)\n",
    "        else:\n",
    "#             mutation_c1 = crossover_c1\n",
    "#             mutation_c2 = crossover_c2\n",
    "            mutation_c1 = init.add_note(crossover_c1, 119, 1)\n",
    "            mutation_c2 = init.add_note(crossover_c2, 239, 1)\n",
    "        candidate_list.append(mutation_c1)\n",
    "        candidate_list.append(mutation_c2)\n",
    "        \n",
    "    # select best 2 from 300 populations   \n",
    "    parent, pop, scr2 = select_best(candidate_list)\n",
    "\n",
    "    parent = flatten_list(parent)\n",
    "    pop = flatten_list(pop)\n",
    "\n",
    "    # 先儲存一個\n",
    "    to_midi_file(parent, 1 , 'Output_midi/sky_output1_' + str(scr2) + \"_\" + str(count) + '.mid')\n",
    "    to_midi_file(pop, 1 , 'Output_midi/sky_output2_' + str(scr2) + \"_\" + str(count) + '.mid')\n",
    "\n",
    "    score_list.append(scr2)\n",
    "        \n",
    "    count += 1\n",
    "    print(\"score\", scr2)\n",
    "    \n",
    "print(\"Finish\")"
   ]
  },
  {
   "cell_type": "code",
   "execution_count": 11,
   "metadata": {
    "scrolled": false
   },
   "outputs": [
    {
     "data": {
      "image/png": "[encoded data removed]",
      "text/plain": [
       "<Figure size 432x288 with 1 Axes>"
      ]
     },
     "metadata": {
      "image/png": {
       "height": 263,
       "width": 390
      },
      "needs_background": "light"
     },
     "output_type": "display_data"
    }
   ],
   "source": [
    "plt.plot(score_list)\n",
    "plt.xlabel('generation')\n",
    "plt.ylabel('score')\n",
    "plt.show()"
   ]
  },
  {
   "cell_type": "code",
   "execution_count": null,
   "metadata": {},
   "outputs": [],
   "source": []
  },
  {
   "cell_type": "code",
   "execution_count": null,
   "metadata": {},
   "outputs": [],
   "source": []
  }
 ],
 "metadata": {
  "kernelspec": {
   "display_name": "Python 3",
   "language": "python",
   "name": "python3"
  },
  "language_info": {
   "codemirror_mode": {
    "name": "ipython",
    "version": 3
   },
   "file_extension": ".py",
   "mimetype": "text/x-python",
   "name": "python",
   "nbconvert_exporter": "python",
   "pygments_lexer": "ipython3",
   "version": "3.7.2"
  }
 },
 "nbformat": 4,
 "nbformat_minor": 2
}
