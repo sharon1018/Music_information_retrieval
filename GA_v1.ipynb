{
 "cells": [
  {
   "cell_type": "code",
   "execution_count": 2,
   "metadata": {},
   "outputs": [],
   "source": [
    "import random\n",
    "import numpy as np"
   ]
  },
  {
   "cell_type": "code",
   "execution_count": null,
   "metadata": {},
   "outputs": [],
   "source": [
    "MUTATION_RATE = 0.1\n",
    "CROSSOVER_RATE = 0.8\n",
    "GENERATIONS = \n",
    "FITNESS_VALUE = \n",
    "\n",
    "## Initialize - Generate chromosome\n",
    "\"\"\"\n",
    "input: midi sequence (16 sec ~ 4 phrases)\n",
    "- Pitch\n",
    "- Chord\n",
    "\"\"\"\n",
    "def generate_chromosome(pop):\n",
    "    \n",
    "\n",
    "## Selection\n",
    "# pop is a song list\n",
    "def select(pop, fitness):  # select one phrase\n",
    "#     pop_list = [list seperate by phrase]\n",
    "    selected_pop1 = np.random.choice(pop_list, replace=True, p=fitness())\n",
    "    selected_pop2 = np.random.choice(pop_list, replace=True, p=fitness())\n",
    "    return selected_pop1, selected_pop2\n",
    "\n",
    "## Crossover\n",
    "\"\"\"\n",
    "Parameter:\n",
    "crossover_rate\n",
    "crossover_point\n",
    "\"\"\"\n",
    "def crossover(parent, pop):\n",
    "    crossover_rate = round(random.uniform(0, 1),1)\n",
    "    crossover_point = random.randint(0,len(parent))\n",
    "    if crossover_rate < CROSSOVER_RATE:\n",
    "        pop_1 = parent[ :crossover_point] + pop[crossover_point: ]\n",
    "        pop_2 = pop[ :crossover_point] + parent[crossover_point: ]\n",
    "    ## 交換後取分數最高的進行突變\n",
    "    c1,s1 = fitness(pop_1)\n",
    "    c2,s2 = fitness(pop_2)\n",
    "    if max(s1,s2) == s1:\n",
    "        return c1 \n",
    "    if max(s1,s2) == s2:\n",
    "        return c2\n",
    "\n",
    "## Mutation\n",
    "\"\"\"\n",
    "Parameter:\n",
    "mute_rate\n",
    "mute_point\n",
    "mutate_list\n",
    "\"\"\"\n",
    "def mutation(child):\n",
    "    mute_rate = round(random.uniform(0, 1),1)\n",
    "    if mute_rate < MUTATION_RATE:\n",
    "        mute_point = random.randint(0,len(pop))  #選擇一點做突變\n",
    "        mutate_note = np.random.choice(12, 1, replace=False, p=[0.2, 0, 0.2, 0, 0.25, 0.05, 0, 0.25, 0, 0.025, 0, 0.025]) #突變之機率\n",
    "        mutate_list = [child[mute_point] + mutate_note, 0]  #選擇突變或是直接刪除  ##TODO: 相加後可能超過12->跨一八度\n",
    "        child[mute_point] = int(np.random.choice(mutate_list, 1, p=[0.7, 0.3]))\n",
    "    return child\n",
    "    \n",
    "## Evaluation\n",
    "\"\"\"\n",
    "fitness function\n",
    "\"\"\"\n",
    "def fitness(chromosome): # type: list\n",
    "    score = 0\n",
    "    ## Pitch\n",
    "    for i in range(len(chromosome)-1):\n",
    "        if chromosome[i] - chromosome[i+1] == 0:\n",
    "            score = score + 1\n",
    "        if chromosome[i] - chromosome[i+1] < 5:\n",
    "            score = score + 1\n",
    "        if chromosome[i] - chromosome[i+1] > 5:\n",
    "            score = score - 1\n",
    "            \n",
    "    ## Chord\n",
    "    return chromosome, score"
   ]
  },
  {
   "cell_type": "code",
   "execution_count": 27,
   "metadata": {},
   "outputs": [
    {
     "data": {
      "text/plain": [
       "array([-0.47107465])"
      ]
     },
     "execution_count": 27,
     "metadata": {},
     "output_type": "execute_result"
    }
   ],
   "source": [
    "# random.randint(0,1)\n",
    "np.random.randn(1)"
   ]
  },
  {
   "cell_type": "code",
   "execution_count": 36,
   "metadata": {},
   "outputs": [
    {
     "data": {
      "text/plain": [
       "0.9"
      ]
     },
     "execution_count": 36,
     "metadata": {},
     "output_type": "execute_result"
    }
   ],
   "source": [
    "round(random.uniform(0, 1),1)"
   ]
  },
  {
   "cell_type": "code",
   "execution_count": null,
   "metadata": {},
   "outputs": [],
   "source": []
  }
 ],
 "metadata": {
  "kernelspec": {
   "display_name": "Python 3",
   "language": "python",
   "name": "python3"
  },
  "language_info": {
   "codemirror_mode": {
    "name": "ipython",
    "version": 3
   },
   "file_extension": ".py",
   "mimetype": "text/x-python",
   "name": "python",
   "nbconvert_exporter": "python",
   "pygments_lexer": "ipython3",
   "version": "3.6.6"
  }
 },
 "nbformat": 4,
 "nbformat_minor": 2
}
