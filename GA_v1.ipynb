{
 "cells": [
  {
   "cell_type": "code",
   "execution_count": 1,
   "metadata": {},
   "outputs": [
    {
     "name": "stdout",
     "output_type": "stream",
     "text": [
      "7380.5\n",
      "3420.5\n"
     ]
    }
   ],
   "source": [
    "import random\n",
    "import math\n",
    "import numpy as np\n",
    "import Parsing_midi as pm\n",
    "import Init_chromo as init\n",
    "import Melody_matching as mm\n",
    "import mido\n",
    "from mido import Message, MidiFile, MidiTrack\n",
    "from collections import Counter\n",
    "import copy\n",
    "import matplotlib.pyplot as plt\n",
    "from itertools import combinations # product: 排列"
   ]
  },
  {
   "cell_type": "markdown",
   "metadata": {},
   "source": [
    "### Seperate phrase\n",
    "- one bar = 1920 (4 beats)\n",
    "- sliding window = 7680 (4 bar)\n",
    "- Parameters:\n",
    "    - base\n",
    "    - midi list\n",
    "    - threshold"
   ]
  },
  {
   "cell_type": "code",
   "execution_count": 5,
   "metadata": {},
   "outputs": [],
   "source": [
    "midi_list = pm.get_midi('MidiSample/sky.mid', 0)"
   ]
  },
  {
   "cell_type": "code",
   "execution_count": 6,
   "metadata": {},
   "outputs": [],
   "source": [
    "def trans_note_list(song):\n",
    "    note_list = []\n",
    "    for i in range(len(song)):\n",
    "        note_list.append(song[i].note)\n",
    "    return note_list\n",
    "#     return [song[i].note for i in range(len(song))]\n",
    "\n",
    "note_msg, midi_msg = pm.separate_song(midi_list, 15360)\n",
    "parent = midi_msg[1]  # change here for testing\n",
    "\n",
    "def flatten_list(midi_list):\n",
    "    return [item for sublist in midi_list for item in sublist]"
   ]
  },
  {
   "cell_type": "code",
   "execution_count": 7,
   "metadata": {},
   "outputs": [
    {
     "data": {
      "text/plain": [
       "True"
      ]
     },
     "execution_count": 7,
     "metadata": {},
     "output_type": "execute_result"
    }
   ],
   "source": [
    "## transform to C major #-3\n",
    "for i in range(len(parent)):\n",
    "    parent[i].note = parent[i].note -3 # shift    \n",
    "pm.to_midi_file(parent, 8 , 'ori.mid')"
   ]
  },
  {
   "cell_type": "code",
   "execution_count": 8,
   "metadata": {},
   "outputs": [
    {
     "data": {
      "text/plain": [
       "[[71, 71, 69, 69, 71, 71],\n",
       " [72, 72, 71, 71, 72, 72, 76, 76],\n",
       " [71, 71, 64, 64],\n",
       " [69, 69, 67, 67, 69, 69, 72, 72],\n",
       " [67, 67, 64, 64],\n",
       " [65, 65, 72, 72, 71, 71, 72, 72],\n",
       " [74, 74, 76, 76, 72, 72],\n",
       " [72, 72, 71, 71, 69, 69, 71, 71, 68, 68]]"
      ]
     },
     "execution_count": 8,
     "metadata": {},
     "output_type": "execute_result"
    }
   ],
   "source": [
    "## original\n",
    "note_msg, midi_msg = pm.separate_song(parent, 1920)\n",
    "origin_note = [trans_note_list(midi_msg[i]) for i in range(len(midi_msg))]\n",
    "(origin_note)"
   ]
  },
  {
   "cell_type": "markdown",
   "metadata": {},
   "source": [
    "### Evolutionary algorithmn\n",
    "- selection\n",
    "- crossover\n",
    "- mutation\n",
    "- fitness"
   ]
  },
  {
   "cell_type": "code",
   "execution_count": 9,
   "metadata": {},
   "outputs": [],
   "source": [
    "pitch_ary = [[0,1,0],[-1,0,7],[0,-1,2],[1,0,9],[0,1,4],[-1,0,11],[0,-1,6], [1,0,1], [0,1,8],[-1,0,3],[0,-1,10],[1,0,5]]\n",
    "\n",
    "## Get CE \n",
    "def count_unique(ary):\n",
    "    u = []\n",
    "    unique = [i for i in ary if i not in u]\n",
    "    return unique, len(unique)\n",
    "\n",
    "def count_CE(notes_seq):\n",
    "    note_seq1, Dab = count_unique(notes_seq)\n",
    "    sum_dp = 0\n",
    "    for pij in note_seq1:\n",
    "        dij = 1  # duration\n",
    "        sum_dp += np.array(dij * pij)  \n",
    "    CE = sum_dp/Dab\n",
    "    return CE\n",
    "\n",
    "# transform to coordinate\n",
    "def trans_to_coordinate(seq):\n",
    "    ary = []\n",
    "    for i in range(len(seq)):\n",
    "        if i % 2 == 0:\n",
    "            pitch_ary[(seq[i].note) % 12][2] = seq[i].note\n",
    "            ary.append(pitch_ary[(seq[i].note) % 12])\n",
    "    return ary\n",
    "\n",
    "# get original CE\n",
    "def get_ce_list(midi_msg):\n",
    "    xyz = [trans_to_coordinate(midi_msg[i]) for i in range(len(midi_msg))]    \n",
    "    CE = [count_CE(xyz[i]) for i in range(len(xyz))]\n",
    "    return CE\n",
    "CE = get_ce_list(midi_msg)\n",
    "\n",
    "def count_distance(ori, new):\n",
    "    return round(np.sqrt(sum(np.array(ori - new) ** 2)), 2) "
   ]
  },
  {
   "cell_type": "code",
   "execution_count": 10,
   "metadata": {},
   "outputs": [],
   "source": [
    "## Selection\n",
    "def get_fitness_score(midi_msg):\n",
    "    score = 0\n",
    "    for i in range(len(CE)): # 分小節計算分數\n",
    "        ## 轉換encoding\n",
    "        temp = copy.deepcopy(midi_msg)\n",
    "        note = trans_note_list(temp[i])\n",
    "        ## 計算fitness\n",
    "        _score, mid = fitness(temp[i], note, CE[i], origin_note[i]) # 一小節之分數\n",
    "        score += _score\n",
    "    return score\n",
    "\n",
    "def select_best(pop_list):\n",
    "    pop_idx = [i for i in range(len(pop_list))]\n",
    "    score = -1000; pop1 = []; pop2 = []\n",
    "    candidate = list(combinations(pop_idx, 2))\n",
    "    for i in range(len(candidate)):\n",
    "        individual1, individual2 = pop_list[candidate[i][0]], pop_list[candidate[i][1]]\n",
    "        ind_note1, ind_midi1 = pm.separate_song(individual1, 1920) \n",
    "        ind_note2, ind_midi2 = pm.separate_song(individual2, 1920) \n",
    "\n",
    "        score1 = get_fitness_score(ind_midi1)  # 多個小節\n",
    "        score2 = get_fitness_score(ind_midi2)\n",
    "\n",
    "        total_score = score1 + score2\n",
    "        if score < total_score :\n",
    "            score = total_score\n",
    "            pop1, pop2 = ind_midi1, ind_midi2\n",
    "    return pop1, pop2, score\n",
    "\n",
    "## Crossover\n",
    "def crossover(parent, pop):\n",
    "    ind1 = copy.deepcopy(parent)\n",
    "    ind2 = copy.deepcopy(pop)\n",
    "    crossover_point = random.randint(0,len(ind1))\n",
    "    while crossover_point % 2 != 0 :\n",
    "        crossover_point = random.randint(0,len(ind1))\n",
    "    pop_midi1 = ind1[ :crossover_point] + ind2[crossover_point: ]\n",
    "    pop_midi2 = ind2[ :crossover_point] + ind1[crossover_point: ]\n",
    "    return pop_midi1, pop_midi2\n",
    "    \n",
    "## Mutation\n",
    "def mutation(child): \n",
    "    temp = copy.deepcopy(child)\n",
    "    mute_point = random.randint(0,len(temp)-1)  #選擇一點做突變\n",
    "    while mute_point % 2 != 0:\n",
    "        mute_point = random.randint(0,len(temp)-1)\n",
    "    mutate_note = init.get_note(temp[mute_point].note)\n",
    "    if temp[mute_point].note + mutate_note > 50 and temp[mute_point].note + mutate_note < 90:\n",
    "        temp[mute_point].note = temp[mute_point].note + mutate_note\n",
    "        temp[mute_point + 1].note = temp[mute_point].note\n",
    "    return temp"
   ]
  },
  {
   "cell_type": "code",
   "execution_count": 40,
   "metadata": {},
   "outputs": [
    {
     "data": {
      "text/plain": [
       "1920"
      ]
     },
     "execution_count": 40,
     "metadata": {},
     "output_type": "execute_result"
    }
   ],
   "source": [
    "midi_msg[1]\n",
    "time = 0\n",
    "for i in range(len(midi_msg[1])):\n",
    "    time += midi_msg[1][i].time \n",
    "time\n"
   ]
  },
  {
   "cell_type": "code",
   "execution_count": 44,
   "metadata": {},
   "outputs": [
    {
     "data": {
      "text/plain": [
       "[<message note_on channel=0 note=72 velocity=113 time=1>,\n",
       " <message note_on channel=0 note=72 velocity=0 time=719>,\n",
       " <message note_on channel=0 note=71 velocity=113 time=1>,\n",
       " <message note_on channel=0 note=71 velocity=0 time=239>,\n",
       " <message note_on channel=0 note=72 velocity=113 time=1>,\n",
       " <message note_on channel=0 note=72 velocity=0 time=479>,\n",
       " <message note_on channel=0 note=76 velocity=113 time=1>,\n",
       " <message note_on channel=0 note=76 velocity=0 time=479>]"
      ]
     },
     "execution_count": 44,
     "metadata": {},
     "output_type": "execute_result"
    }
   ],
   "source": [
    "midi_msg[1]"
   ]
  },
  {
   "cell_type": "code",
   "execution_count": 45,
   "metadata": {},
   "outputs": [
    {
     "name": "stdout",
     "output_type": "stream",
     "text": [
      "1\n"
     ]
    },
    {
     "data": {
      "text/plain": [
       "1921"
      ]
     },
     "execution_count": 45,
     "metadata": {},
     "output_type": "execute_result"
    }
   ],
   "source": [
    "time = 0\n",
    "addnote = add_note(midi_msg[1], 59, 1)\n",
    "\n",
    "for i in range(len(addnote)):\n",
    "    time += addnote[i].time \n",
    "time"
   ]
  },
  {
   "cell_type": "code",
   "execution_count": 46,
   "metadata": {},
   "outputs": [
    {
     "data": {
      "text/plain": [
       "[<message note_on channel=0 note=72 velocity=113 time=1>,\n",
       " <message note_on channel=0 note=72 velocity=0 time=719>,\n",
       " <message note_on channel=0 note=72 velocity=100 time=1>,\n",
       " <message note_on channel=0 note=72 velocity=0 time=59>,\n",
       " <message note_on channel=0 note=71 velocity=113 time=1>,\n",
       " <message note_on channel=0 note=71 velocity=0 time=180>,\n",
       " <message note_on channel=0 note=72 velocity=113 time=1>,\n",
       " <message note_on channel=0 note=72 velocity=0 time=479>,\n",
       " <message note_on channel=0 note=76 velocity=113 time=1>,\n",
       " <message note_on channel=0 note=76 velocity=0 time=479>]"
      ]
     },
     "execution_count": 46,
     "metadata": {},
     "output_type": "execute_result"
    }
   ],
   "source": [
    "addnote"
   ]
  },
  {
   "cell_type": "code",
   "execution_count": 39,
   "metadata": {},
   "outputs": [],
   "source": [
    "# 決定裝飾音\n",
    "def get_note(note):\n",
    "    choice_list = [4, 3, -3, -4, 2, -2, 1, -1]\n",
    "    if note % 12 == 0: \n",
    "        change_note = np.random.choice(choice_list, 1, replace=False, p=[0.25, 0, 0.25, 0, 0.25, 0, 0, 0.25])\n",
    "    elif note % 12 == 2: \n",
    "        change_note = np.random.choice(choice_list, 1, replace=False, p=[0, 0.25, 0.25, 0, 0.25, 0.25, 0, 0])\n",
    "    elif note % 12 == 4: \n",
    "        change_note = np.random.choice(choice_list, 1, replace=False, p=[0, 0.25, 0, 0.25, 0, 0.25, 0.25, 0])\n",
    "    elif note % 12 == 5: \n",
    "        change_note = np.random.choice(choice_list, 1, replace=False, p=[0.25, 0, 0.25, 0, 0.25, 0, 0, 0.25])\n",
    "    elif note % 12 == 7: \n",
    "        change_note = np.random.choice(choice_list, 1, replace=False, p=[0.25, 0, 0.25, 0, 0.25, 0.25, 0, 0])\n",
    "    elif note % 12 == 9: \n",
    "        change_note = np.random.choice(choice_list, 1, replace=False, p=[0, 0.25, 0, 0.25, 0.25, 0.25, 0, 0])\n",
    "    elif note % 12 == 11: \n",
    "        change_note = np.random.choice(choice_list, 1, replace=False, p=[0, 0.25, 0, 0.25, 0, 0.25, 0.25, 0])\n",
    "    else:\n",
    "        change_note = 0\n",
    "    return int(change_note)\n",
    "\n",
    "\n"
   ]
  },
  {
   "cell_type": "code",
   "execution_count": null,
   "metadata": {},
   "outputs": [],
   "source": [
    "## TODO!!\n",
    "\n",
    "## Evaluation\n",
    "C_pitch = [0, -1, 2, -1, 4, 5, -1, 7, -1, 9, -1, 11]\n",
    "chord_list = [[0,4,7],[-1,-1,-1],[2,5,9],[-1,-1,-1],[4,7,11],[5,9,0],[-1,-1,-1],[7,11,2],[-1,-1,-1],[9,0,4],[-1,-1,-1],[11,2,5]]\n",
    "pitch_list = ['C','D','E','F','G','A','B']\n",
    "\n",
    "def fitness(midi_msg, note_msg, chord, ori_note): # type: list\n",
    "    score = 0\n",
    "    scale_list = [0,2,4,5,7,9,11]\n",
    "    ## Malody matching (40%)\n",
    "    # flattern後看\n",
    "    \n",
    "    \n",
    "    ## 看整個小節的CE變化 (30%)\n",
    "    xyz_ = trans_to_coordinate(midi_msg)\n",
    "    CE_ = count_CE(xyz_)\n",
    "    dist = count_distance(chord, CE_)\n",
    "    if dist == 0.0:\n",
    "        score += 30\n",
    "    elif dist > 0 and dist <= 2:\n",
    "        score += 25\n",
    "    elif dist > 3 and dist <= 4:\n",
    "        score += 15\n",
    "    elif dist > 4 and dist <= 8:\n",
    "        score += 5\n",
    "    else:\n",
    "        score += 0\n",
    "        \n",
    "    \n",
    "    ## get chord note\n",
    "    c = int(list(chord)[2])\n",
    "    if c % 12 in C_pitch:\n",
    "        chord = chord_list[c % 12]\n",
    "    elif c + 1 % 12 in C_pitch:\n",
    "        chord = chord_list[c + 1 % 12]\n",
    "    elif c - 1 % 12 in C_pitch:\n",
    "        chord = chord_list[c - 1 % 12]\n",
    "    \n",
    "    \n",
    "    if len(midi_msg) != len(ori_note):\n",
    "        score += 5\n",
    "    ## 計算單一PITCH和諧 (30%)\n",
    "    for i in range(len(midi_msg)):\n",
    "        if i % 2 == 0:\n",
    "            if midi_msg[i].note in ori_note: # keep original melody\n",
    "                score += 5\n",
    "            elif midi_msg[i].note not in ori_note:\n",
    "                score -= 1\n",
    "            if i < len(midi_msg) - 3 and abs(midi_msg[i].note - midi_msg[i+2].note) >= 7:  ## big jump note\n",
    "                score = score - 10 \n",
    "            if i < len(midi_msg) - 3 and abs(midi_msg[i].note - midi_msg[i+2].note) == 0: \n",
    "                score = score - 5                \n",
    "            if midi_msg[i].note % 12 == chord[0]:## chord root note\n",
    "                score += 4\n",
    "            if midi_msg[i].note % 12 == chord[1]:## 2nd note\n",
    "                score += 3\n",
    "            if midi_msg[i].note % 12 == chord[2]:## 3rd note\n",
    "                score += 3               \n",
    "            if midi_msg[i].time - midi_msg[i+1].time > 65 and midi_msg[i].time - midi_msg[i+1].time < 125:\n",
    "                score += 2                \n",
    "            if midi_msg[i].time - midi_msg[i+1].time < 65: ## 過短的音\n",
    "                score -= 4                 \n",
    "            if i == 0 and midi_msg[i].note % 12 == chord[0]:  \n",
    "                score += 3\n",
    "            if i == 0 and midi_msg[i].note % 12 == chord[1]:\n",
    "                score += 2\n",
    "            if i == 0 and midi_msg[i].note % 12 == chord[2]:\n",
    "                score += 2\n",
    "            if i == 0 and midi_msg[i].note % 12 not in chord: # not in chord note\n",
    "                score -= 3                  \n",
    "            if i == len(midi_msg)-2 and midi_msg[i].note % 12 == chord[0]:  # last note\n",
    "                score += 3\n",
    "            if i == len(midi_msg)-2 and midi_msg[i].note % 12 == chord[1]:\n",
    "                score += 2\n",
    "            if i == len(midi_msg)-2 and midi_msg[i].note % 12 == chord[2]:\n",
    "                score += 2\n",
    "            if i == len(midi_msg)-2 and midi_msg[i].note % 12 not in chord: # not in chord note\n",
    "                score -= 3\n",
    "                \n",
    "            if midi_msg[i].note % 12 not in chord: # note is not a chord note\n",
    "                score -= 2\n",
    "            if midi_msg[i].note % 12 not in scale_list:  # note not in the scale\n",
    "                score -= 10\n",
    "            \n",
    "    return score, midi_msg"
   ]
  },
  {
   "cell_type": "markdown",
   "metadata": {},
   "source": [
    "### Main Function\n",
    "- initialize 有17種組合\n",
    "- 挑分數最高的兩條做crossover, mutation 產生300種不同組合\n",
    "- 從這300條中挑選分數最高的兩條繼續演化"
   ]
  },
  {
   "cell_type": "code",
   "execution_count": 12,
   "metadata": {
    "scrolled": false
   },
   "outputs": [
    {
     "name": "stdout",
     "output_type": "stream",
     "text": [
      "GA start...\n",
      "Generation 0 : score 60\n",
      "Generation 1 : score 70\n",
      "Generation 2 : score 76\n",
      "Generation 3 : score 82\n",
      "Generation 4 : score 82\n",
      "Generation 5 : score 90\n",
      "Generation 6 : score 105\n",
      "Generation 7 : score 110\n",
      "Generation 8 : score 120\n",
      "Generation 9 : score 127\n",
      "Generation 10 : score 137\n",
      "Generation 11 : score 143\n",
      "Generation 12 : score 144\n",
      "Generation 13 : score 149\n",
      "Generation 14 : score 161\n",
      "Generation 15 : score 168\n",
      "Generation 16 : score 168\n",
      "Generation 17 : score 168\n",
      "Generation 18 : score 170\n",
      "Generation 19 : score 178\n",
      "Generation 20 : score 180\n",
      "Generation 21 : score 180\n",
      "Generation 22 : score 180\n",
      "Generation 23 : score 181\n",
      "Generation 24 : score 188\n",
      "Generation 25 : score 189\n",
      "Generation 26 : score 190\n",
      "Generation 27 : score 190\n",
      "Generation 28 : score 190\n",
      "Generation 29 : score 190\n",
      "Generation 30 : score 190\n",
      "Generation 31 : score 190\n",
      "Generation 32 : score 190\n",
      "Generation 33 : score 190\n",
      "Generation 34 : score 190\n",
      "Generation 35 : score 190\n",
      "Generation 36 : score 190\n",
      "Generation 37 : score 190\n",
      "Generation 38 : score 190\n",
      "Generation 39 : score 190\n",
      "Generation 40 : score 190\n",
      "Generation 41 : score 190\n",
      "Generation 42 : score 190\n",
      "Generation 43 : score 190\n",
      "Generation 44 : score 190\n",
      "Generation 45 : score 190\n",
      "Generation 46 : score 190\n",
      "Generation 47 : score 190\n",
      "Generation 48 : score 190\n",
      "Generation 49 : score 190\n",
      "Generation 50 : score 190\n",
      "Generation 51 : score 190\n",
      "Generation 52 : score 190\n",
      "Generation 53 : score 190\n",
      "Generation 54 : score 190\n",
      "Generation 55 : score 190\n",
      "Generation 56 : score 190\n",
      "Generation 57 : score 190\n",
      "Generation 58 : score 190\n",
      "Generation 59 : score 190\n",
      "Generation 60 : score 190\n",
      "Generation 61 : score 190\n",
      "Generation 62 : score 190\n",
      "Generation 63 : score 190\n",
      "Generation 64 : score 190\n",
      "Generation 65 : score 190\n",
      "Generation 66 : score 190\n",
      "Generation 67 : score 190\n",
      "Generation 68 : score 190\n",
      "Generation 69 : score 190\n",
      "Generation 70 : score 190\n",
      "Generation 71 : score 190\n",
      "Generation 72 : score 194\n",
      "Generation 73 : score 196\n",
      "Generation 74 : score 196\n",
      "Generation 75 : score 196\n",
      "Generation 76 : score 196\n",
      "Generation 77 : score 196\n",
      "Generation 78 : score 196\n",
      "Generation 79 : score 196\n",
      "Generation 80 : score 196\n",
      "Generation 81 : score 196\n",
      "Generation 82 : score 196\n",
      "Generation 83 : score 196\n",
      "Generation 84 : score 196\n",
      "Generation 85 : score 196\n",
      "Generation 86 : score 196\n",
      "Generation 87 : score 196\n",
      "Generation 88 : score 196\n",
      "Generation 89 : score 196\n",
      "Generation 90 : score 196\n",
      "Generation 91 : score 196\n",
      "Generation 92 : score 196\n",
      "Generation 93 : score 196\n",
      "Generation 94 : score 196\n",
      "Generation 95 : score 196\n",
      "Generation 96 : score 196\n",
      "Generation 97 : score 196\n",
      "Generation 98 : score 196\n",
      "Generation 99 : score 196\n",
      "Generation 100 : score 196\n",
      "Generation 101 : score 196\n",
      "Generation 102 : score 196\n",
      "Generation 103 : score 196\n",
      "Generation 104 : score 196\n",
      "Generation 105 : score 196\n",
      "Generation 106 : score 196\n",
      "Generation 107 : score 196\n",
      "Generation 108 : score 196\n",
      "Generation 109 : score 196\n",
      "Generation 110 : score 196\n",
      "Generation 111 : score 196\n",
      "Generation 112 : score 196\n",
      "Generation 113 : score 196\n",
      "Generation 114 : score 196\n",
      "Generation 115 : score 196\n",
      "Generation 116 : score 196\n",
      "Generation 117 : score 196\n",
      "Generation 118 : score 196\n",
      "Generation 119 : score 196\n",
      "Generation 120 : score 196\n",
      "Generation 121 : score 196\n",
      "Generation 122 : score 196\n",
      "Generation 123 : score 196\n",
      "Generation 124 : score 196\n",
      "Generation 125 : score 196\n",
      "Generation 126 : score 196\n",
      "Generation 127 : score 196\n",
      "Generation 128 : score 196\n",
      "Generation 129 : score 196\n",
      "Generation 130 : score 196\n",
      "Generation 131 : score 196\n",
      "Generation 132 : score 196\n",
      "Generation 133 : score 196\n",
      "Generation 134 : score 196\n",
      "Generation 135 : score 196\n",
      "Generation 136 : score 196\n",
      "Generation 137 : score 196\n",
      "Generation 138 : score 196\n",
      "Generation 139 : score 196\n",
      "Generation 140 : score 196\n",
      "Generation 141 : score 196\n",
      "Generation 142 : score 196\n",
      "Generation 143 : score 196\n",
      "Generation 144 : score 196\n",
      "Generation 145 : score 196\n",
      "Generation 146 : score 196\n",
      "Generation 147 : score 196\n",
      "Generation 148 : score 196\n",
      "Generation 149 : score 196\n",
      "Generation 150 : score 196\n",
      "Generation 151 : score 196\n",
      "Generation 152 : score 196\n",
      "Generation 153 : score 196\n",
      "Generation 154 : score 196\n",
      "Generation 155 : score 196\n",
      "Generation 156 : score 196\n",
      "Generation 157 : score 196\n",
      "Generation 158 : score 196\n",
      "Generation 159 : score 196\n",
      "Generation 160 : score 196\n",
      "Generation 161 : score 196\n",
      "Generation 162 : score 196\n",
      "Generation 163 : score 196\n",
      "Generation 164 : score 196\n",
      "Generation 165 : score 196\n",
      "Generation 166 : score 196\n",
      "Generation 167 : score 196\n",
      "Generation 168 : score 196\n",
      "Generation 169 : score 196\n",
      "Generation 170 : score 196\n",
      "Generation 171 : score 196\n",
      "Generation 172 : score 196\n",
      "Generation 173 : score 196\n",
      "Generation 174 : score 196\n",
      "Generation 175 : score 196\n",
      "Generation 176 : score 196\n",
      "Generation 177 : score 196\n",
      "Generation 178 : score 196\n",
      "Generation 179 : score 196\n",
      "Generation 180 : score 196\n",
      "Generation 181 : score 196\n",
      "Generation 182 : score 196\n",
      "Generation 183 : score 196\n",
      "Generation 184 : score 196\n"
     ]
    },
    {
     "ename": "KeyboardInterrupt",
     "evalue": "",
     "output_type": "error",
     "traceback": [
      "\u001b[1;31m---------------------------------------------------------------------------\u001b[0m",
      "\u001b[1;31mKeyboardInterrupt\u001b[0m                         Traceback (most recent call last)",
      "\u001b[1;32m<timed exec>\u001b[0m in \u001b[0;36m<module>\u001b[1;34m\u001b[0m\n",
      "\u001b[1;32m<ipython-input-11-4b4fd64f8c5f>\u001b[0m in \u001b[0;36mselect_best\u001b[1;34m(pop_list)\u001b[0m\n\u001b[0;32m     20\u001b[0m         \u001b[0mind_note2\u001b[0m\u001b[1;33m,\u001b[0m \u001b[0mind_midi2\u001b[0m \u001b[1;33m=\u001b[0m \u001b[0mpm\u001b[0m\u001b[1;33m.\u001b[0m\u001b[0mseparate_song\u001b[0m\u001b[1;33m(\u001b[0m\u001b[0mindividual2\u001b[0m\u001b[1;33m,\u001b[0m \u001b[1;36m1920\u001b[0m\u001b[1;33m)\u001b[0m\u001b[1;33m\u001b[0m\u001b[1;33m\u001b[0m\u001b[0m\n\u001b[0;32m     21\u001b[0m \u001b[1;33m\u001b[0m\u001b[0m\n\u001b[1;32m---> 22\u001b[1;33m         \u001b[0mscore1\u001b[0m \u001b[1;33m=\u001b[0m \u001b[0mget_fitness_score\u001b[0m\u001b[1;33m(\u001b[0m\u001b[0mind_midi1\u001b[0m\u001b[1;33m)\u001b[0m  \u001b[1;31m# 多個小節\u001b[0m\u001b[1;33m\u001b[0m\u001b[1;33m\u001b[0m\u001b[0m\n\u001b[0m\u001b[0;32m     23\u001b[0m         \u001b[0mscore2\u001b[0m \u001b[1;33m=\u001b[0m \u001b[0mget_fitness_score\u001b[0m\u001b[1;33m(\u001b[0m\u001b[0mind_midi2\u001b[0m\u001b[1;33m)\u001b[0m\u001b[1;33m\u001b[0m\u001b[1;33m\u001b[0m\u001b[0m\n\u001b[0;32m     24\u001b[0m \u001b[1;33m\u001b[0m\u001b[0m\n",
      "\u001b[1;32m<ipython-input-11-4b4fd64f8c5f>\u001b[0m in \u001b[0;36mget_fitness_score\u001b[1;34m(midi_msg)\u001b[0m\n\u001b[0;32m      7\u001b[0m         \u001b[0mnote\u001b[0m \u001b[1;33m=\u001b[0m \u001b[0mtrans_note_list\u001b[0m\u001b[1;33m(\u001b[0m\u001b[0mtemp\u001b[0m\u001b[1;33m[\u001b[0m\u001b[0mi\u001b[0m\u001b[1;33m]\u001b[0m\u001b[1;33m)\u001b[0m\u001b[1;33m\u001b[0m\u001b[1;33m\u001b[0m\u001b[0m\n\u001b[0;32m      8\u001b[0m         \u001b[1;31m## 計算fitness\u001b[0m\u001b[1;33m\u001b[0m\u001b[1;33m\u001b[0m\u001b[1;33m\u001b[0m\u001b[0m\n\u001b[1;32m----> 9\u001b[1;33m         \u001b[0m_score\u001b[0m\u001b[1;33m,\u001b[0m \u001b[0mmid\u001b[0m \u001b[1;33m=\u001b[0m \u001b[0mfitness\u001b[0m\u001b[1;33m(\u001b[0m\u001b[0mtemp\u001b[0m\u001b[1;33m[\u001b[0m\u001b[0mi\u001b[0m\u001b[1;33m]\u001b[0m\u001b[1;33m,\u001b[0m \u001b[0mnote\u001b[0m\u001b[1;33m,\u001b[0m \u001b[0mCE\u001b[0m\u001b[1;33m[\u001b[0m\u001b[0mi\u001b[0m\u001b[1;33m]\u001b[0m\u001b[1;33m,\u001b[0m \u001b[0morigin_note\u001b[0m\u001b[1;33m[\u001b[0m\u001b[0mi\u001b[0m\u001b[1;33m]\u001b[0m\u001b[1;33m)\u001b[0m \u001b[1;31m# 一小節之分數\u001b[0m\u001b[1;33m\u001b[0m\u001b[1;33m\u001b[0m\u001b[0m\n\u001b[0m\u001b[0;32m     10\u001b[0m         \u001b[0mscore\u001b[0m \u001b[1;33m+=\u001b[0m \u001b[0m_score\u001b[0m\u001b[1;33m\u001b[0m\u001b[1;33m\u001b[0m\u001b[0m\n\u001b[0;32m     11\u001b[0m     \u001b[1;32mreturn\u001b[0m \u001b[0mscore\u001b[0m\u001b[1;33m\u001b[0m\u001b[1;33m\u001b[0m\u001b[0m\n",
      "\u001b[1;32m<ipython-input-11-4b4fd64f8c5f>\u001b[0m in \u001b[0;36mfitness\u001b[1;34m(midi_msg, note_msg, chord, ori_note)\u001b[0m\n\u001b[0;32m     65\u001b[0m     \u001b[0mxyz_\u001b[0m \u001b[1;33m=\u001b[0m \u001b[0mtrans_to_coordinate\u001b[0m\u001b[1;33m(\u001b[0m\u001b[0mmidi_msg\u001b[0m\u001b[1;33m)\u001b[0m\u001b[1;33m\u001b[0m\u001b[1;33m\u001b[0m\u001b[0m\n\u001b[0;32m     66\u001b[0m     \u001b[0mCE_\u001b[0m \u001b[1;33m=\u001b[0m \u001b[0mcount_CE\u001b[0m\u001b[1;33m(\u001b[0m\u001b[0mxyz_\u001b[0m\u001b[1;33m)\u001b[0m\u001b[1;33m\u001b[0m\u001b[1;33m\u001b[0m\u001b[0m\n\u001b[1;32m---> 67\u001b[1;33m     \u001b[0mdist\u001b[0m \u001b[1;33m=\u001b[0m \u001b[0mcount_distance\u001b[0m\u001b[1;33m(\u001b[0m\u001b[0mchord\u001b[0m\u001b[1;33m,\u001b[0m \u001b[0mCE_\u001b[0m\u001b[1;33m)\u001b[0m\u001b[1;33m\u001b[0m\u001b[1;33m\u001b[0m\u001b[0m\n\u001b[0m\u001b[0;32m     68\u001b[0m     \u001b[1;32mif\u001b[0m \u001b[0mdist\u001b[0m \u001b[1;33m==\u001b[0m \u001b[1;36m0.0\u001b[0m\u001b[1;33m:\u001b[0m\u001b[1;33m\u001b[0m\u001b[1;33m\u001b[0m\u001b[0m\n\u001b[0;32m     69\u001b[0m         \u001b[0mscore\u001b[0m \u001b[1;33m+=\u001b[0m \u001b[1;36m6\u001b[0m\u001b[1;33m\u001b[0m\u001b[1;33m\u001b[0m\u001b[0m\n",
      "\u001b[1;32m<ipython-input-8-d35b42d07291>\u001b[0m in \u001b[0;36mcount_distance\u001b[1;34m(ori, new)\u001b[0m\n\u001b[0;32m     33\u001b[0m \u001b[1;33m\u001b[0m\u001b[0m\n\u001b[0;32m     34\u001b[0m \u001b[1;32mdef\u001b[0m \u001b[0mcount_distance\u001b[0m\u001b[1;33m(\u001b[0m\u001b[0mori\u001b[0m\u001b[1;33m,\u001b[0m \u001b[0mnew\u001b[0m\u001b[1;33m)\u001b[0m\u001b[1;33m:\u001b[0m\u001b[1;33m\u001b[0m\u001b[1;33m\u001b[0m\u001b[0m\n\u001b[1;32m---> 35\u001b[1;33m     \u001b[1;32mreturn\u001b[0m \u001b[0mround\u001b[0m\u001b[1;33m(\u001b[0m\u001b[0mnp\u001b[0m\u001b[1;33m.\u001b[0m\u001b[0msqrt\u001b[0m\u001b[1;33m(\u001b[0m\u001b[0msum\u001b[0m\u001b[1;33m(\u001b[0m\u001b[0mnp\u001b[0m\u001b[1;33m.\u001b[0m\u001b[0marray\u001b[0m\u001b[1;33m(\u001b[0m\u001b[0mori\u001b[0m \u001b[1;33m-\u001b[0m \u001b[0mnew\u001b[0m\u001b[1;33m)\u001b[0m \u001b[1;33m**\u001b[0m \u001b[1;36m2\u001b[0m\u001b[1;33m)\u001b[0m\u001b[1;33m)\u001b[0m\u001b[1;33m,\u001b[0m \u001b[1;36m2\u001b[0m\u001b[1;33m)\u001b[0m\u001b[1;33m\u001b[0m\u001b[1;33m\u001b[0m\u001b[0m\n\u001b[0m",
      "\u001b[1;31mKeyboardInterrupt\u001b[0m: "
     ]
    }
   ],
   "source": [
    "%%time\n",
    "## MAIN\n",
    "MUTATION_RATE = 0.4\n",
    "CROSSOVER_RATE = 0.4\n",
    "GENERATIONS = 200\n",
    "count = 0; score_list = []; midi_list = []; score_list = []; temp = []\n",
    "\n",
    "## Initialize \n",
    "# 增加裝飾音\n",
    "pop1 = init.add_note(parent, 119, 1)\n",
    "pop2 = init.add_note(parent, 239, 1)\n",
    "pop3 = init.add_note(parent, 179, 1)\n",
    "pop4 = init.add_note(parent, 239, 1)\n",
    "pop5 = init.add_note(parent, 119, 1)  \n",
    "pop6 = init.add_note(parent, 59, 1)\n",
    "pop7 = init.add_note(parent, 179, 1)\n",
    "pop8 = init.add_note(parent, 239, 1)\n",
    "pop9 = init.add_note(parent, 119, 1)\n",
    "pop10 = init.add_note(parent, 59, 1)\n",
    "pop11 = init.add_note(parent, 119,1) \n",
    "pop12 = init.add_note(parent, 179, 1) \n",
    "pop13 = parent                                    # origin       \n",
    "pop14 = init.merge_duplicate_note(parent)         # 重複的切分音直接轉為連音\n",
    "pop15 = init.change_duration(parent, 120, 480, 3) # 延長音 16分音符->一拍\n",
    "pop16 = init.change_duration(parent, 240, 120, 3) # 縮短音 16分音符->8分音符\n",
    "pop17 = init.remove_note(parent, 300)             # 移除音符\n",
    "\n",
    "pop_list = [pop1, pop2, pop3, pop4, pop5, pop6, pop7, pop8, pop9, pop10, pop11, pop12, pop13, pop14, pop15, pop16, pop17]\n",
    "\n",
    "# choose 2 best candidate\n",
    "pop1, pop2, scr1 = select_best(pop_list)\n",
    "\n",
    "# flattern \n",
    "parent = flatten_list(pop1)\n",
    "pop = flatten_list(pop2)\n",
    "\n",
    "score_list.append(scr1)\n",
    "\n",
    "print(\"GA start...\")\n",
    "\n",
    "while count < GENERATIONS:\n",
    "    candidate_list = []\n",
    "    # crossover, mutation * N times\n",
    "    for i in range(60):  \n",
    "        # crossover\n",
    "        crossover_rate = round(random.uniform(0, 1),1)\n",
    "        if crossover_rate < CROSSOVER_RATE:\n",
    "            crossover_c1, crossover_c2 = crossover(parent, pop)\n",
    "        else:\n",
    "            crossover_c1 = parent \n",
    "            crossover_c2 = pop\n",
    "        # mutation\n",
    "        mute_rate = round(random.uniform(0, 1),1)    \n",
    "        if mute_rate < MUTATION_RATE:  \n",
    "            mutation_c1 = mutation(crossover_c1)\n",
    "            mutation_c2 = mutation(crossover_c2)\n",
    "        elif mute_rate > MUTATION_RATE + 0.2:\n",
    "            mutation_c1 = init.add_note(crossover_c1, 119, 1)\n",
    "            mutation_c2 = init.add_note(crossover_c2, 239, 1)\n",
    "        else:\n",
    "            mutation_c1 = crossover_c1\n",
    "            mutation_c2 = crossover_c2\n",
    "        candidate_list.append(mutation_c1)\n",
    "        candidate_list.append(mutation_c2)\n",
    "        \n",
    "    # select best 2 from 300 populations   \n",
    "    parent, pop, scr2 = select_best(candidate_list)\n",
    "\n",
    "    parent = flatten_list(parent)\n",
    "    pop = flatten_list(pop)\n",
    "\n",
    "    # 先儲存一個\n",
    "    pm.to_midi_file(parent, 1 , 'Output_midi/sky_output1_' + str(scr2) + \"_\" + str(count) + '.mid')\n",
    "    pm.to_midi_file(pop, 1 , 'Output_midi/sky_output2_' + str(scr2) + \"_\" + str(count) + '.mid')\n",
    "\n",
    "    score_list.append(scr2)   \n",
    "    print(\"Generation\", count, \": score\", scr2)\n",
    "    count += 1    \n",
    "    \n",
    "print(\"Finish\")"
   ]
  },
  {
   "cell_type": "code",
   "execution_count": 13,
   "metadata": {
    "scrolled": false
   },
   "outputs": [
    {
     "data": {
      "image/png": "[encoded data removed]",
      "text/plain": [
       "<Figure size 432x288 with 1 Axes>"
      ]
     },
     "metadata": {
      "image/png": {
       "height": 263,
       "width": 390
      },
      "needs_background": "light"
     },
     "output_type": "display_data"
    }
   ],
   "source": [
    "plt.plot(score_list)\n",
    "plt.xlabel('generation')\n",
    "plt.ylabel('score')\n",
    "plt.show()"
   ]
  },
  {
   "cell_type": "code",
   "execution_count": null,
   "metadata": {},
   "outputs": [],
   "source": []
  },
  {
   "cell_type": "code",
   "execution_count": null,
   "metadata": {},
   "outputs": [],
   "source": []
  }
 ],
 "metadata": {
  "kernelspec": {
   "display_name": "Python 3",
   "language": "python",
   "name": "python3"
  },
  "language_info": {
   "codemirror_mode": {
    "name": "ipython",
    "version": 3
   },
   "file_extension": ".py",
   "mimetype": "text/x-python",
   "name": "python",
   "nbconvert_exporter": "python",
   "pygments_lexer": "ipython3",
   "version": "3.7.2"
  }
 },
 "nbformat": 4,
 "nbformat_minor": 2
}
