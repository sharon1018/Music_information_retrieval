{
 "cells": [
  {
   "cell_type": "code",
   "execution_count": 1,
   "metadata": {},
   "outputs": [],
   "source": [
    "import random\n",
    "import numpy as np\n",
    "import Parsing_midi as pm\n",
    "import Init_chromo as init\n",
    "import mido\n",
    "from mido import Message, MidiFile, MidiTrack\n",
    "from collections import Counter\n",
    "import copy\n",
    "import matplotlib.pyplot as plt\n",
    "from itertools import combinations # product: 排列"
   ]
  },
  {
   "cell_type": "code",
   "execution_count": 2,
   "metadata": {},
   "outputs": [
    {
     "name": "stdout",
     "output_type": "stream",
     "text": [
      "\n"
     ]
    }
   ],
   "source": [
    "\"\"\"\n",
    "## import function\n",
    "\n",
    "- Parsing_midi\n",
    "    - get_midi\n",
    "    - get_pitch\n",
    "    - parse_midi\n",
    "    - separate_phrase\n",
    "\n",
    "- Init_chromo\n",
    "    - shift_note\n",
    "    - merge_duplicate_note\n",
    "    - extend_duration\n",
    "\"\"\"\n",
    "print()"
   ]
  },
  {
   "cell_type": "markdown",
   "metadata": {},
   "source": [
    "### Output to midi file"
   ]
  },
  {
   "cell_type": "code",
   "execution_count": 3,
   "metadata": {},
   "outputs": [],
   "source": [
    "def to_midi_file(inputfile, program, outputfile):\n",
    "    ## initialize\n",
    "    mid = MidiFile()\n",
    "    track = MidiTrack()\n",
    "    mid.tracks.append(track)\n",
    "    ## add message\n",
    "    track.append(Message('program_change', program=program, time=0))\n",
    "    for i in range(len(inputfile)):\n",
    "        track.append(Message('note_on', note=inputfile[i].note, velocity=inputfile[i].velocity, time=inputfile[i].time))\n",
    "    mid.save(outputfile)\n",
    "    return True"
   ]
  },
  {
   "cell_type": "markdown",
   "metadata": {},
   "source": [
    "### Seperate phrase\n",
    "- one bar = 1920 (4 beats)\n",
    "- sliding window = 7680 (4 bar)\n",
    "- Parameters:\n",
    "    - base\n",
    "    - midi list\n",
    "    - threshold"
   ]
  },
  {
   "cell_type": "code",
   "execution_count": 12,
   "metadata": {},
   "outputs": [],
   "source": [
    "midi_list = pm.get_midi('MidiSample/sky.mid',0)"
   ]
  },
  {
   "cell_type": "code",
   "execution_count": 17,
   "metadata": {},
   "outputs": [],
   "source": [
    "## get midi message\n",
    "pitch_ary = [[0,1,0], [0,-1,2], [0,1,4], [-1,0,11], [1,0,1], [-1,0,3],[1,0,5]]\n",
    "\n",
    "pitch_ary = np.array(pitch_ary)\n",
    "\n",
    "# def pitch_trans(seq):\n",
    "#     pitch_list = ['C','D','E','F','G','A','B']\n",
    "#     return pitch_list[seq]\n",
    "\n",
    "# def get_key(CE, pitch_ary):\n",
    "#     key = []\n",
    "#     for i in range(len(pitch_ary)):\n",
    "#         key.append(abs(pitch_ary[i][0]-int(CE[0])) + abs(pitch_ary[i][1]-int(CE[1])) + \\\n",
    "#                   abs(pitch_ary[i][2]-int(CE[2])))\n",
    "#     predict_key = pitch_trans(key.index(min(key)))\n",
    "#     return predict_key\n",
    "\n",
    "def trans_note_list(song):\n",
    "    return [song[i].note for i in range(len(song))]\n",
    "\n",
    "note_msg, midi_msg = pm.separate_song(midi_list, 15360)\n",
    "parent = midi_msg[2]  # change here for testing"
   ]
  },
  {
   "cell_type": "code",
   "execution_count": 18,
   "metadata": {},
   "outputs": [
    {
     "data": {
      "text/plain": [
       "True"
      ]
     },
     "execution_count": 18,
     "metadata": {},
     "output_type": "execute_result"
    }
   ],
   "source": [
    "## transform to C major\n",
    "# for i in range(len(parent)):\n",
    "#     parent[i].note = parent[i].note -3 # shift\n",
    "[parent[i].note -3 for i in range(len(parent))]\n",
    "    \n",
    "to_midi_file(parent, 1 , 'test.mid')"
   ]
  },
  {
   "cell_type": "markdown",
   "metadata": {},
   "source": [
    "### Evolutionary algorithmn\n",
    "- selection\n",
    "- crossover\n",
    "- mutation\n",
    "- fitness"
   ]
  },
  {
   "cell_type": "code",
   "execution_count": 14,
   "metadata": {},
   "outputs": [],
   "source": [
    "## Selection\n",
    "\"\"\"\n",
    "Parameter:\n",
    "pop_list\n",
    "candidate\n",
    "\"\"\"\n",
    "def select_best(pop_list, chord):\n",
    "    pop_idx = [i for i in range(len(pop_list))]\n",
    "    \n",
    "    candidate = list(combinations(pop_idx, 2))\n",
    "    scr = []; mid = []\n",
    "    for i in range(len(candidate)):\n",
    "        individual1, individual2 = pop_list[candidate[i][0]], pop_list[candidate[i][1]]\n",
    "        note1 = trans_note_list(individual1)\n",
    "        note2 = trans_note_list(individual2)\n",
    "        _score1, _midi1 = fitness(individual1, note1, chord)\n",
    "        _score2, _midi2 = fitness(individual2, note2, chord)\n",
    "        scr.append(_score1 + _score2)\n",
    "        mid.append([_midi1,_midi2])\n",
    "    scr_ary = np.array(scr)\n",
    "    top2 = int(scr_ary.argsort()[-1:])\n",
    "    return mid[top2][0], mid[top2][1], scr[top2]  # 回傳分數最高的一組(2個)candidate\n",
    "\n",
    "\n",
    "## Crossover\n",
    "\"\"\"\n",
    "Parameter:\n",
    "crossover_rate\n",
    "crossover_point\n",
    "\"\"\"\n",
    "def crossover(parent, pop):\n",
    "    crossover_point = random.randint(0,len(parent))\n",
    "    while crossover_point % 2 != 0 :\n",
    "        crossover_point = random.randint(0,len(parent))\n",
    "    pop_midi1 = parent[ :crossover_point] + pop[crossover_point: ]\n",
    "    pop_midi2 = pop[ :crossover_point] + parent[crossover_point: ]\n",
    "    return pop_midi1, pop_midi2\n",
    " \n",
    "    \n",
    "## Mutation\n",
    "\"\"\"\n",
    "Parameter:\n",
    "mute_rate\n",
    "mute_point\n",
    "mutate_list\n",
    "\"\"\"\n",
    "def mutation(child):  \n",
    "    mute_point = random.randint(0,len(child)-1)  #選擇一點做突變\n",
    "    while mute_point % 2 != 0:\n",
    "        mute_point = random.randint(0,len(child)-1)\n",
    "    mutate_note = np.random.choice(8, 1, replace=False, p=[0, 0, 0.3, 0, 0.35, 0, 0, 0.35]) #### TODO!!\n",
    "    if child[mute_point].note < 80:\n",
    "        child[mute_point].note = child[mute_point].note + int(mutate_note)\n",
    "        child[mute_point + 1].note = child[mute_point].note\n",
    "    else:\n",
    "        child[mute_point].note = child[mute_point].note - int(mutate_note)\n",
    "        child[mute_point + 1].note = child[mute_point].note\n",
    "    return child\n",
    "   \n",
    "    \n",
    "## Evaluation\n",
    "\"\"\"\n",
    "fitness function\n",
    "pitch\n",
    "chord\n",
    "\"\"\"\n",
    "## base on CE get the chord name \n",
    "chord_list = [[0,4,7], [2,5,9], [4,7,11], [5,9,0], [7,11,2], [9,0,4], [11,2,5]]\n",
    "pitch_list = ['C','D','E','F','G','A','B']\n",
    "\n",
    "def fitness(midi_msg, note_msg, chord): # type: list\n",
    "    score = 0\n",
    "    scale_list = [0,2,4,5,7,9,11]\n",
    "    \n",
    "    ## Get first and last note\n",
    "    first_note = midi_msg[0].note\n",
    "    last_note = midi_msg[-1].note\n",
    "    \n",
    "#     # get chord (by CE) -> get note -> match\n",
    "#     key = get_key(note_msg, pitch_ary)\n",
    "#     chord = chord_list[pitch_list.index(key)]\n",
    "        \n",
    "    ## Pitch\n",
    "    for i in range(len(midi_msg) - 2):\n",
    "        if i % 2 == 0:\n",
    "            if abs(midi_msg[i].note - midi_msg[i+2].note) == 4: ## major third\n",
    "                score += 4\n",
    "            if abs(midi_msg[i].note - midi_msg[i+2].note) == 7: ## perfect fifth\n",
    "                score += 4\n",
    "            if abs(midi_msg[i].note - midi_msg[i+2].note) > 7:  ## big jump note\n",
    "                score = score - 8      \n",
    "            if midi_msg[i].note % 12 == chord[0]:## chord root note\n",
    "                score += 6\n",
    "            if midi_msg[i].note % 12 == chord[1]:## 2nd note\n",
    "                score += 5\n",
    "            if midi_msg[i].note % 12 == chord[2]:## 3rd note\n",
    "                score += 5\n",
    "            if i == 0 and midi_msg[i].note % 12 == chord[0]:  # first note\n",
    "                score += 6\n",
    "            if i == 0 and midi_msg[i].note % 12 == chord[1]:\n",
    "                score += 4\n",
    "            if i == 0 and midi_msg[i].note % 12 == chord[2]:\n",
    "                score += 2\n",
    "            if i == 0 and midi_msg[i].note % 12 not in chord: # not in chord note\n",
    "                score -= 3   \n",
    "            if i == len(midi_msg)-3 and midi_msg[i].note % 12 == chord[0]:  # last note\n",
    "                score += 6\n",
    "            if i == len(midi_msg)-3 and midi_msg[i].note % 12 == chord[1]:\n",
    "                score += 4\n",
    "            if i == len(midi_msg)-3 and midi_msg[i].note % 12 == chord[2]:\n",
    "                score += 2\n",
    "            if i == len(midi_msg)-3 and midi_msg[i].note % 12 not in chord: # not in chord note\n",
    "                score -= 3\n",
    "            if midi_msg[i].note % 12 not in chord: # note is not a chord note\n",
    "                score -= 3\n",
    "            if midi_msg[i].note % 12 not in scale_list:  # note not in the scale\n",
    "                score -= 10\n",
    "            \n",
    "    return score, midi_msg"
   ]
  },
  {
   "cell_type": "markdown",
   "metadata": {},
   "source": [
    "### Main Function\n",
    "- initialize 有六種組合\n",
    "- 挑分數最高的兩條做crossover, mutation 產生300種不同組合\n",
    "- 從這300條中挑選分數最高的兩條繼續演化"
   ]
  },
  {
   "cell_type": "code",
   "execution_count": 15,
   "metadata": {
    "scrolled": true
   },
   "outputs": [
    {
     "name": "stdout",
     "output_type": "stream",
     "text": [
      "sky_output_-200_saved\n",
      "-200\n",
      "sky_output_-492_saved\n",
      "-492\n",
      "sky_output_-496_saved\n",
      "-496\n",
      "sky_output_-642_saved\n",
      "-642\n",
      "sky_output_-558_saved\n",
      "-558\n",
      "sky_output_-660_saved\n",
      "-660\n",
      "sky_output_-634_saved\n",
      "-634\n",
      "sky_output_-518_saved\n",
      "-518\n",
      "sky_output_-628_saved\n",
      "-628\n",
      "sky_output_-656_saved\n",
      "-656\n"
     ]
    },
    {
     "ename": "KeyboardInterrupt",
     "evalue": "",
     "output_type": "error",
     "traceback": [
      "\u001b[1;31m---------------------------------------------------------------------------\u001b[0m",
      "\u001b[1;31mKeyboardInterrupt\u001b[0m                         Traceback (most recent call last)",
      "\u001b[1;32m<timed exec>\u001b[0m in \u001b[0;36m<module>\u001b[1;34m\u001b[0m\n",
      "\u001b[1;32m<ipython-input-14-61862e81f1c4>\u001b[0m in \u001b[0;36mselect_best\u001b[1;34m(pop_list, chord)\u001b[0m\n\u001b[0;32m     14\u001b[0m         \u001b[0mnote1\u001b[0m \u001b[1;33m=\u001b[0m \u001b[0mtrans_note_list\u001b[0m\u001b[1;33m(\u001b[0m\u001b[0mindividual1\u001b[0m\u001b[1;33m)\u001b[0m\u001b[1;33m\u001b[0m\u001b[1;33m\u001b[0m\u001b[0m\n\u001b[0;32m     15\u001b[0m         \u001b[0mnote2\u001b[0m \u001b[1;33m=\u001b[0m \u001b[0mtrans_note_list\u001b[0m\u001b[1;33m(\u001b[0m\u001b[0mindividual2\u001b[0m\u001b[1;33m)\u001b[0m\u001b[1;33m\u001b[0m\u001b[1;33m\u001b[0m\u001b[0m\n\u001b[1;32m---> 16\u001b[1;33m         \u001b[0m_score1\u001b[0m\u001b[1;33m,\u001b[0m \u001b[0m_midi1\u001b[0m \u001b[1;33m=\u001b[0m \u001b[0mfitness\u001b[0m\u001b[1;33m(\u001b[0m\u001b[0mindividual1\u001b[0m\u001b[1;33m,\u001b[0m \u001b[0mnote1\u001b[0m\u001b[1;33m,\u001b[0m \u001b[0mchord\u001b[0m\u001b[1;33m)\u001b[0m\u001b[1;33m\u001b[0m\u001b[1;33m\u001b[0m\u001b[0m\n\u001b[0m\u001b[0;32m     17\u001b[0m         \u001b[0m_score2\u001b[0m\u001b[1;33m,\u001b[0m \u001b[0m_midi2\u001b[0m \u001b[1;33m=\u001b[0m \u001b[0mfitness\u001b[0m\u001b[1;33m(\u001b[0m\u001b[0mindividual2\u001b[0m\u001b[1;33m,\u001b[0m \u001b[0mnote2\u001b[0m\u001b[1;33m,\u001b[0m \u001b[0mchord\u001b[0m\u001b[1;33m)\u001b[0m\u001b[1;33m\u001b[0m\u001b[1;33m\u001b[0m\u001b[0m\n\u001b[0;32m     18\u001b[0m         \u001b[0mscr\u001b[0m\u001b[1;33m.\u001b[0m\u001b[0mappend\u001b[0m\u001b[1;33m(\u001b[0m\u001b[0m_score1\u001b[0m \u001b[1;33m+\u001b[0m \u001b[0m_score2\u001b[0m\u001b[1;33m)\u001b[0m\u001b[1;33m\u001b[0m\u001b[1;33m\u001b[0m\u001b[0m\n",
      "\u001b[1;32m<ipython-input-14-61862e81f1c4>\u001b[0m in \u001b[0;36mfitness\u001b[1;34m(midi_msg, note_msg, chord)\u001b[0m\n\u001b[0;32m    111\u001b[0m             \u001b[1;32mif\u001b[0m \u001b[0mi\u001b[0m \u001b[1;33m==\u001b[0m \u001b[0mlen\u001b[0m\u001b[1;33m(\u001b[0m\u001b[0mmidi_msg\u001b[0m\u001b[1;33m)\u001b[0m\u001b[1;33m-\u001b[0m\u001b[1;36m3\u001b[0m \u001b[1;32mand\u001b[0m \u001b[0mmidi_msg\u001b[0m\u001b[1;33m[\u001b[0m\u001b[0mi\u001b[0m\u001b[1;33m]\u001b[0m\u001b[1;33m.\u001b[0m\u001b[0mnote\u001b[0m \u001b[1;33m%\u001b[0m \u001b[1;36m12\u001b[0m \u001b[1;33m==\u001b[0m \u001b[0mchord\u001b[0m\u001b[1;33m[\u001b[0m\u001b[1;36m2\u001b[0m\u001b[1;33m]\u001b[0m\u001b[1;33m:\u001b[0m\u001b[1;33m\u001b[0m\u001b[1;33m\u001b[0m\u001b[0m\n\u001b[0;32m    112\u001b[0m                 \u001b[0mscore\u001b[0m \u001b[1;33m+=\u001b[0m \u001b[1;36m2\u001b[0m\u001b[1;33m\u001b[0m\u001b[1;33m\u001b[0m\u001b[0m\n\u001b[1;32m--> 113\u001b[1;33m             \u001b[1;32mif\u001b[0m \u001b[0mi\u001b[0m \u001b[1;33m==\u001b[0m \u001b[0mlen\u001b[0m\u001b[1;33m(\u001b[0m\u001b[0mmidi_msg\u001b[0m\u001b[1;33m)\u001b[0m\u001b[1;33m-\u001b[0m\u001b[1;36m3\u001b[0m \u001b[1;32mand\u001b[0m \u001b[0mmidi_msg\u001b[0m\u001b[1;33m[\u001b[0m\u001b[0mi\u001b[0m\u001b[1;33m]\u001b[0m\u001b[1;33m.\u001b[0m\u001b[0mnote\u001b[0m \u001b[1;33m%\u001b[0m \u001b[1;36m12\u001b[0m \u001b[1;32mnot\u001b[0m \u001b[1;32min\u001b[0m \u001b[0mchord\u001b[0m\u001b[1;33m:\u001b[0m \u001b[1;31m# not in chord note\u001b[0m\u001b[1;33m\u001b[0m\u001b[1;33m\u001b[0m\u001b[0m\n\u001b[0m\u001b[0;32m    114\u001b[0m                 \u001b[0mscore\u001b[0m \u001b[1;33m-=\u001b[0m \u001b[1;36m3\u001b[0m\u001b[1;33m\u001b[0m\u001b[1;33m\u001b[0m\u001b[0m\n\u001b[0;32m    115\u001b[0m             \u001b[1;32mif\u001b[0m \u001b[0mmidi_msg\u001b[0m\u001b[1;33m[\u001b[0m\u001b[0mi\u001b[0m\u001b[1;33m]\u001b[0m\u001b[1;33m.\u001b[0m\u001b[0mnote\u001b[0m \u001b[1;33m%\u001b[0m \u001b[1;36m12\u001b[0m \u001b[1;32mnot\u001b[0m \u001b[1;32min\u001b[0m \u001b[0mchord\u001b[0m\u001b[1;33m:\u001b[0m \u001b[1;31m# note is not a chord note\u001b[0m\u001b[1;33m\u001b[0m\u001b[1;33m\u001b[0m\u001b[0m\n",
      "\u001b[1;31mKeyboardInterrupt\u001b[0m: "
     ]
    }
   ],
   "source": [
    "%%time\n",
    "## MAIN\n",
    "MUTATION_RATE = 0.5\n",
    "CROSSOVER_RATE = 0.7\n",
    "GENERATIONS = 100\n",
    "count = 0; score_list = []; midi_list = []\n",
    "\n",
    "score_list = []; temp = []\n",
    "\n",
    "chord = [9,0,4]\n",
    "\n",
    "## Initialize \n",
    "\n",
    "# 增加裝飾音\n",
    "pop1 = init.add_note(parent, -3, 119)   \n",
    "pop2 = init.add_note(parent, -3, 239)\n",
    "pop3 = init.add_note(parent, -2, 119)\n",
    "pop4 = init.add_note(parent, -2, 239)\n",
    "pop5 = init.add_note(parent, -7, 119)  \n",
    "pop6 = init.add_note(parent, -7, 239)\n",
    "pop7 = init.add_note(parent, 4, 119)\n",
    "pop8 = init.add_note(parent, 4, 239)\n",
    "pop9 = init.add_note(parent, 2, 119)\n",
    "pop10 = init.add_note(parent, 2, 239)\n",
    "pop11 = init.add_note(parent, 7, 119) \n",
    "pop12 = init.add_note(parent, 7, 239) \n",
    "pop13 = parent                                 # origin       \n",
    "pop14 = init.merge_duplicate_note(parent)      # 重複的切分音直接轉為連音\n",
    "pop15 = init.change_duration(parent, 120, 480, 3) # 延長音 16分音符->一拍\n",
    "pop16 = init.change_duration(parent, 240, 120, 3) # 縮短音 16分音符->8分音符\n",
    "pop17 = init.remove_note(parent, 300) ## 移除音符\n",
    "pop17 = init.remove_note(parent, 300) ## 移除音符\n",
    "\n",
    "pop_list = [pop1, pop2, pop3, pop4, pop5, pop6, pop7, pop8, pop9, pop10, pop11, pop12, pop13, pop14, pop15, pop16, pop17]\n",
    "\n",
    "# choose 2 best candidate\n",
    "parent, pop, scr1 = select_best(pop_list, chord)\n",
    "score_list.append(scr1)\n",
    "\n",
    "\n",
    "while count < GENERATIONS:\n",
    "    candidate_list = []\n",
    "  \n",
    "    # crossover, mutation * N\n",
    "    for i in range(50):  \n",
    "        # crossover\n",
    "        crossover_rate = round(random.uniform(0, 1),1)\n",
    "        if crossover_rate < CROSSOVER_RATE:\n",
    "            crossover_c1, crossover_c2 = crossover(parent, pop)\n",
    "        else:\n",
    "            crossover_c1 = parent \n",
    "            crossover_c2 = pop\n",
    "            \n",
    "        # mutation\n",
    "        mute_rate = round(random.uniform(0, 1),1)    \n",
    "        if mute_rate < MUTATION_RATE:    \n",
    "            mutation_c1 = mutation(crossover_c1)\n",
    "            mutation_c2 = mutation(crossover_c2)\n",
    "        else:\n",
    "            mutation_c1 = crossover_c1\n",
    "            mutation_c2 = crossover_c2\n",
    "        \n",
    "        candidate_list.append(mutation_c1)\n",
    "        candidate_list.append(mutation_c2)\n",
    "        \n",
    "    # select best from 300 populations   \n",
    "    parent, pop, scr2 = select_best(candidate_list, chord)\n",
    "    \n",
    "    if scr2 >= 0:\n",
    "        to_midi_file(parent, 1 , 'Output_midi/sky_output2_' + str(scr2) + '.mid')\n",
    "        print(\"sky_output_\" + str(scr2) + \"_saved\")\n",
    "    else: \n",
    "        to_midi_file(parent, 1 , 'Output_midi/sky_output2_minus_' + str(abs(scr2)) + '.mid')\n",
    "        print(\"sky_output_\" + str(scr2) + \"_saved\")\n",
    "        \n",
    "    score_list.append(scr2)\n",
    "        \n",
    "    count += 1\n",
    "    print(scr2)\n",
    "    \n",
    "print(\"Finish\")"
   ]
  },
  {
   "cell_type": "code",
   "execution_count": 14,
   "metadata": {},
   "outputs": [
    {
     "data": {
      "image/png": "[encoded data removed]",
      "text/plain": [
       "<Figure size 432x288 with 1 Axes>"
      ]
     },
     "metadata": {
      "image/png": {
       "height": 250,
       "width": 399
      },
      "needs_background": "light"
     },
     "output_type": "display_data"
    }
   ],
   "source": [
    "plt.plot(score_list)\n",
    "plt.ylabel('score')\n",
    "plt.show()"
   ]
  },
  {
   "cell_type": "code",
   "execution_count": null,
   "metadata": {},
   "outputs": [],
   "source": []
  }
 ],
 "metadata": {
  "kernelspec": {
   "display_name": "Python 3",
   "language": "python",
   "name": "python3"
  },
  "language_info": {
   "codemirror_mode": {
    "name": "ipython",
    "version": 3
   },
   "file_extension": ".py",
   "mimetype": "text/x-python",
   "name": "python",
   "nbconvert_exporter": "python",
   "pygments_lexer": "ipython3",
   "version": "3.7.2"
  }
 },
 "nbformat": 4,
 "nbformat_minor": 2
}
