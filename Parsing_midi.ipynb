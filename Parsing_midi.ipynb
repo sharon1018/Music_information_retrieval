{
 "cells": [
  {
   "cell_type": "code",
   "execution_count": 1,
   "metadata": {},
   "outputs": [],
   "source": [
    "import mido\n",
    "from mido import Message, MidiFile, MidiTrack\n",
    "import copy\n",
    "from collections import Counter\n",
    "# from music21 import *"
   ]
  },
  {
   "cell_type": "code",
   "execution_count": 14,
   "metadata": {},
   "outputs": [],
   "source": [
    "pitch_list = ['C','C#','D','D#','E','F','F#','G','G#','A','A#','B']\n",
    "\n",
    "def get_midi(filename, track=0):    \n",
    "   ## read midi file\n",
    "    mid = MidiFile(filename)\n",
    "    ## get midi information\n",
    "    temp=[]\n",
    "    for msg in mid.tracks[track]:\n",
    "        temp.append(msg)\n",
    "    ## only extract note_on and note_off\n",
    "    midi_list = []\n",
    "    for i in range(len(temp)):\n",
    "#         if ('note_on' in str(temp[i]) or 'note_off' in str(temp[i])) and 'velocity=0' not in str(temp[i]):\n",
    "        if ('note_on' in str(temp[i]) or 'note_off' in str(temp[i])):\n",
    "            midi_list.append(temp[i])\n",
    "    \n",
    "    return midi_list\n",
    "\n",
    "def get_pitch(num):\n",
    "    return [pitch_list[num%12],int(num/12)]  #(pitch, octave)\n",
    "\n",
    "def parse_midi(data):\n",
    "    note_= []; velocity_= []; time_= []; midi_data=[]\n",
    "    \n",
    "    for i in range(len(data)-1):\n",
    "        note_.append(get_pitch(data[i].note))\n",
    "        velocity_.append(data[i].velocity)\n",
    "        time_.append(data[i].time)\n",
    "        midi_data.append((note_[i],velocity_[i], time_[i])) # merge all\n",
    "    return midi_data\n",
    "\n",
    "def separate_phrase(base, midi_list, threshold):\n",
    "    start = midi_list[0].time % 1920\n",
    "    midi_list[0].time = start + base\n",
    "\n",
    "    count = 0; mid = []; temp = []\n",
    "    for i in range(len(midi_list)):\n",
    "        count += midi_list[i].time\n",
    "        if count <= threshold:  \n",
    "            temp.append(midi_list[i])\n",
    "        else:\n",
    "            temp.append(midi_list[i])\n",
    "            mid.append(temp)\n",
    "            count = 0\n",
    "            temp = [] \n",
    "    return mid"
   ]
  },
  {
   "cell_type": "code",
   "execution_count": 3,
   "metadata": {},
   "outputs": [],
   "source": [
    "#     ## seperate column\n",
    "#     for i in range(len(data)-1):\n",
    "#         t = str(data[i])\n",
    "#         note_.append(t.split(' ')[2])\n",
    "#         velocity_.append(t.split(' ')[3])\n",
    "#         time_.append(t.split(' ')[4])\n",
    "        \n",
    "#     ## to note\n",
    "#     note_2=[];velocity_2=[];time_2=[]; midi_data=[]\n",
    "#     for i in range(len(note_)):\n",
    "#         note_2.append(get_pitch(int(note_[i].split('=')[1])))\n",
    "#         velocity_2.append(int(velocity_[i].split('=')[1]))\n",
    "#         time_2.append(int(time_[i].split('=')[1]))\n",
    "#         midi_data.append((note_2[i],velocity_2[i], time_2[i])) # merge all\n",
    "# #         midi_data.append(note_2[i])\n",
    "\n",
    "#     return midi_data\n",
    "\n",
    "# def get_velocity(data):\n",
    "#     v=0\n",
    "#     for i in range(len(data)):\n",
    "#         v += data[i][1]\n",
    "#     avg_v = v/len(data) #duration??\n",
    "\n",
    "#     return avg_v"
   ]
  },
  {
   "cell_type": "code",
   "execution_count": 5,
   "metadata": {},
   "outputs": [],
   "source": [
    "# Counter(duration_list)"
   ]
  },
  {
   "cell_type": "code",
   "execution_count": 6,
   "metadata": {},
   "outputs": [],
   "source": [
    "# midi_info = get_midi('MidiSample/iswear.mid',2)"
   ]
  },
  {
   "cell_type": "code",
   "execution_count": 7,
   "metadata": {},
   "outputs": [],
   "source": [
    "# midi_info = get_midi('MidiSample/midi/11.mid')"
   ]
  },
  {
   "cell_type": "code",
   "execution_count": 8,
   "metadata": {},
   "outputs": [],
   "source": [
    "# midi_info[200:203]"
   ]
  },
  {
   "cell_type": "code",
   "execution_count": 9,
   "metadata": {},
   "outputs": [],
   "source": [
    "# from collections import Counter\n",
    "# Counter(duration_list).most_common()"
   ]
  },
  {
   "cell_type": "markdown",
   "metadata": {},
   "source": [
    "### TODO\n"
   ]
  },
  {
   "cell_type": "code",
   "execution_count": 10,
   "metadata": {},
   "outputs": [],
   "source": [
    "# ## create midi\n",
    "\n",
    "# from mido import Message, MidiFile, MidiTrack\n",
    "\n",
    "# mid = MidiFile()\n",
    "# track = MidiTrack()\n",
    "# mid.tracks.append(track)\n",
    "\n",
    "# track.append(Message('program_change', program=12, time=0))\n",
    "# track.append(Message('note_on', note=64, velocity=64, time=32))\n",
    "# track.append(Message('note_off', note=64, velocity=127, time=32))\n"
   ]
  },
  {
   "cell_type": "code",
   "execution_count": 11,
   "metadata": {},
   "outputs": [],
   "source": [
    "# import midi"
   ]
  },
  {
   "cell_type": "code",
   "execution_count": 12,
   "metadata": {},
   "outputs": [],
   "source": [
    "# on = midi.NoteOnEvent(tick=0, velocity=20, pitch=midi.G_3)"
   ]
  }
 ],
 "metadata": {
  "kernelspec": {
   "display_name": "Python 3",
   "language": "python",
   "name": "python3"
  },
  "language_info": {
   "codemirror_mode": {
    "name": "ipython",
    "version": 3
   },
   "file_extension": ".py",
   "mimetype": "text/x-python",
   "name": "python",
   "nbconvert_exporter": "python",
   "pygments_lexer": "ipython3",
   "version": "3.6.6"
  }
 },
 "nbformat": 4,
 "nbformat_minor": 2
}
