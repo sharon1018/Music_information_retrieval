{
 "cells": [
  {
   "cell_type": "code",
   "execution_count": 42,
   "metadata": {},
   "outputs": [],
   "source": [
    "import mido\n",
    "from mido import Message, MidiFile, MidiTrack"
   ]
  },
  {
   "cell_type": "code",
   "execution_count": 294,
   "metadata": {},
   "outputs": [],
   "source": [
    "def get_midi(filename):    \n",
    "    ## read midi file\n",
    "    mid = MidiFile('MidiSample/midi/'+filename)\n",
    "\n",
    "    ## get midi information\n",
    "    temp=[]\n",
    "#     for i, track in enumerate(mid.tracks):\n",
    "#         print('Track {}: {}'.format(i, track.name))\n",
    "    for msg in mid.tracks[0]:\n",
    "        temp.append(msg)\n",
    "\n",
    "    ## only extract note_on and note_off\n",
    "    t=[]\n",
    "    for i in range(len(temp)):\n",
    "        if ('note_on' in str(temp[i]) or 'note_off' in str(temp[i])) and 'velocity=0' not in str(temp[i]):\n",
    "            t.append(temp[i])\n",
    "    return t"
   ]
  },
  {
   "cell_type": "code",
   "execution_count": 300,
   "metadata": {},
   "outputs": [],
   "source": [
    "pitch_list = ['C','C#','D','D#','E','F','F#','G','G#','A','A#','B']\n",
    "\n",
    "def get_pitch(num):\n",
    "    return [pitch_list[num%12],int(num/12)]  #(pitch, octave)\n",
    "\n",
    "def parse_midi(data):\n",
    "#     data = filename[5:]  # remove headers\n",
    "    note_= []; velocity_= []; time_= []\n",
    "    \n",
    "    ## seperate column\n",
    "    for i in range(len(data)-1):\n",
    "        t = str(data[i])\n",
    "        note_.append(t.split(' ')[2])\n",
    "        velocity_.append(t.split(' ')[3])\n",
    "        time_.append(t.split(' ')[4])\n",
    "        \n",
    "    ## to note\n",
    "    note_2=[];velocity_2=[];time_2=[]; midi_data=[]\n",
    "    for i in range(len(note_)):\n",
    "        note_2.append(get_pitch(int(note_[i].split('=')[1])))\n",
    "        velocity_2.append(int(velocity_[i].split('=')[1]))\n",
    "        time_2.append(int(time_[i].split('=')[1]))\n",
    "#         midi_data.append((note_2[i],velocity_2[i], time_2[i])) # merge all\n",
    "        midi_data.append(note_2[i])\n",
    "\n",
    "    return midi_data\n",
    "\n",
    "def get_velocity(data):\n",
    "    v=0\n",
    "    for i in range(len(data)):\n",
    "        v += data[i][1]\n",
    "    avg_v = v/len(data) #duration??\n",
    "\n",
    "    return avg_v\n"
   ]
  },
  {
   "cell_type": "code",
   "execution_count": 301,
   "metadata": {},
   "outputs": [],
   "source": [
    "midi_info = get_midi('4.mid')"
   ]
  },
  {
   "cell_type": "code",
   "execution_count": 302,
   "metadata": {},
   "outputs": [],
   "source": [
    "data = parse_midi(midi_info) # (note, velocity, time)"
   ]
  },
  {
   "cell_type": "code",
   "execution_count": 305,
   "metadata": {},
   "outputs": [
    {
     "data": {
      "text/plain": [
       "list"
      ]
     },
     "execution_count": 305,
     "metadata": {},
     "output_type": "execute_result"
    }
   ],
   "source": [
    "type(data)"
   ]
  },
  {
   "cell_type": "code",
   "execution_count": null,
   "metadata": {},
   "outputs": [],
   "source": []
  },
  {
   "cell_type": "code",
   "execution_count": 190,
   "metadata": {},
   "outputs": [],
   "source": [
    "## create midi\n",
    "\n",
    "from mido import Message, MidiFile, MidiTrack\n",
    "\n",
    "mid = MidiFile()\n",
    "track = MidiTrack()\n",
    "mid.tracks.append(track)\n",
    "\n",
    "track.append(Message('program_change', program=12, time=0))\n",
    "track.append(Message('note_on', note=64, velocity=64, time=32))\n",
    "track.append(Message('note_off', note=64, velocity=127, time=32))\n"
   ]
  },
  {
   "cell_type": "code",
   "execution_count": null,
   "metadata": {},
   "outputs": [],
   "source": []
  }
 ],
 "metadata": {
  "kernelspec": {
   "display_name": "Python 3",
   "language": "python",
   "name": "python3"
  },
  "language_info": {
   "codemirror_mode": {
    "name": "ipython",
    "version": 3
   },
   "file_extension": ".py",
   "mimetype": "text/x-python",
   "name": "python",
   "nbconvert_exporter": "python",
   "pygments_lexer": "ipython3",
   "version": "3.6.6"
  }
 },
 "nbformat": 4,
 "nbformat_minor": 2
}
