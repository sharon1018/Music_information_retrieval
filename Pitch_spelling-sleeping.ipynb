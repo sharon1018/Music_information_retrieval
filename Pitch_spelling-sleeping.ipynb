{
 "cells": [
  {
   "cell_type": "code",
   "execution_count": 1,
   "metadata": {},
   "outputs": [
    {
     "name": "stdout",
     "output_type": "stream",
     "text": [
      "\n"
     ]
    }
   ],
   "source": [
    "\"\"\"\n",
    "# Define pitch\n",
    "F = [0,1,0] ; E_sharp = [0,1,0]\n",
    "C = [1,0,1] ; B_sharp = [1,0,1] \n",
    "G = [0,-1,2]\n",
    "D = [-1,0,3]\n",
    "A = [0,1,4]\n",
    "E = [1,0,5]  ; F_flat = [1,0,5]\n",
    "B = [0,-1,6]  ; C_flat = [0,-1,6]\n",
    "F_sharp = [-1,0,7] ; G_flat = [-1,0,7]\n",
    "C_sharp = [0,1,8] ; D_flat = [0,1,8]\n",
    "G_sharp = [1,0,9] ; A_flat = [1,0,9]\n",
    "D_sharp = [0,-1,10] ; E_flat = [0,-1,10]\n",
    "A_sharp = [-1,0,11] ; B_flat = [-1,0,11]\n",
    "\"\"\"\n",
    "print()"
   ]
  },
  {
   "cell_type": "code",
   "execution_count": 309,
   "metadata": {},
   "outputs": [],
   "source": [
    "import librosa\n",
    "import os, sys\n",
    "import numpy as np\n",
    "from pydub import AudioSegment\n",
    "from pydub.utils import make_chunks\n",
    "import warnings\n",
    "import matplotlib.pyplot as plt\n",
    "from collections import Counter\n",
    "from collections import defaultdict\n",
    "from wordcloud import WordCloud\n",
    "import matplotlib.pyplot as plt\n",
    "import itertools\n",
    "from librosa import display\n",
    "warnings.filterwarnings('ignore')"
   ]
  },
  {
   "cell_type": "code",
   "execution_count": 310,
   "metadata": {},
   "outputs": [],
   "source": [
    "pitch_ary = [[1,0,1], [0,1,8], [-1,0,3], [0,-1,10], [1,0,5], [0,1,0], [-1,0,7],\\\n",
    "                 [0,-1,2], [1,0,9], [0,1,4], [-1,0,11], [0,-1,6]]\n",
    "pitch_ary = np.array(pitch_ary)\n",
    "\n",
    "## get all clip \n",
    "def get_dirs(path):\n",
    "    dirs = os.listdir(path)\n",
    "    return dirs  # file list\n",
    "\n",
    "def pitch_trans(seq):\n",
    "    pitch_list = ['C','C#','D','D#(E-)','E','F','F#','G','G#','A','A#(B-)','B']\n",
    "    return pitch_list[seq]\n",
    "\n",
    "def pitch_to_ary(notes):\n",
    "    pitch_ary = [[1,0,1], [0,1,8], [-1,0,3], [0,-1,10], [1,0,5], [0,1,0], [-1,0,7],\\\n",
    "                 [0,-1,2], [1,0,9], [0,1,4], [-1,0,11], [0,-1,6]]\n",
    "    pitch_ary = np.array(pitch_ary)\n",
    "    return pitch_ary[notes]\n",
    "\n",
    "\n",
    "## count CE\n",
    "def count_CE(notes_seq):\n",
    "    c = Counter(notes_seq)\n",
    "    Dab = 0\n",
    "    sum_dp = 0\n",
    "    for i in range(len(notes_seq)):\n",
    "        pij = (pitch_to_ary(notes_seq[i]))\n",
    "        dij = 1\n",
    "        Dab = sum(c.values())\n",
    "        sum_dp += (dij * pij)  \n",
    "        CE = sum_dp/Dab   \n",
    "    return CE\n",
    "\n",
    "def get_key(CE, pitch_ary):\n",
    "    key = []\n",
    "    for i in range(len(pitch_ary)):\n",
    "        key.append(abs(pitch_ary[i][0]-int(CE[0])) + abs(pitch_ary[i][1]-int(CE[1])) + \\\n",
    "                  abs(pitch_ary[i][2]-int(CE[2])))\n",
    "    predict_key = pitch_trans(key.index(min(key)))\n",
    "    return predict_key"
   ]
  },
  {
   "cell_type": "code",
   "execution_count": 311,
   "metadata": {},
   "outputs": [],
   "source": [
    "## Analysis chord and pitch4\n",
    "def n_gram(key_list, ngram):\n",
    "    ngram_key = []\n",
    "    flattened = [val for sublist in key_list for val in sublist]\n",
    "    for i in range(int(len(flattened)-3)):\n",
    "        ngram_key.append(flattened[i : ngram +i])\n",
    "    count_ngram = dict([])\n",
    "    for i in ngram_key:\n",
    "        i=str(i)\n",
    "        i = i.replace(\"[\", \"\")\n",
    "        i = i.replace(\"]\", \"\")\n",
    "        if i in count_ngram:\n",
    "            count_ngram[i] += 1\n",
    "        else:\n",
    "            count_ngram[i] = 1\n",
    "    return count_ngram \n",
    "\n",
    "def n_gram2(key_list, ngram):\n",
    "    ngram_key = []\n",
    "#     flattened = [val for sublist in key_list for val in sublist]\n",
    "    for i in range(int(len(key_list)-3)):\n",
    "        ngram_key.append(key_list[i : ngram+i])\n",
    "    count_ngram = dict([])\n",
    "    for i in ngram_key:\n",
    "        i=str(i)\n",
    "        i = i.replace(\"[\", \"\")\n",
    "        i = i.replace(\"]\", \"\")\n",
    "        if i in count_ngram:\n",
    "            count_ngram[i] += 1\n",
    "        else:\n",
    "            count_ngram[i] = 1\n",
    "    return count_ngram "
   ]
  },
  {
   "cell_type": "markdown",
   "metadata": {},
   "source": [
    "## Get Chord (4 beats)"
   ]
  },
  {
   "cell_type": "code",
   "execution_count": 312,
   "metadata": {},
   "outputs": [
    {
     "name": "stdout",
     "output_type": "stream",
     "text": [
      "75\n"
     ]
    }
   ],
   "source": [
    "## get all file name\n",
    "sleeping_music = sorted(get_dirs('./music/sleeping'))\n",
    "\n",
    "print(len(sleeping_music))"
   ]
  },
  {
   "cell_type": "code",
   "execution_count": 314,
   "metadata": {},
   "outputs": [],
   "source": [
    "sleeping_key = []; pitch = []\n",
    "def job(num1, num2):\n",
    "#     for idx in range(len(sleeping_music)):\n",
    "    for idx in range(num1, num2):\n",
    "        temp2 = []; temp3 = []\n",
    "        for d in range(300):\n",
    "            try:\n",
    "                y1, sr = librosa.load('./music/sleeping/'+ sleeping_music[idx],offset=4*d,duration = 4, res_type = \"kaiser_fast\")\n",
    "                ## onset detection\n",
    "#                 o_env = librosa.onset.onset_strength(y1, sr=sr)\n",
    "#                 onset_frames = librosa.onset.onset_detect(y=y1, onset_envelope=o_env, sr=sr)\n",
    "                o_env = librosa.onset.onset_strength(y1, sr=sr)\n",
    "                onset_frames = librosa.util.peak_pick(o_env, 7, 7, 7, 7, 0.5, 5)\n",
    "                ## pitch detection\n",
    "                b = librosa.feature.chroma_stft(y=y1, sr=sr, n_fft=1024, hop_length=512)\n",
    "\n",
    "                temp =[]\n",
    "                for i in range(len(onset_frames)): \n",
    "                    temp.append(np.argsort(b[:,onset_frames[i]])[-1])  \n",
    "                for i in range(len(temp)):\n",
    "                    temp3.append(pitch_trans(temp[i]))    \n",
    "\n",
    "                ## count CE\n",
    "                CE = (count_CE(temp))\n",
    "                temp2.append(get_key(CE, pitch_ary))\n",
    "            except:\n",
    "                pass\n",
    "        sleeping_key.append(temp2)\n",
    "        pitch.append(temp3)\n",
    "        print(\"Finish\", idx)"
   ]
  },
  {
   "cell_type": "code",
   "execution_count": 315,
   "metadata": {},
   "outputs": [],
   "source": [
    "import threading\n",
    "import time\n",
    "\n",
    "## multi thread\n",
    "\n",
    "threads = []; threads2 = []; threads3 = []; threads4 = []\n",
    "\n",
    "threads.append(threading.Thread(target = job, args = (0,19))) \n",
    "for t in threads:\n",
    "    t.start()\n",
    "    \n",
    "threads2.append(threading.Thread(target = job, args = (19,38))) \n",
    "for t2 in threads2:\n",
    "    t2.start()\n",
    "    \n",
    "threads3.append(threading.Thread(target = job, args = (38,58))) \n",
    "for t2 in threads3:\n",
    "    t2.start()\n",
    "    \n",
    "threads4.append(threading.Thread(target = job, args = (58,75))) \n",
    "for t2 in threads4:\n",
    "    t2.start()\n",
    " "
   ]
  },
  {
   "cell_type": "code",
   "execution_count": 410,
   "metadata": {},
   "outputs": [],
   "source": [
    "# ## to pickle file\n",
    "# import pickle\n",
    "\n",
    "# with open('key.pkl', 'wb') as f:\n",
    "#     pickle.dump(sleeping_key, f)   \n",
    "# with open('pitch.pkl', 'wb') as f:\n",
    "#     pickle.dump(pitch, f)\n",
    "\n",
    "# with open('key.pkl', 'rb') as f:\n",
    "#     chord = pickle.load(f) \n",
    "# with open('pitch.pkl', 'rb') as f:\n",
    "#     pitch = pickle.load(f)"
   ]
  },
  {
   "cell_type": "code",
   "execution_count": 409,
   "metadata": {},
   "outputs": [
    {
     "data": {
      "text/plain": [
       "75"
      ]
     },
     "execution_count": 409,
     "metadata": {},
     "output_type": "execute_result"
    }
   ],
   "source": [
    "len(pitch)"
   ]
  },
  {
   "cell_type": "markdown",
   "metadata": {},
   "source": [
    "## Analysis - Chord"
   ]
  },
  {
   "cell_type": "code",
   "execution_count": 411,
   "metadata": {},
   "outputs": [],
   "source": [
    "## pitch matching\n",
    "\n",
    "perfect_five = [['C','G'],['G','D'],['D','A'],['A','E'],['E','B'],['B','F#'],['F#','C#'],['C#','G#'],\n",
    "                ['G#','D#(E-)'],['D#(E-)','A#(B-)'],['A#(B-)','F'],['F','C']]\n",
    "\n",
    "same_pitch2 = [['C','C','C'],['D','D','D'],['A','A','A'],['E','E','E'],['B','B','B'],['F#','F#','F#'],\n",
    "              ['C#','C#','C#'],['G#','G#','G#'], ['D#(E-)','D#(E-)','D#(E-)'],\n",
    "              ['A#(B-)','A#(B-)','A#(B-)'],['F','F','F'],['G','G','G']]\n",
    "\n",
    "same_pitch = [['C','C'],['D','D'],['A','A'],['E','E'],['B','B'],['F#','F#'],['C#','C#'],\n",
    "              ['G#','G#'], ['D#(E-)','D#(E-)'],['A#(B-)','A#(B-)'],['F','F'],['G','G']]\n",
    "\n",
    "big_three = [['C','E'],['D','F#'],['E','G#'],['F','A'],['G','B'],['A','C#'],['B','D#'],\n",
    "             ['C#','F'],['D#(E-)','G'],['F#','A#(B-)'],['G#','C'],['A#','D']]\n",
    "\n",
    "small_three = [['C','D#'],['D','F'],['E','G'],['F','G#'],['G','A#'],['A','C'],['B','D'],\n",
    "             ['C#','E'],['D#(E-)','F#'],['F#','A'],['G#','B'],['A#','C#']]\n",
    "\n",
    "four_pitch = [['C','F'],['D','G'],['E','A'],['F','A#(B-)'],['G','C'],['A','D'],['B','E'],\n",
    "             ['C#','F#'],['D#(E-)','G#'],['F#','B'],['G#','C#'],['A#','D#(E-)']]\n",
    "\n",
    "whole_tone = [['C','D'],['D','E'],['E','F#'],['F','G'],['G','A'],['A','B'],['B','C#'],\n",
    "             ['C#','D#(E-)'],['D#(E-)','F'],['F#','G#'],['G#','A#'],['A#','C'],\n",
    "             ['D','C'],['E','D'],['F#','E'],['G','F'],['A','G'],['B','A'],['C#','B'],\n",
    "             ['D#(E-)','C#'],['F','D#(E-)'],['G#','F#'],['A#','G#'],['C','A#']]"
   ]
  },
  {
   "cell_type": "code",
   "execution_count": 412,
   "metadata": {},
   "outputs": [],
   "source": [
    "## if need flattern: flattened = [val for sublist in sleeping_key for val in sublist]\n",
    "def count_pattern(data,a,b,c):  # a,b,c is scalar\n",
    "    perfect = 0; same = 0; non = 0; big3 = 0; small3 = 0; four = 0; whole = 0\n",
    "    perfect_ = 0; same_ = 0; non_ = 0; big3_ = 0; small3_ = 0; four_= 0; whole_ = 0\n",
    "    for i in range(int((len(data)-a)/a)):\n",
    "        if data[i*a+b:i*a+c] in perfect_five:\n",
    "            perfect = perfect+1\n",
    "        elif data[i*a+b:i*a+c] in big_three:\n",
    "            big3 = big3+1\n",
    "        elif data[i*a+b:i*a+c] in small_three:\n",
    "            small3 = small3+1\n",
    "        elif data[i*a+b:i*a+c] in same_pitch:\n",
    "            same = same+1\n",
    "        elif data[i*a+b:i*a+c] in four_pitch:\n",
    "            four = four+1\n",
    "        elif data[i*a+b:i*a+c] in whole_tone:\n",
    "            whole = whole+1\n",
    "        else:\n",
    "            non = non+1\n",
    "        try:\n",
    "            perfect_ = round(perfect/int(len(data)/a) *100,2)\n",
    "            same_ = round(same/int(len(data)/a) *100,2)\n",
    "            non_ = round(non/int(len(data)/a) *100,2)\n",
    "            big3_ = round(big3/int(len(data)/a) *100,2)\n",
    "            small3_ = round(small3/int(len(data)/a) *100,2)\n",
    "            four_ = round(four/int(len(data)/a) *100,2)\n",
    "            whole_ = round(whole/int(len(data)/a) *100,2)\n",
    "        except:\n",
    "            pass\n",
    "    return perfect_, same_, non_ , big3_ , small3_ ,four_, whole_"
   ]
  },
  {
   "cell_type": "markdown",
   "metadata": {},
   "source": [
    "### Chord progression in all dataset"
   ]
  },
  {
   "cell_type": "code",
   "execution_count": 413,
   "metadata": {},
   "outputs": [
    {
     "name": "stdout",
     "output_type": "stream",
     "text": [
      "Perfect 5: 17.13 %\n",
      "Big three: 2.62 %\n",
      "Small 4.79 %\n",
      "Stable: 25.96 %\n",
      "Four: 18.19 %\n",
      "WholeTone: 18.23 %\n",
      "Other 13.08 %\n"
     ]
    }
   ],
   "source": [
    "flattened = [val for sublist in sleeping_key for val in sublist]\n",
    "perfect_, same_, non_ , big3_ , small3_ ,four_, whole_ = count_pattern(flattened,1,0,2)\n",
    "print(\"Perfect 5:\", perfect_, '%')\n",
    "print(\"Big three:\",big3_, '%')\n",
    "print(\"Small\",small3_, '%')\n",
    "print(\"Stable:\",same_, '%')\n",
    "print(\"Four:\",four_, '%')\n",
    "print(\"WholeTone:\",whole_, '%')\n",
    "print(\"Other\",non_, '%')"
   ]
  },
  {
   "cell_type": "markdown",
   "metadata": {},
   "source": [
    "### Chord progression in each songs"
   ]
  },
  {
   "cell_type": "code",
   "execution_count": 414,
   "metadata": {},
   "outputs": [
    {
     "name": "stdout",
     "output_type": "stream",
     "text": [
      "0 1 小时 心灵音乐 学习  輕音樂 睡覺  睡眠音樂 水晶  放鬆音樂  純音樂 節奏.wav\n",
      "Perfect 5: 15.72 %\n",
      "Big three: 3.34 %\n",
      "Small 5.69 %\n",
      "Stable: 21.74 %\n",
      "Four: 17.73 %\n",
      "WholeTone: 22.74 %\n",
      "Other 12.71 %\n",
      "\n",
      "1 3小时放鬆的音樂  背景音樂  純音樂 輕快 水音  禪修音樂  輕音樂  心靈音樂.wav\n",
      "Perfect 5: 30.33 %\n",
      "Big three: 0.0 %\n",
      "Small 3.67 %\n",
      "Stable: 27.67 %\n",
      "Four: 19.67 %\n",
      "WholeTone: 16.67 %\n",
      "Other 1.67 %\n",
      "\n",
      "2 Relaxing Piano Music Sleep Music Water Sounds Relaxing Music Meditation Music ★47🍀.wav\n",
      "Perfect 5: 17.53 %\n",
      "Big three: 4.38 %\n",
      "Small 5.58 %\n",
      "Stable: 15.14 %\n",
      "Four: 21.51 %\n",
      "WholeTone: 23.11 %\n",
      "Other 12.35 %\n",
      "\n",
      "3 [無廣告版] 讀書工作好心情！放鬆舒壓鋼琴和大自然音律 - 5 HOURS RELAX STUDYING MUSIC FOR CONCENTRATION.wav\n",
      "Perfect 5: 9.25 %\n",
      "Big three: 6.36 %\n",
      "Small 8.67 %\n",
      "Stable: 23.7 %\n",
      "Four: 5.78 %\n",
      "WholeTone: 19.08 %\n",
      "Other 26.59 %\n",
      "\n",
      "4 m1.wav\n",
      "Perfect 5: 20.96 %\n",
      "Big three: 1.8 %\n",
      "Small 2.99 %\n",
      "Stable: 29.94 %\n",
      "Four: 18.56 %\n",
      "WholeTone: 19.16 %\n",
      "Other 5.99 %\n",
      "\n",
      "5 m10.wav\n",
      "Perfect 5: 20.47 %\n",
      "Big three: 2.92 %\n",
      "Small 6.43 %\n",
      "Stable: 34.5 %\n",
      "Four: 16.96 %\n",
      "WholeTone: 9.36 %\n",
      "Other 8.77 %\n",
      "\n",
      "6 m11.wav\n",
      "Perfect 5: 13.95 %\n",
      "Big three: 2.72 %\n",
      "Small 6.12 %\n",
      "Stable: 23.13 %\n",
      "Four: 20.07 %\n",
      "WholeTone: 24.49 %\n",
      "Other 9.18 %\n",
      "\n",
      "7 m12_c.wav\n",
      "Perfect 5: 7.91 %\n",
      "Big three: 7.91 %\n",
      "Small 5.76 %\n",
      "Stable: 16.55 %\n",
      "Four: 10.07 %\n",
      "WholeTone: 22.3 %\n",
      "Other 28.78 %\n",
      "\n",
      "8 m13_c.wav\n",
      "Perfect 5: 22.52 %\n",
      "Big three: 0.38 %\n",
      "Small 2.67 %\n",
      "Stable: 32.44 %\n",
      "Four: 24.05 %\n",
      "WholeTone: 15.27 %\n",
      "Other 2.29 %\n",
      "\n",
      "9 m14_c.wav\n",
      "Perfect 5: 21.89 %\n",
      "Big three: 2.02 %\n",
      "Small 2.69 %\n",
      "Stable: 23.23 %\n",
      "Four: 20.2 %\n",
      "WholeTone: 22.22 %\n",
      "Other 7.41 %\n",
      "\n",
      "10 m15.wav\n",
      "Perfect 5: 19.79 %\n",
      "Big three: 0.35 %\n",
      "Small 4.17 %\n",
      "Stable: 34.03 %\n",
      "Four: 20.14 %\n",
      "WholeTone: 19.1 %\n",
      "Other 2.08 %\n",
      "\n",
      "11 m16.wav\n",
      "Perfect 5: 8.5 %\n",
      "Big three: 8.5 %\n",
      "Small 7.19 %\n",
      "Stable: 18.95 %\n",
      "Four: 13.07 %\n",
      "WholeTone: 18.3 %\n",
      "Other 24.84 %\n",
      "\n",
      "12 m17.wav\n",
      "Perfect 5: 7.5 %\n",
      "Big three: 5.0 %\n",
      "Small 5.0 %\n",
      "Stable: 20.0 %\n",
      "Four: 20.0 %\n",
      "WholeTone: 20.0 %\n",
      "Other 20.0 %\n",
      "\n",
      "13 m18.wav\n",
      "Perfect 5: 25.67 %\n",
      "Big three: 0.0 %\n",
      "Small 0.67 %\n",
      "Stable: 33.67 %\n",
      "Four: 29.67 %\n",
      "WholeTone: 9.33 %\n",
      "Other 0.67 %\n",
      "\n",
      "14 m19.wav\n",
      "Perfect 5: 12.17 %\n",
      "Big three: 5.29 %\n",
      "Small 10.58 %\n",
      "Stable: 21.16 %\n",
      "Four: 7.41 %\n",
      "WholeTone: 18.52 %\n",
      "Other 24.34 %\n",
      "\n",
      "15 m2.wav\n",
      "Perfect 5: 14.33 %\n",
      "Big three: 2.0 %\n",
      "Small 6.67 %\n",
      "Stable: 14.0 %\n",
      "Four: 19.33 %\n",
      "WholeTone: 22.0 %\n",
      "Other 21.33 %\n",
      "\n",
      "16 m20.wav\n",
      "Perfect 5: 18.67 %\n",
      "Big three: 2.0 %\n",
      "Small 4.0 %\n",
      "Stable: 31.67 %\n",
      "Four: 19.67 %\n",
      "WholeTone: 16.67 %\n",
      "Other 7.0 %\n",
      "\n",
      "17 m21.wav\n",
      "Perfect 5: 20.17 %\n",
      "Big three: 1.68 %\n",
      "Small 2.52 %\n",
      "Stable: 25.21 %\n",
      "Four: 21.01 %\n",
      "WholeTone: 25.21 %\n",
      "Other 3.36 %\n",
      "\n",
      "18 m22.wav\n",
      "Perfect 5: 19.06 %\n",
      "Big three: 0.0 %\n",
      "Small 0.67 %\n",
      "Stable: 42.81 %\n",
      "Four: 22.74 %\n",
      "WholeTone: 14.38 %\n",
      "Other 0.0 %\n",
      "\n",
      "19 m23.wav\n",
      "Perfect 5: 23.83 %\n",
      "Big three: 2.01 %\n",
      "Small 4.36 %\n",
      "Stable: 22.48 %\n",
      "Four: 23.15 %\n",
      "WholeTone: 19.13 %\n",
      "Other 4.7 %\n",
      "\n",
      "20 m24.wav\n",
      "Perfect 5: 18.33 %\n",
      "Big three: 1.33 %\n",
      "Small 5.0 %\n",
      "Stable: 26.67 %\n",
      "Four: 20.0 %\n",
      "WholeTone: 21.33 %\n",
      "Other 7.0 %\n",
      "\n",
      "21 m25.wav\n",
      "Perfect 5: 15.38 %\n",
      "Big three: 1.1 %\n",
      "Small 8.06 %\n",
      "Stable: 27.11 %\n",
      "Four: 15.38 %\n",
      "WholeTone: 17.58 %\n",
      "Other 15.02 %\n",
      "\n",
      "22 m26.wav\n",
      "Perfect 5: 21.76 %\n",
      "Big three: 0.46 %\n",
      "Small 4.17 %\n",
      "Stable: 24.54 %\n",
      "Four: 21.76 %\n",
      "WholeTone: 25.0 %\n",
      "Other 1.85 %\n",
      "\n",
      "23 m27.wav\n",
      "Perfect 5: 19.79 %\n",
      "Big three: 0.35 %\n",
      "Small 4.17 %\n",
      "Stable: 34.03 %\n",
      "Four: 20.14 %\n",
      "WholeTone: 19.1 %\n",
      "Other 2.08 %\n",
      "\n",
      "24 m28.wav\n",
      "Perfect 5: 12.55 %\n",
      "Big three: 4.56 %\n",
      "Small 6.46 %\n",
      "Stable: 18.25 %\n",
      "Four: 16.35 %\n",
      "WholeTone: 15.21 %\n",
      "Other 26.24 %\n",
      "\n",
      "25 m29.wav\n",
      "Perfect 5: 16.24 %\n",
      "Big three: 2.03 %\n",
      "Small 4.57 %\n",
      "Stable: 21.83 %\n",
      "Four: 14.72 %\n",
      "WholeTone: 25.89 %\n",
      "Other 14.21 %\n",
      "\n",
      "26 m3.wav\n",
      "Perfect 5: 18.01 %\n",
      "Big three: 2.3 %\n",
      "Small 4.21 %\n",
      "Stable: 28.35 %\n",
      "Four: 21.07 %\n",
      "WholeTone: 19.54 %\n",
      "Other 6.13 %\n",
      "\n",
      "27 m30.wav\n",
      "Perfect 5: 13.95 %\n",
      "Big three: 2.72 %\n",
      "Small 6.12 %\n",
      "Stable: 23.13 %\n",
      "Four: 20.07 %\n",
      "WholeTone: 24.49 %\n",
      "Other 9.18 %\n",
      "\n",
      "28 m31.wav\n",
      "Perfect 5: 11.33 %\n",
      "Big three: 6.0 %\n",
      "Small 9.67 %\n",
      "Stable: 22.33 %\n",
      "Four: 18.33 %\n",
      "WholeTone: 21.0 %\n",
      "Other 11.0 %\n",
      "\n",
      "29 m32.wav\n",
      "Perfect 5: 14.41 %\n",
      "Big three: 5.08 %\n",
      "Small 12.71 %\n",
      "Stable: 16.1 %\n",
      "Four: 10.17 %\n",
      "WholeTone: 20.34 %\n",
      "Other 20.34 %\n",
      "\n",
      "30 m33.wav\n",
      "Perfect 5: 23.0 %\n",
      "Big three: 0.67 %\n",
      "Small 1.33 %\n",
      "Stable: 33.67 %\n",
      "Four: 25.67 %\n",
      "WholeTone: 15.0 %\n",
      "Other 0.33 %\n",
      "\n",
      "31 m34.wav\n",
      "Perfect 5: 20.33 %\n",
      "Big three: 3.32 %\n",
      "Small 6.22 %\n",
      "Stable: 15.35 %\n",
      "Four: 15.35 %\n",
      "WholeTone: 25.31 %\n",
      "Other 13.69 %\n",
      "\n",
      "32 m35.wav\n",
      "Perfect 5: 8.7 %\n",
      "Big three: 6.21 %\n",
      "Small 6.83 %\n",
      "Stable: 20.5 %\n",
      "Four: 9.32 %\n",
      "WholeTone: 15.53 %\n",
      "Other 32.3 %\n",
      "\n",
      "33 m36.wav\n",
      "Perfect 5: 18.56 %\n",
      "Big three: 2.4 %\n",
      "Small 4.19 %\n",
      "Stable: 34.13 %\n",
      "Four: 15.57 %\n",
      "WholeTone: 14.97 %\n",
      "Other 9.58 %\n",
      "\n",
      "34 m37.wav\n",
      "Perfect 5: 19.67 %\n",
      "Big three: 0.67 %\n",
      "Small 5.0 %\n",
      "Stable: 32.67 %\n",
      "Four: 23.33 %\n",
      "WholeTone: 11.67 %\n",
      "Other 6.67 %\n",
      "\n",
      "35 m38.wav\n",
      "Perfect 5: 17.44 %\n",
      "Big three: 0.0 %\n",
      "Small 2.56 %\n",
      "Stable: 27.18 %\n",
      "Four: 29.74 %\n",
      "WholeTone: 19.49 %\n",
      "Other 3.08 %\n",
      "\n",
      "36 m39.wav\n",
      "Perfect 5: 20.54 %\n",
      "Big three: 2.36 %\n",
      "Small 3.7 %\n",
      "Stable: 28.96 %\n",
      "Four: 20.54 %\n",
      "WholeTone: 14.48 %\n",
      "Other 9.09 %\n",
      "\n",
      "37 m4.wav\n",
      "Perfect 5: 17.45 %\n",
      "Big three: 2.01 %\n",
      "Small 4.7 %\n",
      "Stable: 27.18 %\n",
      "Four: 18.12 %\n",
      "WholeTone: 21.81 %\n",
      "Other 8.39 %\n",
      "\n",
      "38 m40.wav\n",
      "Perfect 5: 16.11 %\n",
      "Big three: 2.68 %\n",
      "Small 4.7 %\n",
      "Stable: 24.5 %\n",
      "Four: 16.78 %\n",
      "WholeTone: 25.84 %\n",
      "Other 9.06 %\n",
      "\n",
      "39 m41.wav\n",
      "Perfect 5: 16.11 %\n",
      "Big three: 2.01 %\n",
      "Small 4.36 %\n",
      "Stable: 24.5 %\n",
      "Four: 15.77 %\n",
      "WholeTone: 18.12 %\n",
      "Other 18.79 %\n",
      "\n",
      "40 m42.wav\n",
      "Perfect 5: 23.67 %\n",
      "Big three: 2.67 %\n",
      "Small 3.0 %\n",
      "Stable: 18.33 %\n",
      "Four: 19.33 %\n",
      "WholeTone: 23.67 %\n",
      "Other 9.0 %\n",
      "\n",
      "41 m43.wav\n",
      "Perfect 5: 17.83 %\n",
      "Big three: 1.55 %\n",
      "Small 5.43 %\n",
      "Stable: 31.78 %\n",
      "Four: 13.18 %\n",
      "WholeTone: 15.5 %\n",
      "Other 13.95 %\n",
      "\n",
      "42 m46.wav\n",
      "Perfect 5: 9.59 %\n",
      "Big three: 6.51 %\n",
      "Small 7.19 %\n",
      "Stable: 13.36 %\n",
      "Four: 14.04 %\n",
      "WholeTone: 20.55 %\n",
      "Other 28.42 %\n",
      "\n",
      "43 m48.wav\n",
      "Perfect 5: 7.06 %\n",
      "Big three: 4.46 %\n",
      "Small 5.95 %\n",
      "Stable: 25.28 %\n",
      "Four: 5.2 %\n",
      "WholeTone: 13.38 %\n",
      "Other 38.29 %\n",
      "\n",
      "44 m5.wav\n",
      "Perfect 5: 22.48 %\n",
      "Big three: 1.34 %\n",
      "Small 2.01 %\n",
      "Stable: 34.56 %\n",
      "Four: 22.15 %\n",
      "WholeTone: 10.4 %\n",
      "Other 6.71 %\n",
      "\n",
      "45 m50.wav\n",
      "Perfect 5: 20.0 %\n",
      "Big three: 1.33 %\n",
      "Small 4.33 %\n",
      "Stable: 24.0 %\n",
      "Four: 13.67 %\n",
      "WholeTone: 25.67 %\n",
      "Other 10.67 %\n",
      "\n",
      "46 m51.wav\n",
      "Perfect 5: 20.0 %\n",
      "Big three: 0.0 %\n",
      "Small 1.67 %\n",
      "Stable: 28.0 %\n",
      "Four: 27.67 %\n",
      "WholeTone: 20.67 %\n",
      "Other 1.67 %\n",
      "\n",
      "47 m52.wav\n",
      "Perfect 5: 16.0 %\n",
      "Big three: 1.67 %\n",
      "Small 3.67 %\n",
      "Stable: 34.33 %\n",
      "Four: 19.33 %\n",
      "WholeTone: 18.33 %\n",
      "Other 6.33 %\n",
      "\n",
      "48 m53.wav\n",
      "Perfect 5: 5.81 %\n",
      "Big three: 9.3 %\n",
      "Small 8.14 %\n",
      "Stable: 18.99 %\n",
      "Four: 4.65 %\n",
      "WholeTone: 15.12 %\n",
      "Other 37.6 %\n",
      "\n",
      "49 m54.wav\n",
      "Perfect 5: 13.67 %\n",
      "Big three: 3.33 %\n",
      "Small 6.67 %\n",
      "Stable: 22.33 %\n",
      "Four: 13.67 %\n",
      "WholeTone: 16.0 %\n",
      "Other 24.0 %\n",
      "\n",
      "50 m58.wav\n",
      "Perfect 5: 22.33 %\n",
      "Big three: 0.33 %\n",
      "Small 1.67 %\n",
      "Stable: 25.0 %\n",
      "Four: 28.33 %\n",
      "WholeTone: 16.67 %\n",
      "Other 5.33 %\n",
      "\n",
      "51 m6_c.wav\n",
      "Perfect 5: 20.1 %\n",
      "Big three: 1.03 %\n",
      "Small 2.06 %\n",
      "Stable: 28.87 %\n",
      "Four: 20.62 %\n",
      "WholeTone: 21.65 %\n",
      "Other 5.15 %\n",
      "\n",
      "52 m7_c.wav\n",
      "Perfect 5: 21.76 %\n",
      "Big three: 1.91 %\n",
      "Small 4.58 %\n",
      "Stable: 22.52 %\n",
      "Four: 15.65 %\n",
      "WholeTone: 22.52 %\n",
      "Other 10.69 %\n",
      "\n",
      "53 m9.wav\n",
      "Perfect 5: 14.67 %\n",
      "Big three: 3.0 %\n",
      "Small 5.33 %\n",
      "Stable: 14.67 %\n",
      "Four: 21.33 %\n",
      "WholeTone: 20.67 %\n",
      "Other 20.0 %\n",
      "\n",
      "54 【432Hz・528Hz・睡眠】自然治癒力を向上させる宇宙の周波数に調整した音楽にソルフェジオ周波数で身体を完全休息状態に…超熟睡の世界へ.wav\n",
      "Perfect 5: 21.33 %\n",
      "Big three: 0.33 %\n",
      "Small 3.67 %\n",
      "Stable: 32.33 %\n",
      "Four: 18.67 %\n",
      "WholeTone: 17.67 %\n",
      "Other 5.67 %\n",
      "\n",
      "55 【ものすごく深く眠れると話題の睡眠用BGM】 夜眠れないとき聞く癒し リラックス快眠音楽  YouTube 不眠症解消　薬不要.wav\n",
      "Perfect 5: 3.7 %\n",
      "Big three: 3.7 %\n",
      "Small 13.89 %\n",
      "Stable: 38.89 %\n",
      "Four: 11.11 %\n",
      "WholeTone: 7.41 %\n",
      "Other 20.37 %\n",
      "\n",
      "56 【ものすごく深く眠れると話題の睡眠用BGM】 夜眠れないとき聞く癒し リラックス快眠音楽 短い睡眠でも朝スッキリ！ 睡眠の質を高める睡眠音楽.wav\n",
      "Perfect 5: 20.67 %\n",
      "Big three: 1.67 %\n",
      "Small 5.0 %\n",
      "Stable: 27.67 %\n",
      "Four: 19.33 %\n",
      "WholeTone: 17.67 %\n",
      "Other 7.67 %\n",
      "\n",
      "57 【セロトニン増加で深い睡眠状態に】寝る時に聞くリラックスミュージック【α波】.wav\n",
      "Perfect 5: 23.67 %\n",
      "Big three: 0.67 %\n",
      "Small 0.0 %\n",
      "Stable: 38.33 %\n",
      "Four: 23.0 %\n",
      "WholeTone: 12.67 %\n",
      "Other 1.33 %\n",
      "\n",
      "58 【心が落ち着く音楽】～美しいハープの音色が奏でるメロディーに癒されるヒーリングミュージック～精神安定、瞑想、ヨガ、睡眠用、疲労回復etc.wav\n",
      "Perfect 5: 11.37 %\n",
      "Big three: 5.88 %\n",
      "Small 4.31 %\n",
      "Stable: 14.51 %\n",
      "Four: 10.59 %\n",
      "WholeTone: 20.0 %\n",
      "Other 32.94 %\n",
      "\n",
      "59 【睡眠・癒やし・528Hz】眠る前に聞いて気持ちをリラックス…心身の緊張を解きほぐす音楽と周波数でスッと眠れる状態に….wav\n",
      "Perfect 5: 20.67 %\n",
      "Big three: 0.67 %\n",
      "Small 1.67 %\n",
      "Stable: 32.0 %\n",
      "Four: 26.33 %\n",
      "WholeTone: 16.67 %\n",
      "Other 1.67 %\n",
      "\n",
      "60 【超熟睡】短い睡眠でも朝スッキリ！ 睡眠の質を高める睡眠音楽｜心身の緊張を解きリラックス効果｜自律神経 疲労回復 熟睡 癒し ストレス緩和｜Deep Relaxing Sleep Music.wav\n",
      "Perfect 5: 14.2 %\n",
      "Big three: 5.92 %\n",
      "Small 4.14 %\n",
      "Stable: 29.59 %\n",
      "Four: 16.57 %\n",
      "WholeTone: 9.47 %\n",
      "Other 19.53 %\n",
      "\n",
      "61 【５分聞いているうち眠くなります】リラックス効果ですぐに眠くなる魔法の音楽【α波】.wav\n",
      "Perfect 5: 12.98 %\n",
      "Big three: 5.96 %\n",
      "Small 6.32 %\n",
      "Stable: 14.74 %\n",
      "Four: 10.88 %\n",
      "WholeTone: 19.3 %\n",
      "Other 29.47 %\n",
      "\n",
      "62 不思議と眠くなる優しいピアノメドレー -  おやすみ用音楽 - 睡眠モードへ！安らぎの熟睡タイム - Relax BGM - 自然音BGM - 癒し音楽.wav\n",
      "Perfect 5: 10.0 %\n",
      "Big three: 3.33 %\n",
      "Small 7.33 %\n",
      "Stable: 18.0 %\n",
      "Four: 16.67 %\n",
      "WholeTone: 25.0 %\n",
      "Other 19.33 %\n",
      "\n",
      "63 幫助你深度睡眠 安心入睡的輕鬆音樂[睡眠輕音樂].wav\n",
      "Perfect 5: 20.67 %\n",
      "Big three: 1.0 %\n",
      "Small 6.33 %\n",
      "Stable: 30.67 %\n",
      "Four: 17.33 %\n",
      "WholeTone: 12.33 %\n",
      "Other 11.33 %\n",
      "\n",
      "64 恢復癒合身體，身心放鬆，深度睡眠 α波睡覺音樂 潛意識力量 [冥想音樂].wav\n",
      "Perfect 5: 16.02 %\n",
      "Big three: 5.52 %\n",
      "Small 3.87 %\n",
      "Stable: 29.28 %\n",
      "Four: 17.68 %\n",
      "WholeTone: 8.84 %\n",
      "Other 18.23 %\n",
      "\n",
      "65 放松睡眠音乐 - 柔和的钢琴音乐，睡觉音乐，舒缓的音乐冥想，瑜伽音乐.Relaxing Sleep MusicSoft Piano Music Soothing Music.wav\n",
      "Perfect 5: 9.13 %\n",
      "Big three: 3.48 %\n",
      "Small 6.52 %\n",
      "Stable: 22.17 %\n",
      "Four: 5.65 %\n",
      "WholeTone: 13.91 %\n",
      "Other 38.7 %\n",
      "\n",
      "66 有助打開第三隻眼的睡眠音樂！30分鐘激活腦內潛能.wav\n",
      "Perfect 5: 8.92 %\n",
      "Big three: 5.73 %\n",
      "Small 7.64 %\n",
      "Stable: 21.02 %\n",
      "Four: 10.83 %\n",
      "WholeTone: 11.46 %\n",
      "Other 33.76 %\n",
      "\n",
      "67 深層睡眠 不可思議的音樂[1小時]第五輯 採用α波 令腦部神經盡快達到鬆弛的效果.wav\n",
      "Perfect 5: 22.95 %\n",
      "Big three: 0.34 %\n",
      "Small 1.71 %\n",
      "Stable: 23.97 %\n",
      "Four: 28.42 %\n",
      "WholeTone: 16.78 %\n",
      "Other 5.48 %\n",
      "\n",
      "68 無廣告音樂放鬆音樂深度睡眠放鬆音樂治療音樂舒壓按摩音樂 睡眠音樂療癒音樂鋼琴音樂波音鋼琴曲輕音樂輕快BGM純音樂钢琴曲轻音乐.wav\n",
      "Perfect 5: 7.14 %\n",
      "Big three: 11.04 %\n",
      "Small 3.9 %\n",
      "Stable: 20.13 %\n",
      "Four: 4.55 %\n",
      "WholeTone: 12.34 %\n",
      "Other 40.26 %\n",
      "\n",
      "69 無廣告音樂放鬆音樂深度睡眠放鬆音樂治療音樂舒壓按摩音樂 睡眠音樂療癒音樂鋼琴音樂波音鋼琴曲輕音樂輕快BGM純音樂钢琴曲轻音乐12.wav\n",
      "Perfect 5: 14.33 %\n",
      "Big three: 2.67 %\n",
      "Small 7.33 %\n",
      "Stable: 22.33 %\n",
      "Four: 20.0 %\n",
      "WholeTone: 23.0 %\n",
      "Other 10.0 %\n",
      "\n",
      "70 短い睡眠でも朝スッキリ！ 睡眠の質を高める睡眠音楽｜心身の緊張を解きリラックス効果｜自律神経 疲労回復 熟睡 癒し ストレス緩和｜Deep Relaxing Sleep Music.wav\n",
      "Perfect 5: 17.07 %\n",
      "Big three: 1.46 %\n",
      "Small 3.41 %\n",
      "Stable: 23.41 %\n",
      "Four: 19.51 %\n",
      "WholeTone: 19.51 %\n",
      "Other 15.12 %\n",
      "\n",
      "71 聲波治療 自然療法 睡眠誘導音樂[30分鐘]第四輯 採用睡眠聲波 為腦部充能 應付日常生活工作.wav\n",
      "Perfect 5: 7.44 %\n",
      "Big three: 3.31 %\n",
      "Small 7.44 %\n",
      "Stable: 28.93 %\n",
      "Four: 9.09 %\n",
      "WholeTone: 9.09 %\n",
      "Other 33.88 %\n",
      "\n",
      "72 輕音樂 睡覺 - 背景音樂 - 睡眠音樂 - 大自然音樂 - 森林音樂 - 水 音樂 (快速入睡).wav\n",
      "Perfect 5: 16.67 %\n",
      "Big three: 3.0 %\n",
      "Small 6.0 %\n",
      "Stable: 26.0 %\n",
      "Four: 19.33 %\n",
      "WholeTone: 17.67 %\n",
      "Other 11.0 %\n",
      "\n",
      "73 音樂保健 養生音樂 [睡眠輕音樂] (1).wav\n",
      "Perfect 5: 16.26 %\n",
      "Big three: 1.97 %\n",
      "Small 3.45 %\n",
      "Stable: 33.0 %\n",
      "Four: 17.24 %\n",
      "WholeTone: 11.33 %\n",
      "Other 16.26 %\n",
      "\n",
      "74 音樂保健 養生音樂 [睡眠輕音樂].wav\n",
      "Perfect 5: 10.17 %\n",
      "Big three: 2.26 %\n",
      "Small 0.56 %\n",
      "Stable: 49.15 %\n",
      "Four: 6.78 %\n",
      "WholeTone: 6.78 %\n",
      "Other 23.73 %\n",
      "\n"
     ]
    }
   ],
   "source": [
    "for idx in range(len(sleeping_music)):\n",
    "    perfect_, same_, non_ , big3_ , small3_ ,four_, whole_ = count_pattern(sleeping_key[idx],1,0,2)\n",
    "    print(idx,sleeping_music[idx])\n",
    "    print(\"Perfect 5:\", perfect_, '%')\n",
    "    print(\"Big three:\",big3_, '%')\n",
    "    print(\"Small\",small3_, '%')\n",
    "    print(\"Stable:\",same_, '%')\n",
    "    print(\"Four:\",four_, '%')\n",
    "    print(\"WholeTone:\",whole_, '%')\n",
    "    print(\"Other\",non_, '%')\n",
    "    print()"
   ]
  },
  {
   "cell_type": "markdown",
   "metadata": {},
   "source": [
    "### Chord progression between phrase - by songs"
   ]
  },
  {
   "cell_type": "code",
   "execution_count": 415,
   "metadata": {},
   "outputs": [
    {
     "name": "stdout",
     "output_type": "stream",
     "text": [
      "Perfect 5: 10.81 %\n",
      "Big three: 2.7 %\n",
      "Small 2.7 %\n",
      "Stable: 24.32 %\n",
      "Four: 18.92 %\n",
      "WholeTone: 27.03 %\n",
      "Other 12.16 %\n",
      "\n",
      "Perfect 5: 24.0 %\n",
      "Big three: 0.0 %\n",
      "Small 5.33 %\n",
      "Stable: 26.67 %\n",
      "Four: 20.0 %\n",
      "WholeTone: 22.67 %\n",
      "Other 0.0 %\n",
      "\n",
      "Perfect 5: 16.13 %\n",
      "Big three: 8.06 %\n",
      "Small 4.84 %\n",
      "Stable: 14.52 %\n",
      "Four: 12.9 %\n",
      "WholeTone: 25.81 %\n",
      "Other 16.13 %\n",
      "\n",
      "Perfect 5: 4.65 %\n",
      "Big three: 4.65 %\n",
      "Small 2.33 %\n",
      "Stable: 27.91 %\n",
      "Four: 6.98 %\n",
      "WholeTone: 27.91 %\n",
      "Other 23.26 %\n",
      "\n",
      "Perfect 5: 21.95 %\n",
      "Big three: 2.44 %\n",
      "Small 2.44 %\n",
      "Stable: 26.83 %\n",
      "Four: 12.2 %\n",
      "WholeTone: 19.51 %\n",
      "Other 12.2 %\n",
      "\n",
      "Perfect 5: 26.19 %\n",
      "Big three: 2.38 %\n",
      "Small 0.0 %\n",
      "Stable: 28.57 %\n",
      "Four: 23.81 %\n",
      "WholeTone: 9.52 %\n",
      "Other 7.14 %\n",
      "\n",
      "Perfect 5: 13.7 %\n",
      "Big three: 2.74 %\n",
      "Small 9.59 %\n",
      "Stable: 21.92 %\n",
      "Four: 21.92 %\n",
      "WholeTone: 20.55 %\n",
      "Other 8.22 %\n",
      "\n",
      "Perfect 5: 8.82 %\n",
      "Big three: 2.94 %\n",
      "Small 2.94 %\n",
      "Stable: 11.76 %\n",
      "Four: 11.76 %\n",
      "WholeTone: 14.71 %\n",
      "Other 44.12 %\n",
      "\n",
      "Perfect 5: 26.15 %\n",
      "Big three: 1.54 %\n",
      "Small 1.54 %\n",
      "Stable: 35.38 %\n",
      "Four: 16.92 %\n",
      "WholeTone: 15.38 %\n",
      "Other 1.54 %\n",
      "\n",
      "Perfect 5: 20.27 %\n",
      "Big three: 0.0 %\n",
      "Small 1.35 %\n",
      "Stable: 27.03 %\n",
      "Four: 14.86 %\n",
      "WholeTone: 24.32 %\n",
      "Other 10.81 %\n",
      "\n",
      "Perfect 5: 29.17 %\n",
      "Big three: 0.0 %\n",
      "Small 4.17 %\n",
      "Stable: 30.56 %\n",
      "Four: 13.89 %\n",
      "WholeTone: 15.28 %\n",
      "Other 5.56 %\n",
      "\n",
      "Perfect 5: 2.63 %\n",
      "Big three: 15.79 %\n",
      "Small 7.89 %\n",
      "Stable: 13.16 %\n",
      "Four: 15.79 %\n",
      "WholeTone: 15.79 %\n",
      "Other 26.32 %\n",
      "\n",
      "Perfect 5: 0.0 %\n",
      "Big three: 10.0 %\n",
      "Small 10.0 %\n",
      "Stable: 10.0 %\n",
      "Four: 30.0 %\n",
      "WholeTone: 20.0 %\n",
      "Other 10.0 %\n",
      "\n",
      "Perfect 5: 22.67 %\n",
      "Big three: 0.0 %\n",
      "Small 0.0 %\n",
      "Stable: 33.33 %\n",
      "Four: 29.33 %\n",
      "WholeTone: 12.0 %\n",
      "Other 1.33 %\n",
      "\n",
      "Perfect 5: 17.02 %\n",
      "Big three: 2.13 %\n",
      "Small 14.89 %\n",
      "Stable: 19.15 %\n",
      "Four: 4.26 %\n",
      "WholeTone: 21.28 %\n",
      "Other 19.15 %\n",
      "\n",
      "Perfect 5: 25.33 %\n",
      "Big three: 2.67 %\n",
      "Small 6.67 %\n",
      "Stable: 12.0 %\n",
      "Four: 16.0 %\n",
      "WholeTone: 14.67 %\n",
      "Other 21.33 %\n",
      "\n",
      "Perfect 5: 20.0 %\n",
      "Big three: 0.0 %\n",
      "Small 2.67 %\n",
      "Stable: 38.67 %\n",
      "Four: 20.0 %\n",
      "WholeTone: 10.67 %\n",
      "Other 6.67 %\n",
      "\n",
      "Perfect 5: 17.24 %\n",
      "Big three: 0.0 %\n",
      "Small 0.0 %\n",
      "Stable: 24.14 %\n",
      "Four: 24.14 %\n",
      "WholeTone: 24.14 %\n",
      "Other 6.9 %\n",
      "\n",
      "Perfect 5: 21.62 %\n",
      "Big three: 0.0 %\n",
      "Small 0.0 %\n",
      "Stable: 40.54 %\n",
      "Four: 24.32 %\n",
      "WholeTone: 12.16 %\n",
      "Other 0.0 %\n",
      "\n",
      "Perfect 5: 20.27 %\n",
      "Big three: 1.35 %\n",
      "Small 4.05 %\n",
      "Stable: 17.57 %\n",
      "Four: 20.27 %\n",
      "WholeTone: 29.73 %\n",
      "Other 5.41 %\n",
      "\n",
      "Perfect 5: 22.67 %\n",
      "Big three: 1.33 %\n",
      "Small 1.33 %\n",
      "Stable: 26.67 %\n",
      "Four: 16.0 %\n",
      "WholeTone: 25.33 %\n",
      "Other 5.33 %\n",
      "\n",
      "Perfect 5: 19.12 %\n",
      "Big three: 1.47 %\n",
      "Small 4.41 %\n",
      "Stable: 32.35 %\n",
      "Four: 13.24 %\n",
      "WholeTone: 13.24 %\n",
      "Other 14.71 %\n",
      "\n",
      "Perfect 5: 14.81 %\n",
      "Big three: 0.0 %\n",
      "Small 9.26 %\n",
      "Stable: 29.63 %\n",
      "Four: 24.07 %\n",
      "WholeTone: 18.52 %\n",
      "Other 1.85 %\n",
      "\n",
      "Perfect 5: 29.17 %\n",
      "Big three: 0.0 %\n",
      "Small 4.17 %\n",
      "Stable: 30.56 %\n",
      "Four: 13.89 %\n",
      "WholeTone: 15.28 %\n",
      "Other 5.56 %\n",
      "\n",
      "Perfect 5: 13.85 %\n",
      "Big three: 1.54 %\n",
      "Small 10.77 %\n",
      "Stable: 23.08 %\n",
      "Four: 10.77 %\n",
      "WholeTone: 16.92 %\n",
      "Other 21.54 %\n",
      "\n",
      "Perfect 5: 12.24 %\n",
      "Big three: 6.12 %\n",
      "Small 4.08 %\n",
      "Stable: 22.45 %\n",
      "Four: 12.24 %\n",
      "WholeTone: 26.53 %\n",
      "Other 14.29 %\n",
      "\n",
      "Perfect 5: 16.92 %\n",
      "Big three: 1.54 %\n",
      "Small 4.62 %\n",
      "Stable: 27.69 %\n",
      "Four: 20.0 %\n",
      "WholeTone: 20.0 %\n",
      "Other 7.69 %\n",
      "\n",
      "Perfect 5: 13.7 %\n",
      "Big three: 2.74 %\n",
      "Small 9.59 %\n",
      "Stable: 21.92 %\n",
      "Four: 21.92 %\n",
      "WholeTone: 20.55 %\n",
      "Other 8.22 %\n",
      "\n",
      "Perfect 5: 21.33 %\n",
      "Big three: 2.67 %\n",
      "Small 9.33 %\n",
      "Stable: 17.33 %\n",
      "Four: 17.33 %\n",
      "WholeTone: 21.33 %\n",
      "Other 9.33 %\n",
      "\n",
      "Perfect 5: 10.34 %\n",
      "Big three: 3.45 %\n",
      "Small 17.24 %\n",
      "Stable: 17.24 %\n",
      "Four: 17.24 %\n",
      "WholeTone: 17.24 %\n",
      "Other 13.79 %\n",
      "\n",
      "Perfect 5: 26.67 %\n",
      "Big three: 1.33 %\n",
      "Small 1.33 %\n",
      "Stable: 22.67 %\n",
      "Four: 32.0 %\n",
      "WholeTone: 14.67 %\n",
      "Other 0.0 %\n",
      "\n",
      "Perfect 5: 16.67 %\n",
      "Big three: 3.33 %\n",
      "Small 5.0 %\n",
      "Stable: 13.33 %\n",
      "Four: 13.33 %\n",
      "WholeTone: 28.33 %\n",
      "Other 18.33 %\n",
      "\n",
      "Perfect 5: 7.5 %\n",
      "Big three: 5.0 %\n",
      "Small 10.0 %\n",
      "Stable: 17.5 %\n",
      "Four: 7.5 %\n",
      "WholeTone: 12.5 %\n",
      "Other 37.5 %\n",
      "\n",
      "Perfect 5: 9.76 %\n",
      "Big three: 0.0 %\n",
      "Small 4.88 %\n",
      "Stable: 36.59 %\n",
      "Four: 21.95 %\n",
      "WholeTone: 12.2 %\n",
      "Other 12.2 %\n",
      "\n",
      "Perfect 5: 24.0 %\n",
      "Big three: 1.33 %\n",
      "Small 2.67 %\n",
      "Stable: 33.33 %\n",
      "Four: 20.0 %\n",
      "WholeTone: 9.33 %\n",
      "Other 8.0 %\n",
      "\n",
      "Perfect 5: 14.58 %\n",
      "Big three: 0.0 %\n",
      "Small 0.0 %\n",
      "Stable: 22.92 %\n",
      "Four: 43.75 %\n",
      "WholeTone: 12.5 %\n",
      "Other 4.17 %\n",
      "\n",
      "Perfect 5: 21.62 %\n",
      "Big three: 2.7 %\n",
      "Small 2.7 %\n",
      "Stable: 27.03 %\n",
      "Four: 18.92 %\n",
      "WholeTone: 12.16 %\n",
      "Other 13.51 %\n",
      "\n",
      "Perfect 5: 16.22 %\n",
      "Big three: 4.05 %\n",
      "Small 5.41 %\n",
      "Stable: 32.43 %\n",
      "Four: 20.27 %\n",
      "WholeTone: 13.51 %\n",
      "Other 6.76 %\n",
      "\n",
      "Perfect 5: 20.27 %\n",
      "Big three: 1.35 %\n",
      "Small 6.76 %\n",
      "Stable: 27.03 %\n",
      "Four: 13.51 %\n",
      "WholeTone: 17.57 %\n",
      "Other 12.16 %\n",
      "\n",
      "Perfect 5: 22.97 %\n",
      "Big three: 1.35 %\n",
      "Small 5.41 %\n",
      "Stable: 17.57 %\n",
      "Four: 9.46 %\n",
      "WholeTone: 24.32 %\n",
      "Other 17.57 %\n",
      "\n",
      "Perfect 5: 26.67 %\n",
      "Big three: 0.0 %\n",
      "Small 2.67 %\n",
      "Stable: 17.33 %\n",
      "Four: 20.0 %\n",
      "WholeTone: 21.33 %\n",
      "Other 10.67 %\n",
      "\n",
      "Perfect 5: 15.62 %\n",
      "Big three: 0.0 %\n",
      "Small 12.5 %\n",
      "Stable: 34.38 %\n",
      "Four: 9.38 %\n",
      "WholeTone: 9.38 %\n",
      "Other 15.62 %\n",
      "\n",
      "Perfect 5: 6.85 %\n",
      "Big three: 5.48 %\n",
      "Small 2.74 %\n",
      "Stable: 15.07 %\n",
      "Four: 13.7 %\n",
      "WholeTone: 24.66 %\n",
      "Other 30.14 %\n",
      "\n",
      "Perfect 5: 7.46 %\n",
      "Big three: 4.48 %\n",
      "Small 5.97 %\n",
      "Stable: 28.36 %\n",
      "Four: 2.99 %\n",
      "WholeTone: 11.94 %\n",
      "Other 37.31 %\n",
      "\n",
      "Perfect 5: 13.51 %\n",
      "Big three: 2.7 %\n",
      "Small 1.35 %\n",
      "Stable: 37.84 %\n",
      "Four: 20.27 %\n",
      "WholeTone: 12.16 %\n",
      "Other 10.81 %\n",
      "\n",
      "Perfect 5: 20.0 %\n",
      "Big three: 1.33 %\n",
      "Small 6.67 %\n",
      "Stable: 24.0 %\n",
      "Four: 10.67 %\n",
      "WholeTone: 25.33 %\n",
      "Other 10.67 %\n",
      "\n",
      "Perfect 5: 13.33 %\n",
      "Big three: 0.0 %\n",
      "Small 1.33 %\n",
      "Stable: 28.0 %\n",
      "Four: 33.33 %\n",
      "WholeTone: 21.33 %\n",
      "Other 1.33 %\n",
      "\n",
      "Perfect 5: 17.33 %\n",
      "Big three: 1.33 %\n",
      "Small 4.0 %\n",
      "Stable: 36.0 %\n",
      "Four: 10.67 %\n",
      "WholeTone: 18.67 %\n",
      "Other 10.67 %\n",
      "\n",
      "Perfect 5: 3.12 %\n",
      "Big three: 10.94 %\n",
      "Small 7.81 %\n",
      "Stable: 15.62 %\n",
      "Four: 3.12 %\n",
      "WholeTone: 18.75 %\n",
      "Other 39.06 %\n",
      "\n",
      "Perfect 5: 12.0 %\n",
      "Big three: 4.0 %\n",
      "Small 8.0 %\n",
      "Stable: 21.33 %\n",
      "Four: 20.0 %\n",
      "WholeTone: 16.0 %\n",
      "Other 17.33 %\n",
      "\n",
      "Perfect 5: 18.67 %\n",
      "Big three: 1.33 %\n",
      "Small 1.33 %\n",
      "Stable: 28.0 %\n",
      "Four: 24.0 %\n",
      "WholeTone: 18.67 %\n",
      "Other 6.67 %\n",
      "\n",
      "Perfect 5: 14.58 %\n",
      "Big three: 0.0 %\n",
      "Small 0.0 %\n",
      "Stable: 25.0 %\n",
      "Four: 18.75 %\n",
      "WholeTone: 35.42 %\n",
      "Other 4.17 %\n",
      "\n",
      "Perfect 5: 29.23 %\n",
      "Big three: 1.54 %\n",
      "Small 1.54 %\n",
      "Stable: 20.0 %\n",
      "Four: 12.31 %\n",
      "WholeTone: 24.62 %\n",
      "Other 9.23 %\n",
      "\n",
      "Perfect 5: 13.33 %\n",
      "Big three: 4.0 %\n",
      "Small 5.33 %\n",
      "Stable: 16.0 %\n",
      "Four: 22.67 %\n",
      "WholeTone: 18.67 %\n",
      "Other 18.67 %\n",
      "\n",
      "Perfect 5: 24.0 %\n",
      "Big three: 1.33 %\n",
      "Small 2.67 %\n",
      "Stable: 34.67 %\n",
      "Four: 10.67 %\n",
      "WholeTone: 20.0 %\n",
      "Other 5.33 %\n",
      "\n",
      "Perfect 5: 7.41 %\n",
      "Big three: 7.41 %\n",
      "Small 14.81 %\n",
      "Stable: 33.33 %\n",
      "Four: 11.11 %\n",
      "WholeTone: 7.41 %\n",
      "Other 14.81 %\n",
      "\n",
      "Perfect 5: 10.67 %\n",
      "Big three: 1.33 %\n",
      "Small 9.33 %\n",
      "Stable: 24.0 %\n",
      "Four: 22.67 %\n",
      "WholeTone: 18.67 %\n",
      "Other 12.0 %\n",
      "\n",
      "Perfect 5: 22.67 %\n",
      "Big three: 0.0 %\n",
      "Small 0.0 %\n",
      "Stable: 44.0 %\n",
      "Four: 22.67 %\n",
      "WholeTone: 9.33 %\n",
      "Other 0.0 %\n",
      "\n",
      "Perfect 5: 19.05 %\n",
      "Big three: 4.76 %\n",
      "Small 1.59 %\n",
      "Stable: 19.05 %\n",
      "Four: 7.94 %\n",
      "WholeTone: 14.29 %\n",
      "Other 31.75 %\n",
      "\n",
      "Perfect 5: 21.33 %\n",
      "Big three: 0.0 %\n",
      "Small 0.0 %\n",
      "Stable: 32.0 %\n",
      "Four: 26.67 %\n",
      "WholeTone: 17.33 %\n",
      "Other 1.33 %\n",
      "\n",
      "Perfect 5: 11.9 %\n",
      "Big three: 7.14 %\n",
      "Small 2.38 %\n",
      "Stable: 35.71 %\n",
      "Four: 16.67 %\n",
      "WholeTone: 4.76 %\n",
      "Other 19.05 %\n",
      "\n",
      "Perfect 5: 12.68 %\n",
      "Big three: 4.23 %\n",
      "Small 5.63 %\n",
      "Stable: 12.68 %\n",
      "Four: 12.68 %\n",
      "WholeTone: 22.54 %\n",
      "Other 28.17 %\n",
      "\n",
      "Perfect 5: 9.33 %\n",
      "Big three: 2.67 %\n",
      "Small 5.33 %\n",
      "Stable: 22.67 %\n",
      "Four: 16.0 %\n",
      "WholeTone: 18.67 %\n",
      "Other 24.0 %\n",
      "\n",
      "Perfect 5: 22.67 %\n",
      "Big three: 0.0 %\n",
      "Small 5.33 %\n",
      "Stable: 26.67 %\n",
      "Four: 18.67 %\n",
      "WholeTone: 12.0 %\n",
      "Other 13.33 %\n",
      "\n",
      "Perfect 5: 11.11 %\n",
      "Big three: 6.67 %\n",
      "Small 2.22 %\n",
      "Stable: 35.56 %\n",
      "Four: 17.78 %\n",
      "WholeTone: 4.44 %\n",
      "Other 20.0 %\n",
      "\n",
      "Perfect 5: 10.53 %\n",
      "Big three: 1.75 %\n",
      "Small 3.51 %\n",
      "Stable: 19.3 %\n",
      "Four: 3.51 %\n",
      "WholeTone: 17.54 %\n",
      "Other 42.11 %\n",
      "\n",
      "Perfect 5: 7.69 %\n",
      "Big three: 5.13 %\n",
      "Small 10.26 %\n",
      "Stable: 20.51 %\n",
      "Four: 12.82 %\n",
      "WholeTone: 12.82 %\n",
      "Other 28.21 %\n",
      "\n",
      "Perfect 5: 19.18 %\n",
      "Big three: 1.37 %\n",
      "Small 1.37 %\n",
      "Stable: 27.4 %\n",
      "Four: 24.66 %\n",
      "WholeTone: 17.81 %\n",
      "Other 6.85 %\n",
      "\n",
      "Perfect 5: 5.26 %\n",
      "Big three: 18.42 %\n",
      "Small 2.63 %\n",
      "Stable: 21.05 %\n",
      "Four: 7.89 %\n",
      "WholeTone: 7.89 %\n",
      "Other 34.21 %\n",
      "\n",
      "Perfect 5: 16.0 %\n",
      "Big three: 1.33 %\n",
      "Small 5.33 %\n",
      "Stable: 22.67 %\n",
      "Four: 16.0 %\n",
      "WholeTone: 25.33 %\n",
      "Other 12.0 %\n",
      "\n",
      "Perfect 5: 9.8 %\n",
      "Big three: 0.0 %\n",
      "Small 3.92 %\n",
      "Stable: 25.49 %\n",
      "Four: 23.53 %\n",
      "WholeTone: 19.61 %\n",
      "Other 15.69 %\n",
      "\n",
      "Perfect 5: 3.33 %\n",
      "Big three: 3.33 %\n",
      "Small 13.33 %\n",
      "Stable: 30.0 %\n",
      "Four: 6.67 %\n",
      "WholeTone: 3.33 %\n",
      "Other 36.67 %\n",
      "\n",
      "Perfect 5: 14.67 %\n",
      "Big three: 2.67 %\n",
      "Small 8.0 %\n",
      "Stable: 26.67 %\n",
      "Four: 20.0 %\n",
      "WholeTone: 18.67 %\n",
      "Other 8.0 %\n",
      "\n",
      "Perfect 5: 14.0 %\n",
      "Big three: 2.0 %\n",
      "Small 10.0 %\n",
      "Stable: 30.0 %\n",
      "Four: 20.0 %\n",
      "WholeTone: 10.0 %\n",
      "Other 12.0 %\n",
      "\n",
      "Perfect 5: 11.36 %\n",
      "Big three: 0.0 %\n",
      "Small 0.0 %\n",
      "Stable: 43.18 %\n",
      "Four: 4.55 %\n",
      "WholeTone: 2.27 %\n",
      "Other 36.36 %\n",
      "\n"
     ]
    }
   ],
   "source": [
    "# flattened = [val for sublist in sleeping_key for val in sublist]\n",
    "for i in range(len(sleeping_key)):\n",
    "    perfect_, same_, non_ , big3_ , small3_ ,four_, whole_ = count_pattern(sleeping_key[i],4,3,5)\n",
    "    print(\"Perfect 5:\", perfect_, '%')\n",
    "    print(\"Big three:\",big3_, '%')\n",
    "    print(\"Small\",small3_, '%')\n",
    "    print(\"Stable:\",same_, '%')\n",
    "    print(\"Four:\",four_, '%')\n",
    "    print(\"WholeTone:\",whole_, '%')\n",
    "    print(\"Other\",non_, '%')\n",
    "    print()"
   ]
  },
  {
   "cell_type": "code",
   "execution_count": 416,
   "metadata": {},
   "outputs": [
    {
     "name": "stdout",
     "output_type": "stream",
     "text": [
      "['E', 'F#', 'B', 'G#', 'F#', 'B', 'G#', 'B', 'A', 'G#', 'A', 'B', 'E', 'B', 'E', 'B', 'E', 'F#', 'G', 'F#', 'F#', 'B', 'C', 'E', 'F#', 'G', 'F#', 'F#', 'E', 'D', 'E', 'B', 'A', 'A', 'A', 'C', 'B', 'G#', 'C#', 'G#', 'F#', 'C#', 'B', 'C', 'E', 'D', 'E', 'F#', 'G', 'B', 'A', 'F#', 'B', 'B', 'F#', 'A', 'C', 'B', 'F#', 'D', 'F#', 'D', 'A', 'B', 'E', 'D', 'F#', 'D', 'A', 'B', 'E', 'C#', 'B', 'B', 'E', 'A', 'B', 'C#', 'F#', 'C#', 'A', 'G#', 'B', 'E', 'F#', 'B', 'G#', 'B', 'F', 'F#', 'B', 'G#', 'E', 'B', 'E', 'B', 'C#', 'B', 'G#', 'E', 'E', 'B', 'E', 'E', 'E', 'G', 'F#', 'F#', 'C', 'F#', 'F#', 'A', 'C', 'G', 'C', 'A', 'F#', 'A', 'B', 'E', 'D', 'A', 'B', 'D', 'E', 'D', 'A', 'B', 'B', 'B', 'B', 'E', 'G#', 'B', 'B', 'A', 'G#', 'G#', 'D', 'G#', 'G#', 'E', 'B', 'G', 'E', 'F#', 'G', 'G', 'E', 'E', 'G', 'D', 'G', 'E', 'E', 'E', 'E', 'G', 'G', 'G#', 'E', 'B', 'G#', 'A', 'B', 'E', 'E', 'E', 'E', 'E', 'E', 'B', 'B', 'E', 'G', 'F#', 'F#', 'G', 'C', 'F#', 'G', 'D', 'E', 'F#', 'A', 'E', 'D', 'E', 'A', 'A', 'E', 'G#', 'A', 'B', 'G#', 'E', 'B', 'A', 'G#', 'A', 'B', 'G#', 'G#', 'B', 'E', 'A', 'C', 'C', 'G#', 'B', 'E', 'B', 'A', 'E', 'F', 'B', 'C', 'G#', 'D#(E-)', 'E', 'C', 'F', 'E', 'B', 'G#', 'F#', 'B', 'G#', 'G#', 'B', 'C', 'B', 'G', 'E', 'G', 'E', 'C', 'F#', 'C', 'B', 'G', 'G', 'E', 'B', 'D#(E-)', 'E', 'E', 'B', 'E', 'D#(E-)', 'B', 'E', 'D', 'F#', 'G#', 'B', 'E', 'F#', 'F', 'G#', 'B', 'G#', 'A', 'F#', 'F#', 'E', 'A', 'F#', 'G', 'F#', 'E', 'G', 'B', 'A', 'G', 'G', 'B', 'G', 'G', 'C', 'F#', 'C', 'C', 'G', 'E', 'G', 'C', 'C', 'G', 'C', 'G', 'C', 'B', 'E', 'D', 'E', 'F#', 'E', 'B', 'E', 'D', 'B', 'E', 'D', 'B', 'E', 'E', 'E', 'F#', 'F', 'E', 'G', 'F#', 'E', 'G', 'E', 'B', 'C', 'F#', 'G#', 'F#', 'G', 'B', 'E', 'F#', 'E', 'B', 'E', 'F#', 'E', 'F#', 'B', 'G#', 'B', 'E', 'B', 'E', 'E', 'E', 'G', 'E', 'F#', 'C', 'C', 'F#', 'E', 'A', 'A', 'B', 'F#', 'B', 'G#', 'F', 'B', 'G#', 'B', 'E', 'B', 'E', 'F', 'E', 'B', 'E', 'F#', 'F#', 'B', 'G#', 'F#', 'B', 'E', 'D#(E-)', 'B', 'E', 'E', 'G#', 'B', 'B', 'E', 'F', 'F#', 'B', 'G#', 'G#', 'B', 'B', 'G#', 'F#', 'B', 'F', 'D', 'E', 'F#', 'B', 'G#', 'F#', 'B', 'G#', 'G#', 'G#', 'A', 'B', 'E', 'B', 'E', 'E', 'G#', 'F#', 'G', 'F#', 'F#', 'B', 'A', 'G', 'F#', 'G', 'F#', 'E', 'E', 'D', 'E', 'B', 'A', 'A', 'E', 'E', 'B', 'C#', 'C#', 'F#', 'G#', 'B', 'D', 'E', 'F#', 'G', 'B', 'A', 'C', 'B', 'F#', 'G', 'B', 'C', 'D', 'C', 'B', 'F#', 'A', 'F#', 'F#', 'D', 'A', 'B', 'A', 'A', 'F#', 'A', 'A', 'B', 'E', 'C#', 'B', 'B', 'A', 'A', 'B', 'G#', 'C#', 'G#', 'B', 'E', 'F#', 'B', 'G#', 'E', 'F#', 'B', 'G#', 'F', 'B', 'C', 'B', 'C#', 'B', 'G#', 'F#', 'F#', 'E', 'E', 'B', 'E', 'G', 'F#', 'F#', 'C', 'F#', 'G', 'A', 'C', 'C', 'C', 'F', 'C', 'F#', 'A', 'B', 'E', 'D', 'D', 'B', 'E', 'D', 'E', 'D', 'D#(E-)', 'B', 'B', 'B', 'G#', 'E', 'B', 'B', 'A', 'G#', 'G#', 'D', 'G#', 'G#', 'E', 'E', 'G', 'G', 'E', 'F#', 'G', 'G', 'C', 'G', 'G', 'E', 'E', 'D', 'D', 'G', 'G', 'E', 'E', 'E', 'G', 'A', 'A', 'B', 'G#', 'G#', 'E', 'E', 'E', 'B', 'E', 'E', 'E', 'B', 'B', 'A', 'E', 'G', 'F#', 'F#', 'G', 'C', 'F#', 'D', 'E', 'F#', 'A', 'E', 'D', 'E', 'A', 'E', 'G#', 'A', 'B', 'G#', 'B', 'E', 'A', 'B', 'G#', 'E', 'A', 'B', 'G#', 'E', 'G#', 'G#', 'A', 'A#(B-)', 'F', 'C', 'G#', 'B', 'E', 'B', 'E', 'E', 'B', 'B', 'D#(E-)', 'D#(E-)', 'B', 'E', 'E', 'E', 'B', 'G#', 'B', 'B', 'C', 'B', 'G', 'E', 'G', 'B', 'C', 'C', 'G', 'C', 'C', 'B', 'G', 'C', 'G', 'E', 'B', 'D#(E-)', 'E', 'E', 'B', 'E', 'D#(E-)', 'B', 'G#', 'G#', 'F#', 'G#', 'B', 'E', 'F#', 'F', 'A#(B-)', 'E', 'D#(E-)', 'D#(E-)', 'G#', 'A', 'F#', 'F#', 'F#', 'G', 'F#', 'E', 'G', 'B', 'A', 'G', 'C', 'B', 'G', 'G', 'E', 'F#', 'C', 'E', 'C', 'G', 'G', 'G', 'C', 'E', 'G', 'C', 'E', 'G', 'G', 'B', 'E', 'D', 'E', 'E', 'F#', 'E', 'B', 'E', 'E', 'D', 'E', 'B', 'E', 'D', 'B', 'A', 'G#', 'E', 'E', 'F#', 'F', 'G', 'F#', 'E', 'G', 'E', 'B', 'C', 'F#', 'G', 'G', 'E', 'E', 'F#', 'E', 'B', 'G#', 'F#', 'B', 'F#', 'E', 'E', 'B', 'E', 'B', 'E', 'E', 'D', 'G', 'C', 'F#', 'E', 'C', 'G', 'A', 'A', 'B', 'B', 'G#', 'G#', 'E', 'G#', 'B', 'E', 'B', 'E', 'A', 'E', 'B', 'E', 'F#', 'F#', 'B', 'G#', 'F#', 'A#(B-)', 'E', 'E', 'B', 'E', 'E', 'G#', 'G#', 'E', 'B', 'E', 'F', 'F#', 'B', 'G#', 'B', 'B', 'G#', 'F#', 'F', 'B']\n"
     ]
    }
   ],
   "source": [
    "print(pitch[2])"
   ]
  },
  {
   "cell_type": "markdown",
   "metadata": {},
   "source": [
    "## Analysis - Pitch"
   ]
  },
  {
   "cell_type": "code",
   "execution_count": 422,
   "metadata": {},
   "outputs": [
    {
     "data": {
      "text/plain": [
       "'m52.wav'"
      ]
     },
     "execution_count": 422,
     "metadata": {},
     "output_type": "execute_result"
    }
   ],
   "source": [
    "sleeping_music[47]"
   ]
  },
  {
   "cell_type": "markdown",
   "metadata": {},
   "source": [
    "### Find dominant pitch"
   ]
  },
  {
   "cell_type": "code",
   "execution_count": 418,
   "metadata": {},
   "outputs": [
    {
     "name": "stdout",
     "output_type": "stream",
     "text": [
      "0\n"
     ]
    },
    {
     "data": {
      "image/png": "[encoded data removed]",
      "text/plain": [
       "<Figure size 432x288 with 1 Axes>"
      ]
     },
     "metadata": {
      "needs_background": "light"
     },
     "output_type": "display_data"
    },
    {
     "name": "stdout",
     "output_type": "stream",
     "text": [
      "1\n"
     ]
    },
    {
     "data": {
      "image/png": "[encoded data removed]",
      "text/plain": [
       "<Figure size 432x288 with 1 Axes>"
      ]
     },
     "metadata": {
      "needs_background": "light"
     },
     "output_type": "display_data"
    },
    {
     "name": "stdout",
     "output_type": "stream",
     "text": [
      "2\n"
     ]
    },
    {
     "data": {
      "image/png": "[encoded data removed]",
      "text/plain": [
       "<Figure size 432x288 with 1 Axes>"
      ]
     },
     "metadata": {
      "needs_background": "light"
     },
     "output_type": "display_data"
    },
    {
     "name": "stdout",
     "output_type": "stream",
     "text": [
      "3\n"
     ]
    },
    {
     "data": {
      "image/png": "[encoded data removed]",
      "text/plain": [
       "<Figure size 432x288 with 1 Axes>"
      ]
     },
     "metadata": {
      "needs_background": "light"
     },
     "output_type": "display_data"
    },
    {
     "name": "stdout",
     "output_type": "stream",
     "text": [
      "4\n"
     ]
    },
    {
     "data": {
      "image/png": "[encoded data removed]",
      "text/plain": [
       "<Figure size 432x288 with 1 Axes>"
      ]
     },
     "metadata": {
      "needs_background": "light"
     },
     "output_type": "display_data"
    },
    {
     "name": "stdout",
     "output_type": "stream",
     "text": [
      "5\n"
     ]
    },
    {
     "data": {
      "image/png": "[encoded data removed]",
      "text/plain": [
       "<Figure size 432x288 with 1 Axes>"
      ]
     },
     "metadata": {
      "needs_background": "light"
     },
     "output_type": "display_data"
    },
    {
     "name": "stdout",
     "output_type": "stream",
     "text": [
      "6\n"
     ]
    },
    {
     "data": {
      "image/png": "[encoded data removed]",
      "text/plain": [
       "<Figure size 432x288 with 1 Axes>"
      ]
     },
     "metadata": {
      "needs_background": "light"
     },
     "output_type": "display_data"
    },
    {
     "name": "stdout",
     "output_type": "stream",
     "text": [
      "7\n"
     ]
    },
    {
     "data": {
      "image/png": "[encoded data removed]",
      "text/plain": [
       "<Figure size 432x288 with 1 Axes>"
      ]
     },
     "metadata": {
      "needs_background": "light"
     },
     "output_type": "display_data"
    },
    {
     "name": "stdout",
     "output_type": "stream",
     "text": [
      "8\n"
     ]
    },
    {
     "data": {
      "image/png": "[encoded data removed]",
      "text/plain": [
       "<Figure size 432x288 with 1 Axes>"
      ]
     },
     "metadata": {
      "needs_background": "light"
     },
     "output_type": "display_data"
    },
    {
     "name": "stdout",
     "output_type": "stream",
     "text": [
      "9\n"
     ]
    },
    {
     "data": {
      "image/png": "[encoded data removed]",
      "text/plain": [
       "<Figure size 432x288 with 1 Axes>"
      ]
     },
     "metadata": {
      "needs_background": "light"
     },
     "output_type": "display_data"
    },
    {
     "name": "stdout",
     "output_type": "stream",
     "text": [
      "10\n"
     ]
    },
    {
     "data": {
      "image/png": "[encoded data removed]",
      "text/plain": [
       "<Figure size 432x288 with 1 Axes>"
      ]
     },
     "metadata": {
      "needs_background": "light"
     },
     "output_type": "display_data"
    },
    {
     "name": "stdout",
     "output_type": "stream",
     "text": [
      "11\n"
     ]
    },
    {
     "data": {
      "image/png": "[encoded data removed]",
      "text/plain": [
       "<Figure size 432x288 with 1 Axes>"
      ]
     },
     "metadata": {
      "needs_background": "light"
     },
     "output_type": "display_data"
    },
    {
     "name": "stdout",
     "output_type": "stream",
     "text": [
      "12\n"
     ]
    },
    {
     "data": {
      "image/png": "[encoded data removed]",
      "text/plain": [
       "<Figure size 432x288 with 1 Axes>"
      ]
     },
     "metadata": {
      "needs_background": "light"
     },
     "output_type": "display_data"
    },
    {
     "name": "stdout",
     "output_type": "stream",
     "text": [
      "13\n"
     ]
    },
    {
     "data": {
      "image/png": "[encoded data removed]",
      "text/plain": [
       "<Figure size 432x288 with 1 Axes>"
      ]
     },
     "metadata": {
      "needs_background": "light"
     },
     "output_type": "display_data"
    },
    {
     "name": "stdout",
     "output_type": "stream",
     "text": [
      "14\n"
     ]
    },
    {
     "data": {
      "image/png": "[encoded data removed]",
      "text/plain": [
       "<Figure size 432x288 with 1 Axes>"
      ]
     },
     "metadata": {
      "needs_background": "light"
     },
     "output_type": "display_data"
    },
    {
     "name": "stdout",
     "output_type": "stream",
     "text": [
      "15\n"
     ]
    },
    {
     "data": {
      "image/png": "[encoded data removed]",
      "text/plain": [
       "<Figure size 432x288 with 1 Axes>"
      ]
     },
     "metadata": {
      "needs_background": "light"
     },
     "output_type": "display_data"
    },
    {
     "name": "stdout",
     "output_type": "stream",
     "text": [
      "16\n"
     ]
    },
    {
     "data": {
      "image/png": "[encoded data removed]",
      "text/plain": [
       "<Figure size 432x288 with 1 Axes>"
      ]
     },
     "metadata": {
      "needs_background": "light"
     },
     "output_type": "display_data"
    },
    {
     "name": "stdout",
     "output_type": "stream",
     "text": [
      "17\n"
     ]
    },
    {
     "data": {
      "image/png": "[encoded data removed]",
      "text/plain": [
       "<Figure size 432x288 with 1 Axes>"
      ]
     },
     "metadata": {
      "needs_background": "light"
     },
     "output_type": "display_data"
    },
    {
     "name": "stdout",
     "output_type": "stream",
     "text": [
      "18\n"
     ]
    },
    {
     "data": {
      "image/png": "[encoded data removed]",
      "text/plain": [
       "<Figure size 432x288 with 1 Axes>"
      ]
     },
     "metadata": {
      "needs_background": "light"
     },
     "output_type": "display_data"
    },
    {
     "name": "stdout",
     "output_type": "stream",
     "text": [
      "19\n"
     ]
    },
    {
     "data": {
      "image/png": "[encoded data removed]",
      "text/plain": [
       "<Figure size 432x288 with 1 Axes>"
      ]
     },
     "metadata": {
      "needs_background": "light"
     },
     "output_type": "display_data"
    },
    {
     "name": "stdout",
     "output_type": "stream",
     "text": [
      "20\n"
     ]
    },
    {
     "data": {
      "image/png": "[encoded data removed]",
      "text/plain": [
       "<Figure size 432x288 with 1 Axes>"
      ]
     },
     "metadata": {
      "needs_background": "light"
     },
     "output_type": "display_data"
    },
    {
     "name": "stdout",
     "output_type": "stream",
     "text": [
      "21\n"
     ]
    },
    {
     "data": {
      "image/png": "[encoded data removed]",
      "text/plain": [
       "<Figure size 432x288 with 1 Axes>"
      ]
     },
     "metadata": {
      "needs_background": "light"
     },
     "output_type": "display_data"
    },
    {
     "name": "stdout",
     "output_type": "stream",
     "text": [
      "22\n"
     ]
    },
    {
     "data": {
      "image/png": "[encoded data removed]",
      "text/plain": [
       "<Figure size 432x288 with 1 Axes>"
      ]
     },
     "metadata": {
      "needs_background": "light"
     },
     "output_type": "display_data"
    },
    {
     "name": "stdout",
     "output_type": "stream",
     "text": [
      "23\n"
     ]
    },
    {
     "data": {
      "image/png": "[encoded data removed]",
      "text/plain": [
       "<Figure size 432x288 with 1 Axes>"
      ]
     },
     "metadata": {
      "needs_background": "light"
     },
     "output_type": "display_data"
    },
    {
     "name": "stdout",
     "output_type": "stream",
     "text": [
      "24\n"
     ]
    },
    {
     "data": {
      "image/png": "[encoded data removed]",
      "text/plain": [
       "<Figure size 432x288 with 1 Axes>"
      ]
     },
     "metadata": {
      "needs_background": "light"
     },
     "output_type": "display_data"
    },
    {
     "name": "stdout",
     "output_type": "stream",
     "text": [
      "25\n"
     ]
    },
    {
     "data": {
      "image/png": "[encoded data removed]",
      "text/plain": [
       "<Figure size 432x288 with 1 Axes>"
      ]
     },
     "metadata": {
      "needs_background": "light"
     },
     "output_type": "display_data"
    },
    {
     "name": "stdout",
     "output_type": "stream",
     "text": [
      "26\n"
     ]
    },
    {
     "data": {
      "image/png": "[encoded data removed]",
      "text/plain": [
       "<Figure size 432x288 with 1 Axes>"
      ]
     },
     "metadata": {
      "needs_background": "light"
     },
     "output_type": "display_data"
    },
    {
     "name": "stdout",
     "output_type": "stream",
     "text": [
      "27\n"
     ]
    },
    {
     "data": {
      "image/png": "[encoded data removed]",
      "text/plain": [
       "<Figure size 432x288 with 1 Axes>"
      ]
     },
     "metadata": {
      "needs_background": "light"
     },
     "output_type": "display_data"
    },
    {
     "name": "stdout",
     "output_type": "stream",
     "text": [
      "28\n"
     ]
    },
    {
     "data": {
      "image/png": "[encoded data removed]",
      "text/plain": [
       "<Figure size 432x288 with 1 Axes>"
      ]
     },
     "metadata": {
      "needs_background": "light"
     },
     "output_type": "display_data"
    },
    {
     "name": "stdout",
     "output_type": "stream",
     "text": [
      "29\n"
     ]
    },
    {
     "data": {
      "image/png": "[encoded data removed]",
      "text/plain": [
       "<Figure size 432x288 with 1 Axes>"
      ]
     },
     "metadata": {
      "needs_background": "light"
     },
     "output_type": "display_data"
    },
    {
     "name": "stdout",
     "output_type": "stream",
     "text": [
      "30\n"
     ]
    },
    {
     "data": {
      "image/png": "[encoded data removed]",
      "text/plain": [
       "<Figure size 432x288 with 1 Axes>"
      ]
     },
     "metadata": {
      "needs_background": "light"
     },
     "output_type": "display_data"
    },
    {
     "name": "stdout",
     "output_type": "stream",
     "text": [
      "31\n"
     ]
    },
    {
     "data": {
      "image/png": "[encoded data removed]",
      "text/plain": [
       "<Figure size 432x288 with 1 Axes>"
      ]
     },
     "metadata": {
      "needs_background": "light"
     },
     "output_type": "display_data"
    },
    {
     "name": "stdout",
     "output_type": "stream",
     "text": [
      "32\n"
     ]
    },
    {
     "data": {
      "image/png": "[encoded data removed]",
      "text/plain": [
       "<Figure size 432x288 with 1 Axes>"
      ]
     },
     "metadata": {
      "needs_background": "light"
     },
     "output_type": "display_data"
    },
    {
     "name": "stdout",
     "output_type": "stream",
     "text": [
      "33\n"
     ]
    },
    {
     "data": {
      "image/png": "[encoded data removed]",
      "text/plain": [
       "<Figure size 432x288 with 1 Axes>"
      ]
     },
     "metadata": {
      "needs_background": "light"
     },
     "output_type": "display_data"
    },
    {
     "name": "stdout",
     "output_type": "stream",
     "text": [
      "34\n"
     ]
    },
    {
     "data": {
      "image/png": "[encoded data removed]",
      "text/plain": [
       "<Figure size 432x288 with 1 Axes>"
      ]
     },
     "metadata": {
      "needs_background": "light"
     },
     "output_type": "display_data"
    },
    {
     "name": "stdout",
     "output_type": "stream",
     "text": [
      "35\n"
     ]
    },
    {
     "data": {
      "image/png": "[encoded data removed]",
      "text/plain": [
       "<Figure size 432x288 with 1 Axes>"
      ]
     },
     "metadata": {
      "needs_background": "light"
     },
     "output_type": "display_data"
    },
    {
     "name": "stdout",
     "output_type": "stream",
     "text": [
      "36\n"
     ]
    },
    {
     "data": {
      "image/png": "[encoded data removed]",
      "text/plain": [
       "<Figure size 432x288 with 1 Axes>"
      ]
     },
     "metadata": {
      "needs_background": "light"
     },
     "output_type": "display_data"
    },
    {
     "name": "stdout",
     "output_type": "stream",
     "text": [
      "37\n"
     ]
    },
    {
     "data": {
      "image/png": "[encoded data removed]",
      "text/plain": [
       "<Figure size 432x288 with 1 Axes>"
      ]
     },
     "metadata": {
      "needs_background": "light"
     },
     "output_type": "display_data"
    },
    {
     "name": "stdout",
     "output_type": "stream",
     "text": [
      "38\n"
     ]
    },
    {
     "data": {
      "image/png": "[encoded data removed]",
      "text/plain": [
       "<Figure size 432x288 with 1 Axes>"
      ]
     },
     "metadata": {
      "needs_background": "light"
     },
     "output_type": "display_data"
    },
    {
     "name": "stdout",
     "output_type": "stream",
     "text": [
      "39\n"
     ]
    },
    {
     "data": {
      "image/png": "[encoded data removed]",
      "text/plain": [
       "<Figure size 432x288 with 1 Axes>"
      ]
     },
     "metadata": {
      "needs_background": "light"
     },
     "output_type": "display_data"
    },
    {
     "name": "stdout",
     "output_type": "stream",
     "text": [
      "40\n"
     ]
    },
    {
     "data": {
      "image/png": "[encoded data removed]",
      "text/plain": [
       "<Figure size 432x288 with 1 Axes>"
      ]
     },
     "metadata": {
      "needs_background": "light"
     },
     "output_type": "display_data"
    },
    {
     "name": "stdout",
     "output_type": "stream",
     "text": [
      "41\n"
     ]
    },
    {
     "data": {
      "image/png": "[encoded data removed]",
      "text/plain": [
       "<Figure size 432x288 with 1 Axes>"
      ]
     },
     "metadata": {
      "needs_background": "light"
     },
     "output_type": "display_data"
    },
    {
     "name": "stdout",
     "output_type": "stream",
     "text": [
      "42\n"
     ]
    },
    {
     "data": {
      "image/png": "[encoded data removed]",
      "text/plain": [
       "<Figure size 432x288 with 1 Axes>"
      ]
     },
     "metadata": {
      "needs_background": "light"
     },
     "output_type": "display_data"
    },
    {
     "name": "stdout",
     "output_type": "stream",
     "text": [
      "43\n"
     ]
    },
    {
     "data": {
      "image/png": "[encoded data removed]",
      "text/plain": [
       "<Figure size 432x288 with 1 Axes>"
      ]
     },
     "metadata": {
      "needs_background": "light"
     },
     "output_type": "display_data"
    },
    {
     "name": "stdout",
     "output_type": "stream",
     "text": [
      "44\n"
     ]
    },
    {
     "data": {
      "image/png": "[encoded data removed]",
      "text/plain": [
       "<Figure size 432x288 with 1 Axes>"
      ]
     },
     "metadata": {
      "needs_background": "light"
     },
     "output_type": "display_data"
    },
    {
     "name": "stdout",
     "output_type": "stream",
     "text": [
      "45\n"
     ]
    },
    {
     "data": {
      "image/png": "[encoded data removed]",
      "text/plain": [
       "<Figure size 432x288 with 1 Axes>"
      ]
     },
     "metadata": {
      "needs_background": "light"
     },
     "output_type": "display_data"
    },
    {
     "name": "stdout",
     "output_type": "stream",
     "text": [
      "46\n"
     ]
    },
    {
     "data": {
      "image/png": "[encoded data removed]",
      "text/plain": [
       "<Figure size 432x288 with 1 Axes>"
      ]
     },
     "metadata": {
      "needs_background": "light"
     },
     "output_type": "display_data"
    },
    {
     "name": "stdout",
     "output_type": "stream",
     "text": [
      "47\n"
     ]
    },
    {
     "data": {
      "image/png": "[encoded data removed]",
      "text/plain": [
       "<Figure size 432x288 with 1 Axes>"
      ]
     },
     "metadata": {
      "needs_background": "light"
     },
     "output_type": "display_data"
    },
    {
     "name": "stdout",
     "output_type": "stream",
     "text": [
      "48\n"
     ]
    },
    {
     "data": {
      "image/png": "[encoded data removed]",
      "text/plain": [
       "<Figure size 432x288 with 1 Axes>"
      ]
     },
     "metadata": {
      "needs_background": "light"
     },
     "output_type": "display_data"
    },
    {
     "name": "stdout",
     "output_type": "stream",
     "text": [
      "49\n"
     ]
    },
    {
     "data": {
      "image/png": "[encoded data removed]",
      "text/plain": [
       "<Figure size 432x288 with 1 Axes>"
      ]
     },
     "metadata": {
      "needs_background": "light"
     },
     "output_type": "display_data"
    },
    {
     "name": "stdout",
     "output_type": "stream",
     "text": [
      "50\n"
     ]
    },
    {
     "data": {
      "image/png": "[encoded data removed]",
      "text/plain": [
       "<Figure size 432x288 with 1 Axes>"
      ]
     },
     "metadata": {
      "needs_background": "light"
     },
     "output_type": "display_data"
    },
    {
     "name": "stdout",
     "output_type": "stream",
     "text": [
      "51\n"
     ]
    },
    {
     "data": {
      "image/png": "[encoded data removed]",
      "text/plain": [
       "<Figure size 432x288 with 1 Axes>"
      ]
     },
     "metadata": {
      "needs_background": "light"
     },
     "output_type": "display_data"
    },
    {
     "name": "stdout",
     "output_type": "stream",
     "text": [
      "52\n"
     ]
    },
    {
     "data": {
      "image/png": "[encoded data removed]",
      "text/plain": [
       "<Figure size 432x288 with 1 Axes>"
      ]
     },
     "metadata": {
      "needs_background": "light"
     },
     "output_type": "display_data"
    },
    {
     "name": "stdout",
     "output_type": "stream",
     "text": [
      "53\n"
     ]
    },
    {
     "data": {
      "image/png": "[encoded data removed]",
      "text/plain": [
       "<Figure size 432x288 with 1 Axes>"
      ]
     },
     "metadata": {
      "needs_background": "light"
     },
     "output_type": "display_data"
    },
    {
     "name": "stdout",
     "output_type": "stream",
     "text": [
      "54\n"
     ]
    },
    {
     "data": {
      "image/png": "[encoded data removed]",
      "text/plain": [
       "<Figure size 432x288 with 1 Axes>"
      ]
     },
     "metadata": {
      "needs_background": "light"
     },
     "output_type": "display_data"
    },
    {
     "name": "stdout",
     "output_type": "stream",
     "text": [
      "55\n"
     ]
    },
    {
     "data": {
      "image/png": "[encoded data removed]",
      "text/plain": [
       "<Figure size 432x288 with 1 Axes>"
      ]
     },
     "metadata": {
      "needs_background": "light"
     },
     "output_type": "display_data"
    },
    {
     "name": "stdout",
     "output_type": "stream",
     "text": [
      "56\n"
     ]
    },
    {
     "data": {
      "image/png": "[encoded data removed]",
      "text/plain": [
       "<Figure size 432x288 with 1 Axes>"
      ]
     },
     "metadata": {
      "needs_background": "light"
     },
     "output_type": "display_data"
    },
    {
     "name": "stdout",
     "output_type": "stream",
     "text": [
      "57\n"
     ]
    },
    {
     "data": {
      "image/png": "[encoded data removed]",
      "text/plain": [
       "<Figure size 432x288 with 1 Axes>"
      ]
     },
     "metadata": {
      "needs_background": "light"
     },
     "output_type": "display_data"
    },
    {
     "name": "stdout",
     "output_type": "stream",
     "text": [
      "58\n"
     ]
    },
    {
     "data": {
      "image/png": "[encoded data removed]",
      "text/plain": [
       "<Figure size 432x288 with 1 Axes>"
      ]
     },
     "metadata": {
      "needs_background": "light"
     },
     "output_type": "display_data"
    },
    {
     "name": "stdout",
     "output_type": "stream",
     "text": [
      "59\n"
     ]
    },
    {
     "data": {
      "image/png": "[encoded data removed]",
      "text/plain": [
       "<Figure size 432x288 with 1 Axes>"
      ]
     },
     "metadata": {
      "needs_background": "light"
     },
     "output_type": "display_data"
    },
    {
     "name": "stdout",
     "output_type": "stream",
     "text": [
      "60\n"
     ]
    },
    {
     "data": {
      "image/png": "[encoded data removed]",
      "text/plain": [
       "<Figure size 432x288 with 1 Axes>"
      ]
     },
     "metadata": {
      "needs_background": "light"
     },
     "output_type": "display_data"
    },
    {
     "name": "stdout",
     "output_type": "stream",
     "text": [
      "61\n"
     ]
    },
    {
     "data": {
      "image/png": "[encoded data removed]",
      "text/plain": [
       "<Figure size 432x288 with 1 Axes>"
      ]
     },
     "metadata": {
      "needs_background": "light"
     },
     "output_type": "display_data"
    },
    {
     "name": "stdout",
     "output_type": "stream",
     "text": [
      "62\n"
     ]
    },
    {
     "data": {
      "image/png": "[encoded data removed]",
      "text/plain": [
       "<Figure size 432x288 with 1 Axes>"
      ]
     },
     "metadata": {
      "needs_background": "light"
     },
     "output_type": "display_data"
    },
    {
     "name": "stdout",
     "output_type": "stream",
     "text": [
      "63\n"
     ]
    },
    {
     "data": {
      "image/png": "[encoded data removed]",
      "text/plain": [
       "<Figure size 432x288 with 1 Axes>"
      ]
     },
     "metadata": {
      "needs_background": "light"
     },
     "output_type": "display_data"
    },
    {
     "name": "stdout",
     "output_type": "stream",
     "text": [
      "64\n"
     ]
    },
    {
     "data": {
      "image/png": "[encoded data removed]",
      "text/plain": [
       "<Figure size 432x288 with 1 Axes>"
      ]
     },
     "metadata": {
      "needs_background": "light"
     },
     "output_type": "display_data"
    },
    {
     "name": "stdout",
     "output_type": "stream",
     "text": [
      "65\n"
     ]
    },
    {
     "data": {
      "image/png": "[encoded data removed]",
      "text/plain": [
       "<Figure size 432x288 with 1 Axes>"
      ]
     },
     "metadata": {
      "needs_background": "light"
     },
     "output_type": "display_data"
    },
    {
     "name": "stdout",
     "output_type": "stream",
     "text": [
      "66\n"
     ]
    },
    {
     "data": {
      "image/png": "[encoded data removed]",
      "text/plain": [
       "<Figure size 432x288 with 1 Axes>"
      ]
     },
     "metadata": {
      "needs_background": "light"
     },
     "output_type": "display_data"
    },
    {
     "name": "stdout",
     "output_type": "stream",
     "text": [
      "67\n"
     ]
    },
    {
     "data": {
      "image/png": "[encoded data removed]",
      "text/plain": [
       "<Figure size 432x288 with 1 Axes>"
      ]
     },
     "metadata": {
      "needs_background": "light"
     },
     "output_type": "display_data"
    },
    {
     "name": "stdout",
     "output_type": "stream",
     "text": [
      "68\n"
     ]
    },
    {
     "data": {
      "image/png": "[encoded data removed]",
      "text/plain": [
       "<Figure size 432x288 with 1 Axes>"
      ]
     },
     "metadata": {
      "needs_background": "light"
     },
     "output_type": "display_data"
    },
    {
     "name": "stdout",
     "output_type": "stream",
     "text": [
      "69\n"
     ]
    },
    {
     "data": {
      "image/png": "[encoded data removed]",
      "text/plain": [
       "<Figure size 432x288 with 1 Axes>"
      ]
     },
     "metadata": {
      "needs_background": "light"
     },
     "output_type": "display_data"
    },
    {
     "name": "stdout",
     "output_type": "stream",
     "text": [
      "70\n"
     ]
    },
    {
     "data": {
      "image/png": "[encoded data removed]",
      "text/plain": [
       "<Figure size 432x288 with 1 Axes>"
      ]
     },
     "metadata": {
      "needs_background": "light"
     },
     "output_type": "display_data"
    },
    {
     "name": "stdout",
     "output_type": "stream",
     "text": [
      "71\n"
     ]
    },
    {
     "data": {
      "image/png": "[encoded data removed]",
      "text/plain": [
       "<Figure size 432x288 with 1 Axes>"
      ]
     },
     "metadata": {
      "needs_background": "light"
     },
     "output_type": "display_data"
    },
    {
     "name": "stdout",
     "output_type": "stream",
     "text": [
      "72\n"
     ]
    },
    {
     "data": {
      "image/png": "[encoded data removed]",
      "text/plain": [
       "<Figure size 432x288 with 1 Axes>"
      ]
     },
     "metadata": {
      "needs_background": "light"
     },
     "output_type": "display_data"
    },
    {
     "name": "stdout",
     "output_type": "stream",
     "text": [
      "73\n"
     ]
    },
    {
     "data": {
      "image/png": "[encoded data removed]",
      "text/plain": [
       "<Figure size 432x288 with 1 Axes>"
      ]
     },
     "metadata": {
      "needs_background": "light"
     },
     "output_type": "display_data"
    },
    {
     "name": "stdout",
     "output_type": "stream",
     "text": [
      "74\n"
     ]
    },
    {
     "data": {
      "image/png": "[encoded data removed]",
      "text/plain": [
       "<Figure size 432x288 with 1 Axes>"
      ]
     },
     "metadata": {
      "needs_background": "light"
     },
     "output_type": "display_data"
    }
   ],
   "source": [
    "for idx in range(len(pitch)): \n",
    "    ngram_pitch = n_gram2(pitch[idx], 1)\n",
    "    plt.bar(range(len(ngram_pitch)), list(ngram_pitch.values()), align='center')\n",
    "    plt.xticks(range(len(ngram_pitch)), (ngram_pitch.keys()))\n",
    "    print(idx)\n",
    "    plt.show()"
   ]
  },
  {
   "cell_type": "markdown",
   "metadata": {},
   "source": [
    "### Pitch progression in all dataset"
   ]
  },
  {
   "cell_type": "code",
   "execution_count": 423,
   "metadata": {},
   "outputs": [
    {
     "name": "stdout",
     "output_type": "stream",
     "text": [
      "Perfect 5: 9.67 %\n",
      "Big three: 5.28 %\n",
      "Small 5.07 %\n",
      "Stable: 35.08 %\n",
      "Four: 9.78 %\n",
      "WholeTone: 12.64 %\n",
      "Other 22.5 %\n",
      "\n"
     ]
    }
   ],
   "source": [
    "## flatteren\n",
    "flattened = [val for sublist in pitch for val in sublist]\n",
    "perfect_, same_, non_ , big3_ , small3_ ,four_, whole_ = count_pattern(flattened, 1,0,2)\n",
    "print(\"Perfect 5:\", perfect_, '%')\n",
    "print(\"Big three:\",big3_, '%')\n",
    "print(\"Small\",small3_, '%')\n",
    "print(\"Stable:\",same_, '%')\n",
    "print(\"Four:\",four_, '%')\n",
    "print(\"WholeTone:\",whole_, '%')\n",
    "print(\"Other\",non_, '%')\n",
    "print()"
   ]
  },
  {
   "cell_type": "markdown",
   "metadata": {},
   "source": [
    "### Pitch progression in each songs"
   ]
  },
  {
   "cell_type": "code",
   "execution_count": 424,
   "metadata": {},
   "outputs": [
    {
     "name": "stdout",
     "output_type": "stream",
     "text": [
      "0 1 小时 心灵音乐 学习  輕音樂 睡覺  睡眠音樂 水晶  放鬆音樂  純音樂 節奏.wav\n",
      "Perfect 5: 10.41 %\n",
      "Big three: 3.82 %\n",
      "Small 4.71 %\n",
      "Stable: 39.12 %\n",
      "Four: 8.79 %\n",
      "WholeTone: 11.45 %\n",
      "Other 21.65 %\n",
      "\n",
      "1 3小时放鬆的音樂  背景音樂  純音樂 輕快 水音  禪修音樂  輕音樂  心靈音樂.wav\n",
      "Perfect 5: 9.42 %\n",
      "Big three: 7.57 %\n",
      "Small 3.37 %\n",
      "Stable: 39.1 %\n",
      "Four: 12.03 %\n",
      "WholeTone: 6.58 %\n",
      "Other 21.9 %\n",
      "\n",
      "2 Relaxing Piano Music Sleep Music Water Sounds Relaxing Music Meditation Music ★47🍀.wav\n",
      "Perfect 5: 10.23 %\n",
      "Big three: 3.32 %\n",
      "Small 7.29 %\n",
      "Stable: 16.11 %\n",
      "Four: 14.19 %\n",
      "WholeTone: 19.05 %\n",
      "Other 29.67 %\n",
      "\n",
      "3 [無廣告版] 讀書工作好心情！放鬆舒壓鋼琴和大自然音律 - 5 HOURS RELAX STUDYING MUSIC FOR CONCENTRATION.wav\n",
      "Perfect 5: 6.61 %\n",
      "Big three: 5.79 %\n",
      "Small 6.61 %\n",
      "Stable: 30.58 %\n",
      "Four: 7.44 %\n",
      "WholeTone: 11.57 %\n",
      "Other 30.99 %\n",
      "\n",
      "4 m1.wav\n",
      "Perfect 5: 12.25 %\n",
      "Big three: 3.62 %\n",
      "Small 1.61 %\n",
      "Stable: 46.98 %\n",
      "Four: 11.04 %\n",
      "WholeTone: 7.48 %\n",
      "Other 16.96 %\n",
      "\n",
      "5 m10.wav\n",
      "Perfect 5: 15.12 %\n",
      "Big three: 3.38 %\n",
      "Small 0.62 %\n",
      "Stable: 52.88 %\n",
      "Four: 14.75 %\n",
      "WholeTone: 3.75 %\n",
      "Other 9.38 %\n",
      "\n",
      "6 m11.wav\n",
      "Perfect 5: 10.52 %\n",
      "Big three: 8.17 %\n",
      "Small 7.75 %\n",
      "Stable: 17.99 %\n",
      "Four: 11.14 %\n",
      "WholeTone: 20.21 %\n",
      "Other 24.15 %\n",
      "\n",
      "7 m12_c.wav\n",
      "Perfect 5: 9.52 %\n",
      "Big three: 5.29 %\n",
      "Small 6.88 %\n",
      "Stable: 18.52 %\n",
      "Four: 6.88 %\n",
      "WholeTone: 20.11 %\n",
      "Other 32.28 %\n",
      "\n",
      "8 m13_c.wav\n",
      "Perfect 5: 7.98 %\n",
      "Big three: 4.96 %\n",
      "Small 4.59 %\n",
      "Stable: 42.25 %\n",
      "Four: 9.29 %\n",
      "WholeTone: 14.74 %\n",
      "Other 16.16 %\n",
      "\n",
      "9 m14_c.wav\n",
      "Perfect 5: 7.83 %\n",
      "Big three: 4.62 %\n",
      "Small 6.12 %\n",
      "Stable: 22.21 %\n",
      "Four: 9.17 %\n",
      "WholeTone: 18.74 %\n",
      "Other 31.28 %\n",
      "\n",
      "10 m15.wav\n",
      "Perfect 5: 7.24 %\n",
      "Big three: 6.98 %\n",
      "Small 5.12 %\n",
      "Stable: 44.31 %\n",
      "Four: 8.74 %\n",
      "WholeTone: 9.77 %\n",
      "Other 17.79 %\n",
      "\n",
      "11 m16.wav\n",
      "Perfect 5: 9.48 %\n",
      "Big three: 7.58 %\n",
      "Small 8.53 %\n",
      "Stable: 24.64 %\n",
      "Four: 10.9 %\n",
      "WholeTone: 16.59 %\n",
      "Other 21.8 %\n",
      "\n",
      "12 m17.wav\n",
      "Perfect 5: 8.04 %\n",
      "Big three: 0.89 %\n",
      "Small 7.14 %\n",
      "Stable: 35.71 %\n",
      "Four: 13.39 %\n",
      "WholeTone: 11.61 %\n",
      "Other 22.32 %\n",
      "\n",
      "13 m18.wav\n",
      "Perfect 5: 9.44 %\n",
      "Big three: 3.32 %\n",
      "Small 9.86 %\n",
      "Stable: 23.3 %\n",
      "Four: 6.49 %\n",
      "WholeTone: 20.91 %\n",
      "Other 26.62 %\n",
      "\n",
      "14 m19.wav\n",
      "Perfect 5: 6.29 %\n",
      "Big three: 4.2 %\n",
      "Small 6.76 %\n",
      "Stable: 30.77 %\n",
      "Four: 8.39 %\n",
      "WholeTone: 9.09 %\n",
      "Other 34.27 %\n",
      "\n",
      "15 m2.wav\n",
      "Perfect 5: 11.96 %\n",
      "Big three: 4.9 %\n",
      "Small 1.58 %\n",
      "Stable: 42.81 %\n",
      "Four: 9.63 %\n",
      "WholeTone: 5.81 %\n",
      "Other 23.27 %\n",
      "\n",
      "16 m20.wav\n",
      "Perfect 5: 11.19 %\n",
      "Big three: 5.13 %\n",
      "Small 5.73 %\n",
      "Stable: 33.19 %\n",
      "Four: 8.55 %\n",
      "WholeTone: 11.34 %\n",
      "Other 24.82 %\n",
      "\n",
      "17 m21.wav\n",
      "Perfect 5: 7.07 %\n",
      "Big three: 1.27 %\n",
      "Small 5.23 %\n",
      "Stable: 48.09 %\n",
      "Four: 7.92 %\n",
      "WholeTone: 14.57 %\n",
      "Other 15.7 %\n",
      "\n",
      "18 m22.wav\n",
      "Perfect 5: 10.03 %\n",
      "Big three: 6.54 %\n",
      "Small 8.24 %\n",
      "Stable: 34.37 %\n",
      "Four: 10.4 %\n",
      "WholeTone: 10.2 %\n",
      "Other 20.19 %\n",
      "\n",
      "19 m23.wav\n",
      "Perfect 5: 5.52 %\n",
      "Big three: 3.78 %\n",
      "Small 4.27 %\n",
      "Stable: 35.85 %\n",
      "Four: 6.04 %\n",
      "WholeTone: 14.52 %\n",
      "Other 29.99 %\n",
      "\n",
      "20 m24.wav\n",
      "Perfect 5: 10.41 %\n",
      "Big three: 4.77 %\n",
      "Small 4.94 %\n",
      "Stable: 24.85 %\n",
      "Four: 8.43 %\n",
      "WholeTone: 22.73 %\n",
      "Other 23.84 %\n",
      "\n",
      "21 m25.wav\n",
      "Perfect 5: 8.52 %\n",
      "Big three: 4.07 %\n",
      "Small 10.05 %\n",
      "Stable: 42.37 %\n",
      "Four: 7.51 %\n",
      "WholeTone: 7.63 %\n",
      "Other 19.72 %\n",
      "\n",
      "22 m26.wav\n",
      "Perfect 5: 8.39 %\n",
      "Big three: 5.34 %\n",
      "Small 6.66 %\n",
      "Stable: 42.62 %\n",
      "Four: 9.53 %\n",
      "WholeTone: 7.35 %\n",
      "Other 20.05 %\n",
      "\n",
      "23 m27.wav\n",
      "Perfect 5: 7.24 %\n",
      "Big three: 6.98 %\n",
      "Small 5.12 %\n",
      "Stable: 44.31 %\n",
      "Four: 8.74 %\n",
      "WholeTone: 9.77 %\n",
      "Other 17.79 %\n",
      "\n",
      "24 m28.wav\n",
      "Perfect 5: 9.29 %\n",
      "Big three: 3.87 %\n",
      "Small 4.52 %\n",
      "Stable: 33.68 %\n",
      "Four: 8.26 %\n",
      "WholeTone: 11.23 %\n",
      "Other 29.03 %\n",
      "\n",
      "25 m29.wav\n",
      "Perfect 5: 11.32 %\n",
      "Big three: 6.98 %\n",
      "Small 11.32 %\n",
      "Stable: 35.66 %\n",
      "Four: 11.32 %\n",
      "WholeTone: 9.06 %\n",
      "Other 14.15 %\n",
      "\n",
      "26 m3.wav\n",
      "Perfect 5: 14.0 %\n",
      "Big three: 5.44 %\n",
      "Small 6.22 %\n",
      "Stable: 27.67 %\n",
      "Four: 13.67 %\n",
      "WholeTone: 14.44 %\n",
      "Other 18.44 %\n",
      "\n",
      "27 m30.wav\n",
      "Perfect 5: 10.52 %\n",
      "Big three: 8.17 %\n",
      "Small 7.75 %\n",
      "Stable: 17.99 %\n",
      "Four: 11.14 %\n",
      "WholeTone: 20.21 %\n",
      "Other 24.15 %\n",
      "\n",
      "28 m31.wav\n",
      "Perfect 5: 10.88 %\n",
      "Big three: 12.81 %\n",
      "Small 5.65 %\n",
      "Stable: 14.28 %\n",
      "Four: 15.46 %\n",
      "WholeTone: 9.35 %\n",
      "Other 31.54 %\n",
      "\n",
      "29 m32.wav\n",
      "Perfect 5: 10.0 %\n",
      "Big three: 5.29 %\n",
      "Small 9.41 %\n",
      "Stable: 25.29 %\n",
      "Four: 8.82 %\n",
      "WholeTone: 15.88 %\n",
      "Other 24.71 %\n",
      "\n",
      "30 m33.wav\n",
      "Perfect 5: 10.93 %\n",
      "Big three: 4.89 %\n",
      "Small 6.88 %\n",
      "Stable: 23.5 %\n",
      "Four: 12.85 %\n",
      "WholeTone: 20.02 %\n",
      "Other 20.89 %\n",
      "\n",
      "31 m34.wav\n",
      "Perfect 5: 10.36 %\n",
      "Big three: 3.85 %\n",
      "Small 6.91 %\n",
      "Stable: 15.54 %\n",
      "Four: 13.41 %\n",
      "WholeTone: 20.19 %\n",
      "Other 29.61 %\n",
      "\n",
      "32 m35.wav\n",
      "Perfect 5: 6.12 %\n",
      "Big three: 3.36 %\n",
      "Small 3.98 %\n",
      "Stable: 43.73 %\n",
      "Four: 6.73 %\n",
      "WholeTone: 11.01 %\n",
      "Other 24.77 %\n",
      "\n",
      "33 m36.wav\n",
      "Perfect 5: 9.64 %\n",
      "Big three: 1.8 %\n",
      "Small 0.86 %\n",
      "Stable: 48.98 %\n",
      "Four: 9.64 %\n",
      "WholeTone: 4.31 %\n",
      "Other 24.69 %\n",
      "\n",
      "34 m37.wav\n",
      "Perfect 5: 14.09 %\n",
      "Big three: 3.08 %\n",
      "Small 5.84 %\n",
      "Stable: 26.43 %\n",
      "Four: 9.84 %\n",
      "WholeTone: 23.23 %\n",
      "Other 17.46 %\n",
      "\n",
      "35 m38.wav\n",
      "Perfect 5: 9.04 %\n",
      "Big three: 2.34 %\n",
      "Small 2.6 %\n",
      "Stable: 42.26 %\n",
      "Four: 8.91 %\n",
      "WholeTone: 11.56 %\n",
      "Other 23.25 %\n",
      "\n",
      "36 m39.wav\n",
      "Perfect 5: 4.89 %\n",
      "Big three: 4.4 %\n",
      "Small 4.98 %\n",
      "Stable: 41.08 %\n",
      "Four: 4.98 %\n",
      "WholeTone: 14.01 %\n",
      "Other 25.61 %\n",
      "\n",
      "37 m4.wav\n",
      "Perfect 5: 10.01 %\n",
      "Big three: 4.25 %\n",
      "Small 4.68 %\n",
      "Stable: 18.81 %\n",
      "Four: 8.67 %\n",
      "WholeTone: 22.21 %\n",
      "Other 31.34 %\n",
      "\n",
      "38 m40.wav\n",
      "Perfect 5: 10.83 %\n",
      "Big three: 14.12 %\n",
      "Small 12.99 %\n",
      "Stable: 12.02 %\n",
      "Four: 15.91 %\n",
      "WholeTone: 13.29 %\n",
      "Other 20.76 %\n",
      "\n",
      "39 m41.wav\n",
      "Perfect 5: 8.56 %\n",
      "Big three: 2.25 %\n",
      "Small 2.91 %\n",
      "Stable: 57.71 %\n",
      "Four: 8.05 %\n",
      "WholeTone: 5.02 %\n",
      "Other 15.47 %\n",
      "\n",
      "40 m42.wav\n",
      "Perfect 5: 8.08 %\n",
      "Big three: 5.73 %\n",
      "Small 6.5 %\n",
      "Stable: 34.01 %\n",
      "Four: 8.19 %\n",
      "WholeTone: 14.52 %\n",
      "Other 22.93 %\n",
      "\n",
      "41 m43.wav\n",
      "Perfect 5: 12.29 %\n",
      "Big three: 1.12 %\n",
      "Small 3.91 %\n",
      "Stable: 41.34 %\n",
      "Four: 12.85 %\n",
      "WholeTone: 12.29 %\n",
      "Other 15.64 %\n",
      "\n",
      "42 m46.wav\n",
      "Perfect 5: 6.35 %\n",
      "Big three: 6.41 %\n",
      "Small 2.6 %\n",
      "Stable: 42.41 %\n",
      "Four: 7.99 %\n",
      "WholeTone: 7.68 %\n",
      "Other 26.5 %\n",
      "\n",
      "43 m48.wav\n",
      "Perfect 5: 8.88 %\n",
      "Big three: 2.44 %\n",
      "Small 2.29 %\n",
      "Stable: 41.12 %\n",
      "Four: 6.3 %\n",
      "WholeTone: 11.03 %\n",
      "Other 27.79 %\n",
      "\n",
      "44 m5.wav\n",
      "Perfect 5: 15.47 %\n",
      "Big three: 4.33 %\n",
      "Small 4.02 %\n",
      "Stable: 42.46 %\n",
      "Four: 14.93 %\n",
      "WholeTone: 5.8 %\n",
      "Other 12.92 %\n",
      "\n",
      "45 m50.wav\n",
      "Perfect 5: 16.98 %\n",
      "Big three: 4.41 %\n",
      "Small 2.46 %\n",
      "Stable: 26.18 %\n",
      "Four: 13.74 %\n",
      "WholeTone: 12.64 %\n",
      "Other 23.53 %\n",
      "\n",
      "46 m51.wav\n",
      "Perfect 5: 6.45 %\n",
      "Big three: 8.55 %\n",
      "Small 7.5 %\n",
      "Stable: 20.29 %\n",
      "Four: 10.09 %\n",
      "WholeTone: 21.79 %\n",
      "Other 25.29 %\n",
      "\n",
      "47 m52.wav\n",
      "Perfect 5: 7.32 %\n",
      "Big three: 3.17 %\n",
      "Small 2.04 %\n",
      "Stable: 58.89 %\n",
      "Four: 6.42 %\n",
      "WholeTone: 6.25 %\n",
      "Other 15.89 %\n",
      "\n",
      "48 m53.wav\n",
      "Perfect 5: 6.76 %\n",
      "Big three: 4.59 %\n",
      "Small 6.49 %\n",
      "Stable: 44.19 %\n",
      "Four: 6.49 %\n",
      "WholeTone: 7.57 %\n",
      "Other 23.78 %\n",
      "\n",
      "49 m54.wav\n",
      "Perfect 5: 0.98 %\n",
      "Big three: 1.17 %\n",
      "Small 2.02 %\n",
      "Stable: 54.3 %\n",
      "Four: 0.91 %\n",
      "WholeTone: 11.28 %\n",
      "Other 29.27 %\n",
      "\n",
      "50 m58.wav\n",
      "Perfect 5: 11.88 %\n",
      "Big three: 8.78 %\n",
      "Small 9.7 %\n",
      "Stable: 24.06 %\n",
      "Four: 8.22 %\n",
      "WholeTone: 22.34 %\n",
      "Other 14.97 %\n",
      "\n",
      "51 m6_c.wav\n",
      "Perfect 5: 11.69 %\n",
      "Big three: 7.17 %\n",
      "Small 6.15 %\n",
      "Stable: 19.24 %\n",
      "Four: 8.1 %\n",
      "WholeTone: 18.3 %\n",
      "Other 29.3 %\n",
      "\n",
      "52 m7_c.wav\n",
      "Perfect 5: 11.63 %\n",
      "Big three: 3.79 %\n",
      "Small 3.02 %\n",
      "Stable: 46.92 %\n",
      "Four: 10.73 %\n",
      "WholeTone: 4.76 %\n",
      "Other 19.09 %\n",
      "\n",
      "53 m9.wav\n",
      "Perfect 5: 5.83 %\n",
      "Big three: 9.35 %\n",
      "Small 10.56 %\n",
      "Stable: 10.56 %\n",
      "Four: 20.04 %\n",
      "WholeTone: 12.23 %\n",
      "Other 31.37 %\n",
      "\n",
      "54 【432Hz・528Hz・睡眠】自然治癒力を向上させる宇宙の周波数に調整した音楽にソルフェジオ周波数で身体を完全休息状態に…超熟睡の世界へ.wav\n",
      "Perfect 5: 7.53 %\n",
      "Big three: 6.58 %\n",
      "Small 4.34 %\n",
      "Stable: 44.74 %\n",
      "Four: 8.58 %\n",
      "WholeTone: 10.77 %\n",
      "Other 17.41 %\n",
      "\n",
      "55 【ものすごく深く眠れると話題の睡眠用BGM】 夜眠れないとき聞く癒し リラックス快眠音楽  YouTube 不眠症解消　薬不要.wav\n",
      "Perfect 5: 9.09 %\n",
      "Big three: 1.6 %\n",
      "Small 5.35 %\n",
      "Stable: 50.8 %\n",
      "Four: 11.76 %\n",
      "WholeTone: 6.95 %\n",
      "Other 13.9 %\n",
      "\n",
      "56 【ものすごく深く眠れると話題の睡眠用BGM】 夜眠れないとき聞く癒し リラックス快眠音楽 短い睡眠でも朝スッキリ！ 睡眠の質を高める睡眠音楽.wav\n",
      "Perfect 5: 10.3 %\n",
      "Big three: 3.7 %\n",
      "Small 1.61 %\n",
      "Stable: 54.17 %\n",
      "Four: 9.2 %\n",
      "WholeTone: 4.88 %\n",
      "Other 16.12 %\n",
      "\n",
      "57 【セロトニン増加で深い睡眠状態に】寝る時に聞くリラックスミュージック【α波】.wav\n",
      "Perfect 5: 12.45 %\n",
      "Big three: 11.79 %\n",
      "Small 11.71 %\n",
      "Stable: 13.2 %\n",
      "Four: 17.29 %\n",
      "WholeTone: 12.49 %\n",
      "Other 21.02 %\n",
      "\n",
      "58 【心が落ち着く音楽】～美しいハープの音色が奏でるメロディーに癒されるヒーリングミュージック～精神安定、瞑想、ヨガ、睡眠用、疲労回復etc.wav\n",
      "Perfect 5: 9.14 %\n",
      "Big three: 5.33 %\n",
      "Small 2.29 %\n",
      "Stable: 30.86 %\n",
      "Four: 8.95 %\n",
      "WholeTone: 10.48 %\n",
      "Other 32.76 %\n",
      "\n",
      "59 【睡眠・癒やし・528Hz】眠る前に聞いて気持ちをリラックス…心身の緊張を解きほぐす音楽と周波数でスッと眠れる状態に….wav\n",
      "Perfect 5: 12.71 %\n",
      "Big three: 1.28 %\n",
      "Small 3.11 %\n",
      "Stable: 47.82 %\n",
      "Four: 13.69 %\n",
      "WholeTone: 11.55 %\n",
      "Other 9.8 %\n",
      "\n",
      "60 【超熟睡】短い睡眠でも朝スッキリ！ 睡眠の質を高める睡眠音楽｜心身の緊張を解きリラックス効果｜自律神経 疲労回復 熟睡 癒し ストレス緩和｜Deep Relaxing Sleep Music.wav\n",
      "Perfect 5: 11.6 %\n",
      "Big three: 6.8 %\n",
      "Small 2.0 %\n",
      "Stable: 35.6 %\n",
      "Four: 13.6 %\n",
      "WholeTone: 6.4 %\n",
      "Other 23.6 %\n",
      "\n",
      "61 【５分聞いているうち眠くなります】リラックス効果ですぐに眠くなる魔法の音楽【α波】.wav\n",
      "Perfect 5: 8.34 %\n",
      "Big three: 3.3 %\n",
      "Small 3.75 %\n",
      "Stable: 43.08 %\n",
      "Four: 6.6 %\n",
      "WholeTone: 10.61 %\n",
      "Other 24.26 %\n",
      "\n",
      "62 不思議と眠くなる優しいピアノメドレー -  おやすみ用音楽 - 睡眠モードへ！安らぎの熟睡タイム - Relax BGM - 自然音BGM - 癒し音楽.wav\n",
      "Perfect 5: 8.57 %\n",
      "Big three: 7.03 %\n",
      "Small 1.3 %\n",
      "Stable: 36.13 %\n",
      "Four: 8.77 %\n",
      "WholeTone: 8.91 %\n",
      "Other 29.24 %\n",
      "\n",
      "63 幫助你深度睡眠 安心入睡的輕鬆音樂[睡眠輕音樂].wav\n",
      "Perfect 5: 11.11 %\n",
      "Big three: 0.4 %\n",
      "Small 2.68 %\n",
      "Stable: 48.62 %\n",
      "Four: 10.49 %\n",
      "WholeTone: 11.18 %\n",
      "Other 15.47 %\n",
      "\n",
      "64 恢復癒合身體，身心放鬆，深度睡眠 α波睡覺音樂 潛意識力量 [冥想音樂].wav\n",
      "Perfect 5: 12.41 %\n",
      "Big three: 6.39 %\n",
      "Small 1.88 %\n",
      "Stable: 35.71 %\n",
      "Four: 14.29 %\n",
      "WholeTone: 6.02 %\n",
      "Other 22.93 %\n",
      "\n",
      "65 放松睡眠音乐 - 柔和的钢琴音乐，睡觉音乐，舒缓的音乐冥想，瑜伽音乐.Relaxing Sleep MusicSoft Piano Music Soothing Music.wav\n",
      "Perfect 5: 14.5 %\n",
      "Big three: 1.53 %\n",
      "Small 0.92 %\n",
      "Stable: 26.11 %\n",
      "Four: 2.44 %\n",
      "WholeTone: 5.04 %\n",
      "Other 49.31 %\n",
      "\n",
      "66 有助打開第三隻眼的睡眠音樂！30分鐘激活腦內潛能.wav\n",
      "Perfect 5: 4.97 %\n",
      "Big three: 5.59 %\n",
      "Small 6.83 %\n",
      "Stable: 29.81 %\n",
      "Four: 8.7 %\n",
      "WholeTone: 12.42 %\n",
      "Other 31.37 %\n",
      "\n",
      "67 深層睡眠 不可思議的音樂[1小時]第五輯 採用α波 令腦部神經盡快達到鬆弛的效果.wav\n",
      "Perfect 5: 11.95 %\n",
      "Big three: 8.72 %\n",
      "Small 9.76 %\n",
      "Stable: 24.06 %\n",
      "Four: 8.3 %\n",
      "WholeTone: 22.34 %\n",
      "Other 14.82 %\n",
      "\n",
      "68 無廣告音樂放鬆音樂深度睡眠放鬆音樂治療音樂舒壓按摩音樂 睡眠音樂療癒音樂鋼琴音樂波音鋼琴曲輕音樂輕快BGM純音樂钢琴曲轻音乐.wav\n",
      "Perfect 5: 7.76 %\n",
      "Big three: 9.59 %\n",
      "Small 2.74 %\n",
      "Stable: 26.03 %\n",
      "Four: 5.02 %\n",
      "WholeTone: 10.96 %\n",
      "Other 37.44 %\n",
      "\n",
      "69 無廣告音樂放鬆音樂深度睡眠放鬆音樂治療音樂舒壓按摩音樂 睡眠音樂療癒音樂鋼琴音樂波音鋼琴曲輕音樂輕快BGM純音樂钢琴曲轻音乐12.wav\n",
      "Perfect 5: 6.36 %\n",
      "Big three: 7.42 %\n",
      "Small 6.97 %\n",
      "Stable: 23.2 %\n",
      "Four: 9.7 %\n",
      "WholeTone: 16.01 %\n",
      "Other 30.28 %\n",
      "\n",
      "70 短い睡眠でも朝スッキリ！ 睡眠の質を高める睡眠音楽｜心身の緊張を解きリラックス効果｜自律神経 疲労回復 熟睡 癒し ストレス緩和｜Deep Relaxing Sleep Music.wav\n",
      "Perfect 5: 12.0 %\n",
      "Big three: 6.0 %\n",
      "Small 5.08 %\n",
      "Stable: 32.77 %\n",
      "Four: 12.31 %\n",
      "WholeTone: 8.77 %\n",
      "Other 22.92 %\n",
      "\n",
      "71 聲波治療 自然療法 睡眠誘導音樂[30分鐘]第四輯 採用睡眠聲波 為腦部充能 應付日常生活工作.wav\n",
      "Perfect 5: 7.84 %\n",
      "Big three: 3.27 %\n",
      "Small 5.23 %\n",
      "Stable: 34.64 %\n",
      "Four: 10.46 %\n",
      "WholeTone: 5.88 %\n",
      "Other 32.03 %\n",
      "\n",
      "72 輕音樂 睡覺 - 背景音樂 - 睡眠音樂 - 大自然音樂 - 森林音樂 - 水 音樂 (快速入睡).wav\n",
      "Perfect 5: 7.83 %\n",
      "Big three: 5.99 %\n",
      "Small 5.24 %\n",
      "Stable: 35.0 %\n",
      "Four: 8.35 %\n",
      "WholeTone: 9.01 %\n",
      "Other 28.54 %\n",
      "\n",
      "73 音樂保健 養生音樂 [睡眠輕音樂] (1).wav\n",
      "Perfect 5: 11.51 %\n",
      "Big three: 3.58 %\n",
      "Small 3.58 %\n",
      "Stable: 40.92 %\n",
      "Four: 13.3 %\n",
      "WholeTone: 9.46 %\n",
      "Other 17.39 %\n",
      "\n",
      "74 音樂保健 養生音樂 [睡眠輕音樂].wav\n",
      "Perfect 5: 7.89 %\n",
      "Big three: 2.19 %\n",
      "Small 0.88 %\n",
      "Stable: 55.26 %\n",
      "Four: 7.46 %\n",
      "WholeTone: 5.7 %\n",
      "Other 20.18 %\n",
      "\n"
     ]
    }
   ],
   "source": [
    "for i in range(len(pitch)):\n",
    "    perfect_, same_, non_ , big3_ , small3_ ,four_, whole_ = count_pattern(pitch[i], 1,0,2)\n",
    "    print(i, sleeping_music[i])\n",
    "    print(\"Perfect 5:\", perfect_, '%')\n",
    "    print(\"Big three:\",big3_, '%')\n",
    "    print(\"Small\",small3_, '%')\n",
    "    print(\"Stable:\",same_, '%')\n",
    "    print(\"Four:\",four_, '%')\n",
    "    print(\"WholeTone:\",whole_, '%')\n",
    "    print(\"Other\",non_, '%')\n",
    "    print()"
   ]
  },
  {
   "cell_type": "code",
   "execution_count": 223,
   "metadata": {},
   "outputs": [
    {
     "data": {
      "text/plain": [
       "Counter({'C': 99, 'G': 109, 'D': 68, 'A': 19, 'F': 5})"
      ]
     },
     "execution_count": 223,
     "metadata": {},
     "output_type": "execute_result"
    }
   ],
   "source": [
    "Counter(chord[3])"
   ]
  },
  {
   "cell_type": "markdown",
   "metadata": {},
   "source": [
    "## Visualize"
   ]
  },
  {
   "cell_type": "code",
   "execution_count": 425,
   "metadata": {},
   "outputs": [],
   "source": [
    "def plot_wordcloud(data, max_word):\n",
    "    wordcloud = WordCloud(max_words=max_word, max_font_size=1500,background_color='black',width=2000, height=2000,margin=2).\\\n",
    "    generate_from_frequencies(data)\n",
    "    plt.figure(figsize=(10,10))\n",
    "    plt.tight_layout()\n",
    "    plt.imshow(wordcloud)"
   ]
  },
  {
   "cell_type": "code",
   "execution_count": 426,
   "metadata": {},
   "outputs": [
    {
     "data": {
      "image/png": "[encoded data removed]",
      "text/plain": [
       "<Figure size 720x720 with 1 Axes>"
      ]
     },
     "metadata": {
      "needs_background": "light"
     },
     "output_type": "display_data"
    }
   ],
   "source": [
    "## pitch frequency\n",
    "a = n_gram(pitch, 1)\n",
    "plot_wordcloud(a,50)"
   ]
  },
  {
   "cell_type": "code",
   "execution_count": 427,
   "metadata": {},
   "outputs": [
    {
     "data": {
      "image/png": "[encoded data removed]",
      "text/plain": [
       "<Figure size 720x720 with 1 Axes>"
      ]
     },
     "metadata": {
      "needs_background": "light"
     },
     "output_type": "display_data"
    }
   ],
   "source": [
    "## chord frequency\n",
    "a = n_gram(sleeping_key,1)\n",
    "plot_wordcloud(a,50)"
   ]
  },
  {
   "cell_type": "code",
   "execution_count": 428,
   "metadata": {},
   "outputs": [
    {
     "data": {
      "image/png": "[encoded data removed]",
      "text/plain": [
       "<Figure size 720x720 with 1 Axes>"
      ]
     },
     "metadata": {
      "needs_background": "light"
     },
     "output_type": "display_data"
    }
   ],
   "source": [
    "a = n_gram(sleeping_key,4)\n",
    "plot_wordcloud(a,50)"
   ]
  },
  {
   "cell_type": "markdown",
   "metadata": {},
   "source": [
    "### Unused code"
   ]
  },
  {
   "cell_type": "code",
   "execution_count": null,
   "metadata": {},
   "outputs": [],
   "source": [
    "# o_env = librosa.onset.onset_strength(y1, sr=sr)\n",
    "# times = librosa.frames_to_time(np.arange(len(o_env)), sr=sr)\n",
    "# onset_frames = librosa.onset.onset_detect(onset_envelope=o_env, sr=sr)\n",
    "\n",
    "# import matplotlib.pyplot as plt\n",
    "# D = np.abs(librosa.stft(y1))\n",
    "# plt.figure()\n",
    "# ax1 = plt.subplot(2, 1, 1)\n",
    "# librosa.display.specshow(librosa.amplitude_to_db(D, ref=np.max),\n",
    "#                           x_axis='time', y_axis='log')\n",
    "# plt.title('Power spectrogram')\n",
    "# plt.subplot(2, 1, 2, sharex=ax1)\n",
    "# plt.plot(times, o_env, label='Onset strength')\n",
    "# plt.vlines(times[onset_frames], 0, o_env.max(), color='r', alpha=0.9,\n",
    "#             linestyle='--', label='Onsets')\n",
    "# plt.axis('tight')\n",
    "# plt.legend(frameon=True, fram1ealpha=0.75)"
   ]
  },
  {
   "cell_type": "code",
   "execution_count": 129,
   "metadata": {},
   "outputs": [],
   "source": [
    "# y, sr = librosa.load('./music/sleeping/m1.wav', duration=80)\n",
    "# chroma_stft = librosa.feature.chroma_stft(y=y, sr=sr, n_chroma=12, n_fft=4096)\n",
    "# chroma_cq = librosa.feature.chroma_cqt(y=y, sr=sr)"
   ]
  },
  {
   "cell_type": "code",
   "execution_count": 130,
   "metadata": {},
   "outputs": [],
   "source": [
    "# import matplotlib.pyplot as plt\n",
    "# plt.figure(figsize=(15, 5))\n",
    "# librosa.display.specshow(chroma_stft, y_axis='chroma', x_axis='time')\n",
    "# plt.colorbar()\n",
    "# plt.title('Chromagram')\n",
    "# plt.tight_layout()"
   ]
  },
  {
   "cell_type": "code",
   "execution_count": null,
   "metadata": {},
   "outputs": [],
   "source": [
    "# ## split audio\n",
    "# def chunk_wav(file, chunk_ms,folder, title):\n",
    "#     chunks = make_chunks(file, chunk_ms)\n",
    "#     # Export all of the individual chunks as wav files\n",
    "#     for i, chunk in enumerate(chunks):\n",
    "#         chunk_name = os.path.join(\"./test\", folder,\"{0}_chunk{1}.wav\".format(title, i))\n",
    "#         librosa.output.write_wav(chunk_name, chunk, sr)\n"
   ]
  },
  {
   "cell_type": "code",
   "execution_count": 170,
   "metadata": {},
   "outputs": [],
   "source": [
    "# def n_gram(key_list, ngram):\n",
    "#     k_list = [[word for word in line.split(\",\")] for line in key_list]\n",
    "#     flattened = [val for sublist in k_list for val in sublist]\n",
    "#     ngram_key = []\n",
    "#     for i in range(int(len(flattened)/ngram)):\n",
    "#         ngram_key.append(flattened[ngram*i : ngram*(i+1)])\n",
    "#     count_ary = [[x,ngram_key.count(x)] for x in (ngram_key)]\n",
    "#     unique = []\n",
    "#     for item in count_ary:\n",
    "#         if item not in unique:\n",
    "#             unique.append(item)\n",
    "#     unique = sorted(unique, key=lambda x:x[1], reverse = True)\n",
    "#     return unique"
   ]
  }
 ],
 "metadata": {
  "kernelspec": {
   "display_name": "Python 3",
   "language": "python",
   "name": "python3"
  },
  "language_info": {
   "codemirror_mode": {
    "name": "ipython",
    "version": 3
   },
   "file_extension": ".py",
   "mimetype": "text/x-python",
   "name": "python",
   "nbconvert_exporter": "python",
   "pygments_lexer": "ipython3",
   "version": "3.6.6"
  }
 },
 "nbformat": 4,
 "nbformat_minor": 2
}
