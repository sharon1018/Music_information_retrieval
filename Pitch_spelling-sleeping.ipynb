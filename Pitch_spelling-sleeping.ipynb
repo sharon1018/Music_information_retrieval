{
 "cells": [
  {
   "cell_type": "code",
   "execution_count": 1,
   "metadata": {},
   "outputs": [
    {
     "name": "stdout",
     "output_type": "stream",
     "text": [
      "\n"
     ]
    }
   ],
   "source": [
    "\"\"\"\n",
    "# Define pitch\n",
    "F = [0,1,0] ; E_sharp = [0,1,0]\n",
    "C = [1,0,1] ; B_sharp = [1,0,1] \n",
    "G = [0,-1,2]\n",
    "D = [-1,0,3]\n",
    "A = [0,1,4]\n",
    "E = [1,0,5]  ; F_flat = [1,0,5]\n",
    "B = [0,-1,6]  ; C_flat = [0,-1,6]\n",
    "F_sharp = [-1,0,7] ; G_flat = [-1,0,7]\n",
    "C_sharp = [0,1,8] ; D_flat = [0,1,8]\n",
    "G_sharp = [1,0,9] ; A_flat = [1,0,9]\n",
    "D_sharp = [0,-1,10] ; E_flat = [0,-1,10]\n",
    "A_sharp = [-1,0,11] ; B_flat = [-1,0,11]\n",
    "\"\"\"\n",
    "print()"
   ]
  },
  {
   "cell_type": "code",
   "execution_count": 2,
   "metadata": {},
   "outputs": [
    {
     "name": "stderr",
     "output_type": "stream",
     "text": [
      "/home/hsuan/env1/lib/python3.6/site-packages/pydub/utils.py:165: RuntimeWarning: Couldn't find ffmpeg or avconv - defaulting to ffmpeg, but may not work\n",
      "  warn(\"Couldn't find ffmpeg or avconv - defaulting to ffmpeg, but may not work\", RuntimeWarning)\n"
     ]
    }
   ],
   "source": [
    "import librosa\n",
    "import os, sys\n",
    "import numpy as np\n",
    "from pydub import AudioSegment\n",
    "from pydub.utils import make_chunks\n",
    "import warnings\n",
    "import matplotlib.pyplot as plt\n",
    "from collections import Counter\n",
    "from librosa import display\n",
    "warnings.filterwarnings('ignore')"
   ]
  },
  {
   "cell_type": "code",
   "execution_count": 3,
   "metadata": {},
   "outputs": [],
   "source": [
    "pitch_ary = [[1,0,1], [0,1,8], [-1,0,3], [0,-1,10], [1,0,5], [0,1,0], [-1,0,7],\\\n",
    "                 [0,-1,2], [1,0,9], [0,1,4], [-1,0,11], [0,-1,6]]\n",
    "pitch_ary = np.array(pitch_ary)\n",
    "\n",
    "## get all clip \n",
    "def get_dirs(path):\n",
    "    dirs = os.listdir(path)\n",
    "    return dirs  # file list\n",
    "\n",
    "def pitch_trans(seq):\n",
    "    pitch_list = ['C','C#','D','D#(E-)','E','F','F#','G','G#','A','A#(B-)','B']\n",
    "    return pitch_list[seq]\n",
    "\n",
    "def pitch_to_ary(notes):\n",
    "    pitch_ary = [[1,0,1], [0,1,8], [-1,0,3], [0,-1,10], [1,0,5], [0,1,0], [-1,0,7],\\\n",
    "                 [0,-1,2], [1,0,9], [0,1,4], [-1,0,11], [0,-1,6]]\n",
    "    pitch_ary = np.array(pitch_ary)\n",
    "    return pitch_ary[notes]\n",
    "\n",
    "\n",
    "## count CE\n",
    "def count_CE(notes_seq):\n",
    "    c = Counter(notes_seq)\n",
    "    Dab = 0\n",
    "    sum_dp = 0\n",
    "    for i in range(len(notes_seq)):\n",
    "        pij = (pitch_to_ary(notes_seq[i]))\n",
    "        dij = 1\n",
    "        Dab = sum(c.values())\n",
    "        sum_dp += (dij * pij)  \n",
    "        CE = sum_dp/Dab   \n",
    "    return CE\n",
    "\n",
    "def get_key(CE, pitch_ary):\n",
    "    key = []\n",
    "    for i in range(len(pitch_ary)):\n",
    "        key.append(abs(pitch_ary[i][0]-int(CE[0])) + abs(pitch_ary[i][1]-int(CE[1])) + \\\n",
    "                  abs(pitch_ary[i][2]-int(CE[2])))\n",
    "    predict_key = pitch_trans(key.index(min(key)))\n",
    "    return predict_key"
   ]
  },
  {
   "cell_type": "code",
   "execution_count": 4,
   "metadata": {},
   "outputs": [],
   "source": [
    "## Analysis chord and pitch\n",
    "def n_gram(key_list, ngram):\n",
    "    k_list = [[word for word in line.split(\",\")] for line in key_list]\n",
    "    flattened = [val for sublist in k_list for val in sublist]\n",
    "    ngram_key = []\n",
    "    for i in range(int(len(flattened)/ngram)):\n",
    "        ngram_key.append(flattened[ngram*i : ngram*(i+1)])\n",
    "    count_ary = [[x,ngram_key.count(x)] for x in (ngram_key)]\n",
    "    unique = []\n",
    "    for item in count_ary:\n",
    "        if item not in unique:\n",
    "            unique.append(item)\n",
    "    unique = sorted(unique, key=lambda x:x[1], reverse = True)\n",
    "    return unique\n",
    "\n",
    "## key matching\n",
    "perfect_five = [['C','G'],['G','D'],['D','A'],['A','E'],['E','B'],['B','F#'],['F#','C#'],['C#','G#'],\n",
    "                ['G#','D#(E-)'],['D#(E-)','A#(B-)'],['A#(B-)','F'],['F','C']]\n",
    "same_pitch = [['C','C','C'],['D','D','D'],['A','A','A'],['E','E','E'],['B','B','B'],['F#','F#','F#'],\n",
    "              ['C#','C#','C#'],['G#','G#','G#'], ['D#(E-)','D#(E-)','D#(E-)'],\n",
    "              ['A#(B-)','A#(B-)','A#(B-)'],['F','F','F'],['G','G','G']]\n",
    "big_three = [['C','E'],['D','F#'],['E','G#'],['F','A'],['G','B'],['A','C#'],['B','D#'],\n",
    "             ['C#','F'],['D#(E-)','G'],['F#','A#(B-)'],['G#','C'],['A#','D']]\n",
    "small_three = [['C','D#'],['D','F'],['E','G'],['F','G#'],['G','A#'],['A','C'],['B','D'],\n",
    "             ['C#','E'],['D#(E-)','F#'],['F#','A'],['G#','B'],['A#','C#']]"
   ]
  },
  {
   "cell_type": "code",
   "execution_count": 5,
   "metadata": {},
   "outputs": [],
   "source": [
    "## get all file name\n",
    "sleeping_music = sorted(get_dirs('./music/sleeping'))"
   ]
  },
  {
   "cell_type": "markdown",
   "metadata": {},
   "source": [
    "### Get Chord (4 beats)"
   ]
  },
  {
   "cell_type": "code",
   "execution_count": 6,
   "metadata": {},
   "outputs": [],
   "source": [
    "sleeping_key = []; pitch = []\n",
    "def job(num1, num2):\n",
    "#     for idx in range(len(sleeping_music)):\n",
    "    for idx in range(num1, num2):\n",
    "        temp2 = []; temp3 = []\n",
    "        for i in range(60):\n",
    "            try:\n",
    "                y1, sr = librosa.load('./music/sleeping/'+ sleeping_music[idx],offset=4*i,duration = 4, res_type = \"kaiser_fast\")\n",
    "                ## onset detection\n",
    "                o_env = librosa.onset.onset_strength(y1, sr=sr)\n",
    "                onset_frames = librosa.onset.onset_detect(y=y1, onset_envelope=o_env, sr=sr)\n",
    "\n",
    "                ## pitch detection\n",
    "                b = librosa.feature.chroma_stft(y=y1, sr=sr, n_fft=1024, hop_length=512)\n",
    "\n",
    "                temp =[]\n",
    "                for i in range(len(onset_frames)): \n",
    "                    temp.append(np.argsort(b[:,onset_frames[i]])[-1])  \n",
    "                for i in range(len(temp)):\n",
    "                    temp3.append(pitch_trans(temp[i]))    \n",
    "\n",
    "                ## count CE\n",
    "                CE = (count_CE(temp))\n",
    "                temp2.append(get_key(CE, pitch_ary))\n",
    "            except:\n",
    "                pass\n",
    "        sleeping_key.append(temp2)\n",
    "        pitch.append(temp3)\n",
    "        print(\"Finish\", idx)"
   ]
  },
  {
   "cell_type": "code",
   "execution_count": 7,
   "metadata": {},
   "outputs": [],
   "source": [
    "import threading\n",
    "import time\n",
    "\n",
    "## multi thread\n",
    "\n",
    "threads = []\n",
    "threads2 = []\n",
    "threads3 = []\n",
    "threads4 = []\n",
    "\n",
    "threads.append(threading.Thread(target = job, args = (0,12))) \n",
    "for t in threads:\n",
    "    t.start()\n",
    "    \n",
    "threads2.append(threading.Thread(target = job, args = (12,24))) \n",
    "for t2 in threads2:\n",
    "    t2.start()\n",
    "    \n",
    "threads3.append(threading.Thread(target = job, args = (24,38))) \n",
    "for t2 in threads3:\n",
    "    t2.start()\n",
    "    \n",
    "threads4.append(threading.Thread(target = job, args = (38,51))) \n",
    "for t2 in threads4:\n",
    "    t2.start()"
   ]
  },
  {
   "cell_type": "code",
   "execution_count": 10,
   "metadata": {},
   "outputs": [
    {
     "data": {
      "text/plain": [
       "4"
      ]
     },
     "execution_count": 10,
     "metadata": {},
     "output_type": "execute_result"
    },
    {
     "name": "stdout",
     "output_type": "stream",
     "text": [
      "Finish 13\n",
      "Finish 25\n",
      "Finish 1\n",
      "Finish 39\n",
      "Finish 14\n",
      "Finish 26\n",
      "Finish 2\n",
      "Finish 40\n",
      "Finish 15\n",
      "Finish 27\n",
      "Finish 3\n",
      "Finish 41\n",
      "Finish 16\n",
      "Finish 28\n",
      "Finish 4\n",
      "Finish 42\n",
      "Finish 17\n",
      "Finish 29\n",
      "Finish 5\n",
      "Finish 43\n",
      "Finish 18\n",
      "Finish 30\n",
      "Finish 6\n",
      "Finish 44\n"
     ]
    }
   ],
   "source": [
    "len(sleeping_key)"
   ]
  },
  {
   "cell_type": "markdown",
   "metadata": {},
   "source": [
    "## Analysis - Chord"
   ]
  },
  {
   "cell_type": "code",
   "execution_count": 9,
   "metadata": {},
   "outputs": [
    {
     "ename": "IndexError",
     "evalue": "list index out of range",
     "output_type": "error",
     "traceback": [
      "\u001b[0;31m---------------------------------------------------------------------------\u001b[0m",
      "\u001b[0;31mIndexError\u001b[0m                                Traceback (most recent call last)",
      "\u001b[0;32m<ipython-input-9-a07ffc4a4039>\u001b[0m in \u001b[0;36m<module>\u001b[0;34m\u001b[0m\n\u001b[1;32m      3\u001b[0m     \u001b[0mperfect\u001b[0m \u001b[0;34m=\u001b[0m \u001b[0;36m0\u001b[0m\u001b[0;34m;\u001b[0m \u001b[0msame\u001b[0m \u001b[0;34m=\u001b[0m \u001b[0;36m0\u001b[0m\u001b[0;34m;\u001b[0m \u001b[0mnon\u001b[0m \u001b[0;34m=\u001b[0m \u001b[0;36m0\u001b[0m\u001b[0;34m;\u001b[0m \u001b[0mbig3\u001b[0m \u001b[0;34m=\u001b[0m \u001b[0;36m0\u001b[0m\u001b[0;34m;\u001b[0m \u001b[0msmall3\u001b[0m \u001b[0;34m=\u001b[0m \u001b[0;36m0\u001b[0m\u001b[0;34m\u001b[0m\u001b[0m\n\u001b[1;32m      4\u001b[0m     \u001b[0mperfect_\u001b[0m \u001b[0;34m=\u001b[0m \u001b[0;36m0\u001b[0m\u001b[0;34m;\u001b[0m \u001b[0msame_\u001b[0m \u001b[0;34m=\u001b[0m \u001b[0;36m0\u001b[0m\u001b[0;34m;\u001b[0m \u001b[0mnon_\u001b[0m \u001b[0;34m=\u001b[0m \u001b[0;36m0\u001b[0m\u001b[0;34m;\u001b[0m \u001b[0mbig3_\u001b[0m \u001b[0;34m=\u001b[0m \u001b[0;36m0\u001b[0m\u001b[0;34m;\u001b[0m \u001b[0msmall3_\u001b[0m \u001b[0;34m=\u001b[0m \u001b[0;36m0\u001b[0m\u001b[0;34m\u001b[0m\u001b[0m\n\u001b[0;32m----> 5\u001b[0;31m     \u001b[0;32mfor\u001b[0m \u001b[0mi\u001b[0m \u001b[0;32min\u001b[0m \u001b[0mrange\u001b[0m\u001b[0;34m(\u001b[0m\u001b[0mlen\u001b[0m\u001b[0;34m(\u001b[0m\u001b[0msleeping_key\u001b[0m\u001b[0;34m[\u001b[0m\u001b[0midx\u001b[0m\u001b[0;34m]\u001b[0m\u001b[0;34m)\u001b[0m\u001b[0;34m)\u001b[0m\u001b[0;34m:\u001b[0m\u001b[0;34m\u001b[0m\u001b[0m\n\u001b[0m\u001b[1;32m      6\u001b[0m         \u001b[0;32mif\u001b[0m \u001b[0msleeping_key\u001b[0m\u001b[0;34m[\u001b[0m\u001b[0midx\u001b[0m\u001b[0;34m]\u001b[0m\u001b[0;34m[\u001b[0m\u001b[0mi\u001b[0m\u001b[0;34m:\u001b[0m\u001b[0mi\u001b[0m\u001b[0;34m+\u001b[0m\u001b[0;36m2\u001b[0m\u001b[0;34m]\u001b[0m \u001b[0;32min\u001b[0m \u001b[0mperfect_five\u001b[0m\u001b[0;34m:\u001b[0m\u001b[0;34m\u001b[0m\u001b[0m\n\u001b[1;32m      7\u001b[0m             \u001b[0mperfect\u001b[0m \u001b[0;34m=\u001b[0m \u001b[0mperfect\u001b[0m\u001b[0;34m+\u001b[0m\u001b[0;36m1\u001b[0m\u001b[0;34m\u001b[0m\u001b[0m\n",
      "\u001b[0;31mIndexError\u001b[0m: list index out of range"
     ]
    }
   ],
   "source": [
    "## Chord progression\n",
    "for idx in range(len(sleeping_music)):\n",
    "    perfect = 0; same = 0; non = 0; big3 = 0; small3 = 0\n",
    "    perfect_ = 0; same_ = 0; non_ = 0; big3_ = 0; small3_ = 0\n",
    "    for i in range(len(sleeping_key[idx])):\n",
    "        if sleeping_key[idx][i:i+2] in perfect_five:\n",
    "            perfect = perfect+1\n",
    "        elif sleeping_key[idx][i:i+2] in big_three:\n",
    "            big3 = big3+1\n",
    "        elif sleeping_key[idx][i:i+2] in small_three:\n",
    "            small3 = small3+1\n",
    "        else:\n",
    "            non = non+1\n",
    "    for i in range(len(sleeping_key[idx])):\n",
    "        if sleeping_key[idx][i:i+3] in same_pitch:\n",
    "            same = same+1\n",
    "    try:\n",
    "        perfect_ = round(perfect/len(sleeping_key[idx]) *100,2)\n",
    "        same_ = round(same/len(sleeping_key[idx]) *100,2)\n",
    "        non_ = round(non/len(sleeping_key[idx]) *100,2)\n",
    "        big3_ = round(big3/len(sleeping_key[idx]) *100,2)\n",
    "        small3_ = round(small3/len(sleeping_key[idx]) *100,2)\n",
    "    except:\n",
    "        pass\n",
    "    print(idx,sleeping_music[idx])\n",
    "    print(\"Perfect 5:\", perfect_, '%')\n",
    "    print(\"Big three:\",big3_, '%')\n",
    "    print(\"Small\",small3_, '%')\n",
    "    print(\"Stable:\",same_, '%')\n",
    "    print(\"Other\",non_, '%')\n",
    "    print()"
   ]
  },
  {
   "cell_type": "code",
   "execution_count": null,
   "metadata": {},
   "outputs": [
    {
     "name": "stdout",
     "output_type": "stream",
     "text": [
      "Finish 12\n",
      "Finish 0\n",
      "Finish 24\n",
      "Finish 38\n"
     ]
    }
   ],
   "source": [
    "print(sleeping_key[2])"
   ]
  },
  {
   "cell_type": "markdown",
   "metadata": {},
   "source": [
    "## Analysis - Pitch"
   ]
  },
  {
   "cell_type": "code",
   "execution_count": 89,
   "metadata": {},
   "outputs": [
    {
     "name": "stdout",
     "output_type": "stream",
     "text": [
      "0 [[['A'], 1943], [['E'], 671], [['G#'], 419], [['C#'], 306], [['F#'], 295], [['B'], 286], [['D#(E-)'], 6], [['A#(B-)'], 1], [['C'], 1]]\n",
      "\n",
      "1 [[['C'], 1447], [['E'], 1287], [['G'], 1239], [['D'], 833], [['F'], 755], [['A'], 576], [['B'], 258], [['D#(E-)'], 63], [['C#'], 59], [['A#(B-)'], 43], [['G#'], 33], [['F#'], 29]]\n",
      "\n",
      "2 [[['C'], 838], [['G'], 752], [['A'], 734], [['F'], 625], [['D'], 577], [['E'], 440], [['D#(E-)'], 16], [['C#'], 4], [['G#'], 1], [['A#(B-)'], 1], [['B'], 1], [['F#'], 1]]\n",
      "\n",
      "3 [[['C'], 988], [['G'], 589], [['F'], 547], [['A'], 425], [['E'], 406], [['D'], 337], [['B'], 260], [['F#'], 40], [['G#'], 16], [['D#(E-)'], 11], [['C#'], 8]]\n",
      "\n",
      "4 [[['A'], 664], [['F#'], 507], [['B'], 474], [['E'], 409], [['C#'], 301], [['D'], 276], [['G'], 256], [['G#'], 138], [['D#(E-)'], 72], [['A#(B-)'], 68], [['C'], 64], [['F'], 44]]\n",
      "\n",
      "5 [[['A'], 428], [['E'], 262], [['G'], 248], [['D'], 246], [['B'], 218], [['F#'], 216], [['C'], 120], [['C#'], 78], [['D#(E-)'], 49], [['F'], 35], [['G#'], 20], [['A#(B-)'], 6]]\n",
      "\n",
      "6 [[['F'], 1485], [['C#'], 1065], [['G#'], 824], [['D#(E-)'], 719], [['A#(B-)'], 551], [['C'], 255], [['F#'], 236], [['D'], 65], [['E'], 60], [['A'], 26], [['G'], 19], [['B'], 1]]\n",
      "\n",
      "7 [[['C'], 1476], [['G'], 783], [['F'], 582], [['A'], 581], [['E'], 527], [['D'], 484], [['B'], 232], [['G#'], 81], [['D#(E-)'], 38], [['A#(B-)'], 18], [['C#'], 9], [['F#'], 5]]\n",
      "\n",
      "8 [[['E'], 337], [['C#'], 320], [['B'], 303], [['G#'], 300], [['F#'], 174], [['A'], 171], [['D'], 60], [['D#(E-)'], 37], [['C'], 34]]\n",
      "\n",
      "9 [[['D'], 1316], [['A'], 933], [['F#'], 636], [['C'], 631], [['E'], 471], [['G'], 328], [['B'], 258], [['C#'], 9], [['D#(E-)'], 7]]\n",
      "\n",
      "10 [[['G#'], 1334], [['C#'], 946], [['D#(E-)'], 901], [['A#(B-)'], 558], [['E'], 471], [['F#'], 435], [['F'], 273], [['A'], 252], [['B'], 228], [['D'], 211], [['C'], 90], [['G'], 57]]\n",
      "\n",
      "11 [[['C#'], 2383], [['C'], 385], [['G#'], 317], [['F'], 314], [['F#'], 144], [['D#(E-)'], 143], [['D'], 125], [['A#(B-)'], 64], [['A'], 38], [['G'], 23], [['E'], 14], [['B'], 13]]\n",
      "\n",
      "12 [[['C'], 2007], [['E'], 1350], [['D'], 1088], [['F'], 801], [['G'], 568], [['A'], 532], [['C#'], 492], [['D#(E-)'], 409], [['A#(B-)'], 263], [['B'], 253], [['G#'], 127], [['F#'], 4]]\n",
      "\n",
      "13 [[['G'], 390], [['C'], 371], [['D'], 333], [['A'], 251], [['E'], 209], [['B'], 195], [['F#'], 129], [['F'], 102], [['A#(B-)'], 88], [['G#'], 85], [['D#(E-)'], 76], [['C#'], 19]]\n",
      "\n",
      "14 [[['A'], 776], [['D'], 726], [['E'], 682], [['F#'], 642], [['G'], 639], [['C'], 639], [['B'], 600], [['A#(B-)'], 544], [['C#'], 543], [['D#(E-)'], 413], [['F'], 365], [['G#'], 330]]\n",
      "\n",
      "15 [[['E'], 1170], [['B'], 988], [['A'], 638], [['C#'], 629], [['F#'], 463], [['G#'], 396], [['D'], 305], [['D#(E-)'], 175], [['F'], 136], [['C'], 110], [['A#(B-)'], 46], [['G'], 21]]\n",
      "\n",
      "16 [[['A'], 667], [['E'], 311], [['B'], 265], [['C#'], 256], [['F#'], 230], [['D'], 224], [['G#'], 161], [['C'], 127], [['G'], 95], [['A#(B-)'], 53], [['F'], 42], [['D#(E-)'], 15]]\n",
      "\n",
      "17 [[['D'], 1093], [['A'], 785], [['C'], 502], [['F#'], 474], [['E'], 371], [['G'], 258], [['B'], 220], [['C#'], 7], [['D#(E-)'], 6], [['F'], 1]]\n",
      "\n",
      "18 [[['D#(E-)'], 2100], [['G#'], 1422], [['C#'], 708], [['C'], 701], [['A#(B-)'], 560], [['F'], 517], [['G'], 310], [['E'], 34], [['A'], 31], [['B'], 14], [['F#'], 13], [['D'], 9]]\n",
      "\n",
      "19 [[['A'], 598], [['D'], 592], [['E'], 534], [['G'], 424], [['F#'], 421], [['B'], 334], [['G#'], 311], [['C'], 221], [['F'], 174], [['C#'], 172], [['D#(E-)'], 121], [['A#(B-)'], 51]]\n",
      "\n",
      "20 [[['D'], 1093], [['A'], 785], [['C'], 502], [['F#'], 474], [['E'], 371], [['G'], 258], [['B'], 220], [['C#'], 7], [['D#(E-)'], 6], [['F'], 1]]\n",
      "\n",
      "21 [[['A'], 667], [['E'], 311], [['B'], 265], [['C#'], 256], [['F#'], 230], [['D'], 224], [['G#'], 161], [['C'], 127], [['G'], 95], [['A#(B-)'], 53], [['F'], 42], [['D#(E-)'], 15]]\n",
      "\n",
      "22 [[['E'], 1559], [['G#'], 849], [['B'], 581], [['A'], 564], [['G'], 401], [['C'], 398], [['F#'], 352], [['F'], 252], [['D'], 136], [['D#(E-)'], 123], [['C#'], 60], [['A#(B-)'], 50]]\n",
      "\n",
      "23 [[['F#'], 1837], [['C#'], 1361], [['D#(E-)'], 966], [['B'], 697], [['G#'], 503], [['C'], 324], [['E'], 304], [['A#(B-)'], 264], [['G'], 81], [['D'], 50], [['F'], 32], [['A'], 4]]\n",
      "\n",
      "24 [[['C'], 1791], [['F'], 819], [['D'], 807], [['G'], 729], [['A'], 682], [['A#(B-)'], 479], [['E'], 468], [['B'], 71], [['D#(E-)'], 49], [['C#'], 21], [['F#'], 8], [['G#'], 3]]\n",
      "\n",
      "25 [[['D#(E-)'], 1379], [['F'], 870], [['A#(B-)'], 577], [['A'], 302], [['G'], 168], [['C'], 138], [['B'], 127], [['G#'], 126], [['D'], 97], [['E'], 26], [['F#'], 4], [['C#'], 2]]\n",
      "\n",
      "26 [[['C'], 4016], [['F'], 824], [['A'], 821], [['G'], 803], [['D'], 443], [['B'], 368], [['E'], 368], [['G#'], 206], [['D#(E-)'], 158], [['C#'], 118], [['A#(B-)'], 87], [['F#'], 49]]\n",
      "\n",
      "27 [[['G'], 422], [['D'], 369], [['C'], 293], [['F'], 259], [['A'], 256], [['E'], 239], [['D#(E-)'], 136], [['A#(B-)'], 125], [['B'], 91], [['C#'], 26], [['G#'], 24], [['F#'], 3]]\n",
      "\n",
      "28 [[['C'], 2894], [['A'], 2077], [['D'], 713], [['F'], 712], [['E'], 538], [['G'], 436], [['C#'], 18], [['A#(B-)'], 14], [['D#(E-)'], 8], [['F#'], 5], [['B'], 1]]\n",
      "\n",
      "29 [[['G'], 1680], [['A'], 1511], [['D'], 1418], [['E'], 654], [['B'], 393], [['F#'], 354], [['C'], 246], [['D#(E-)'], 51], [['C#'], 33], [['A#(B-)'], 18], [['G#'], 17], [['F'], 1]]\n",
      "\n",
      "30 [[['D'], 3044], [['A'], 1771], [['G'], 830], [['D#(E-)'], 564], [['E'], 466], [['C'], 399], [['F'], 371], [['G#'], 58], [['B'], 50], [['A#(B-)'], 25], [['C#'], 14], [['F#'], 1]]\n",
      "\n",
      "31 [[['E'], 337], [['C#'], 320], [['B'], 303], [['G#'], 300], [['F#'], 174], [['A'], 171], [['D'], 60], [['D#(E-)'], 37], [['C'], 34]]\n",
      "\n",
      "32 [[['F#'], 1468], [['C#'], 813], [['G#'], 517], [['D#(E-)'], 433], [['B'], 401], [['A#(B-)'], 329], [['F'], 288], [['G'], 4], [['D'], 2], [['E'], 1], [['A'], 1]]\n",
      "\n",
      "33 [[['D'], 3023], [['A'], 1681], [['F#'], 762], [['B'], 666], [['G'], 583], [['C#'], 504], [['E'], 486], [['D#(E-)'], 124], [['G#'], 60], [['F'], 21], [['A#(B-)'], 15], [['C'], 11]]\n",
      "\n",
      "34 [[['E'], 2368], [['B'], 1152], [['D#(E-)'], 1134], [['F#'], 851], [['C#'], 802], [['G#'], 756], [['A#(B-)'], 420], [['C'], 216], [['F'], 125], [['G'], 102], [['A'], 80], [['D'], 55]]\n",
      "\n",
      "35 [[['C#'], 2085], [['F#'], 1472], [['G#'], 685], [['A#(B-)'], 364], [['F'], 233], [['D#(E-)'], 156], [['B'], 84], [['C'], 54], [['G'], 19], [['E'], 16], [['A'], 4], [['D'], 2]]\n",
      "\n",
      "36 [[['C'], 364], [['D'], 311], [['A'], 289], [['F'], 257], [['G'], 248], [['A#(B-)'], 246], [['E'], 241], [['C#'], 226], [['B'], 136], [['G#'], 124], [['F#'], 120], [['D#(E-)'], 108]]\n",
      "\n",
      "37 [[['C'], 1605], [['B'], 1567], [['D'], 1393], [['C#'], 1147], [['E'], 795], [['A'], 641], [['G'], 614], [['F#'], 142], [['A#(B-)'], 105], [['G#'], 73], [['F'], 33], [['D#(E-)'], 32]]\n",
      "\n",
      "38 [[['C'], 876], [['E'], 783], [['G'], 493], [['B'], 474], [['D'], 389], [['A'], 353], [['F'], 145], [['G#'], 1]]\n",
      "\n",
      "39 [[['E'], 2155], [['G'], 1782], [['D'], 897], [['F#'], 548], [['C'], 521], [['A'], 502], [['F'], 325], [['B'], 180], [['D#(E-)'], 79], [['G#'], 22], [['C#'], 7], [['A#(B-)'], 5]]\n",
      "\n",
      "40 [[['G'], 1913], [['C'], 1910], [['E'], 906], [['A'], 656], [['B'], 600], [['D'], 329], [['F'], 296], [['F#'], 35], [['C#'], 21], [['A#(B-)'], 5], [['G#'], 4], [['D#(E-)'], 2]]\n",
      "\n",
      "41 [[['B'], 1747], [['D'], 1495], [['G'], 868], [['E'], 582], [['A'], 506], [['C'], 417], [['C#'], 415], [['D#(E-)'], 159], [['A#(B-)'], 87], [['G#'], 27], [['F'], 14], [['F#'], 12]]\n",
      "\n",
      "42 [[['F#'], 2314], [['F'], 1006], [['C#'], 554], [['G#'], 528], [['G'], 278], [['A#(B-)'], 184], [['D'], 71], [['D#(E-)'], 54], [['E'], 38], [['A'], 35], [['C'], 25], [['B'], 5]]\n",
      "\n",
      "43 [[['D#(E-)'], 444], [['G#'], 319], [['F'], 296], [['C#'], 295], [['A#(B-)'], 264], [['C'], 205], [['F#'], 191], [['G'], 167], [['D'], 148], [['E'], 105], [['B'], 99], [['A'], 60]]\n",
      "\n",
      "44 [[['C'], 3672], [['G'], 1151], [['A'], 668], [['D'], 408], [['E'], 391], [['F'], 382], [['A#(B-)'], 215], [['C#'], 197], [['F#'], 124], [['D#(E-)'], 111], [['G#'], 102], [['B'], 98]]\n",
      "\n",
      "45 [[['G#'], 405], [['C#'], 273], [['F'], 152], [['D#(E-)'], 136], [['F#'], 101], [['A#(B-)'], 101], [['C'], 64], [['A'], 7]]\n",
      "\n",
      "46 [[['F#'], 2183], [['B'], 2015], [['G'], 1112], [['C'], 908], [['A'], 679], [['A#(B-)'], 666], [['D#(E-)'], 91], [['E'], 90], [['F'], 54], [['G#'], 11], [['D'], 1]]\n",
      "\n",
      "47 [[['G'], 660], [['D#(E-)'], 409], [['G#'], 337], [['C'], 311], [['A#(B-)'], 242], [['F'], 162], [['E'], 16], [['C#'], 14], [['B'], 3], [['D'], 1]]\n",
      "\n"
     ]
    },
    {
     "name": "stdout",
     "output_type": "stream",
     "text": [
      "48 [[['D'], 2888], [['C'], 2218], [['D#(E-)'], 1758], [['C#'], 655], [['A'], 89], [['E'], 80], [['F'], 78], [['B'], 47], [['G#'], 36], [['F#'], 4], [['A#(B-)'], 3], [['G'], 2]]\n",
      "\n",
      "49 [[['G#'], 604], [['C'], 509], [['F'], 485], [['E'], 452], [['G'], 448], [['A#(B-)'], 417], [['A'], 382], [['F#'], 357], [['B'], 341], [['D#(E-)'], 326], [['C#'], 303], [['D'], 161]]\n",
      "\n",
      "50 [[['F'], 337], [['C'], 291], [['D'], 249], [['A#(B-)'], 217], [['A'], 204], [['G'], 203], [['E'], 94], [['B'], 68], [['D#(E-)'], 14], [['C#'], 11], [['G#'], 6], [['F#'], 1]]\n",
      "\n",
      "51 [[['G'], 535], [['D'], 391], [['B'], 325], [['A'], 236], [['E'], 207], [['C'], 174], [['F#'], 150], [['F'], 61], [['G#'], 5], [['A#(B-)'], 3]]\n",
      "\n",
      "52 [[['C'], 4400], [['G'], 1302], [['F'], 863], [['E'], 598], [['D'], 414], [['A'], 278], [['C#'], 201], [['B'], 95], [['D#(E-)'], 32], [['A#(B-)'], 21], [['F#'], 17], [['G#'], 3]]\n",
      "\n",
      "53 [[['F'], 741], [['C'], 640], [['G'], 640], [['D'], 603], [['A#(B-)'], 593], [['D#(E-)'], 492], [['G#'], 449], [['C#'], 125], [['F#'], 50], [['A'], 47], [['E'], 47], [['B'], 1]]\n",
      "\n"
     ]
    }
   ],
   "source": [
    "## Check if it has a dominant key\n",
    "for idx in range(len(sleeping_music)):\n",
    "    print(idx, n_gram(pitch[idx], 1))\n",
    "    print()"
   ]
  },
  {
   "cell_type": "code",
   "execution_count": 1,
   "metadata": {},
   "outputs": [
    {
     "ename": "NameError",
     "evalue": "name 'sleeping_music' is not defined",
     "output_type": "error",
     "traceback": [
      "\u001b[0;31m---------------------------------------------------------------------------\u001b[0m",
      "\u001b[0;31mNameError\u001b[0m                                 Traceback (most recent call last)",
      "\u001b[0;32m<ipython-input-1-4472a9d4b1fd>\u001b[0m in \u001b[0;36m<module>\u001b[0;34m\u001b[0m\n\u001b[1;32m      1\u001b[0m \u001b[0;31m## Pitch progression\u001b[0m\u001b[0;34m\u001b[0m\u001b[0;34m\u001b[0m\u001b[0m\n\u001b[1;32m      2\u001b[0m \u001b[0;34m\u001b[0m\u001b[0m\n\u001b[0;32m----> 3\u001b[0;31m \u001b[0;32mfor\u001b[0m \u001b[0midx\u001b[0m \u001b[0;32min\u001b[0m \u001b[0mrange\u001b[0m\u001b[0;34m(\u001b[0m\u001b[0mlen\u001b[0m\u001b[0;34m(\u001b[0m\u001b[0msleeping_music\u001b[0m\u001b[0;34m)\u001b[0m\u001b[0;34m)\u001b[0m\u001b[0;34m:\u001b[0m\u001b[0;34m\u001b[0m\u001b[0m\n\u001b[0m\u001b[1;32m      4\u001b[0m     \u001b[0msame\u001b[0m \u001b[0;34m=\u001b[0m \u001b[0;36m0\u001b[0m\u001b[0;34m;\u001b[0m \u001b[0msame_\u001b[0m \u001b[0;34m=\u001b[0m \u001b[0;36m0\u001b[0m\u001b[0;34m\u001b[0m\u001b[0m\n\u001b[1;32m      5\u001b[0m     \u001b[0;32mfor\u001b[0m \u001b[0mi\u001b[0m \u001b[0;32min\u001b[0m \u001b[0mrange\u001b[0m\u001b[0;34m(\u001b[0m\u001b[0mlen\u001b[0m\u001b[0;34m(\u001b[0m\u001b[0mpitch\u001b[0m\u001b[0;34m[\u001b[0m\u001b[0midx\u001b[0m\u001b[0;34m]\u001b[0m\u001b[0;34m)\u001b[0m\u001b[0;34m)\u001b[0m\u001b[0;34m:\u001b[0m\u001b[0;34m\u001b[0m\u001b[0m\n",
      "\u001b[0;31mNameError\u001b[0m: name 'sleeping_music' is not defined"
     ]
    }
   ],
   "source": [
    "## Pitch progression\n",
    "for idx in range(len(sleeping_music)):\n",
    "    same = 0; same_ = 0\n",
    "    for i in range(len(pitch[idx])):\n",
    "        if pitch[idx][i:i+3] in same_pitch:\n",
    "            same = same+1\n",
    "    \n",
    "    \n",
    "    print(idx,sleeping_music[idx])\n",
    "    print(\"Stable:\",same/len(pitch[idx])*100)\n",
    "    print()"
   ]
  },
  {
   "cell_type": "code",
   "execution_count": null,
   "metadata": {},
   "outputs": [],
   "source": [
    "# o_env = librosa.onset.onset_strength(y1, sr=sr)\n",
    "# times = librosa.frames_to_time(np.arange(len(o_env)), sr=sr)\n",
    "# onset_frames = librosa.onset.onset_detect(onset_envelope=o_env, sr=sr)\n",
    "\n",
    "# import matplotlib.pyplot as plt\n",
    "# D = np.abs(librosa.stft(y1))\n",
    "# plt.figure()\n",
    "# ax1 = plt.subplot(2, 1, 1)\n",
    "# librosa.display.specshow(librosa.amplitude_to_db(D, ref=np.max),\n",
    "#                           x_axis='time', y_axis='log')\n",
    "# plt.title('Power spectrogram')\n",
    "# plt.subplot(2, 1, 2, sharex=ax1)\n",
    "# plt.plot(times, o_env, label='Onset strength')\n",
    "# plt.vlines(times[onset_frames], 0, o_env.max(), color='r', alpha=0.9,\n",
    "#             linestyle='--', label='Onsets')\n",
    "# plt.axis('tight')\n",
    "# plt.legend(frameon=True, fram1ealpha=0.75)"
   ]
  },
  {
   "cell_type": "code",
   "execution_count": 37,
   "metadata": {},
   "outputs": [
    {
     "data": {
      "image/png": "[encoded data removed]",
      "text/plain": [
       "<Figure size 1080x360 with 2 Axes>"
      ]
     },
     "metadata": {},
     "output_type": "display_data"
    }
   ],
   "source": [
    "# for i in range(2):\n",
    "# y,sr = librosa.load('./test/soda/'+ clip_list2[i])    \n",
    "b = librosa.feature.chroma_stft(y=y1, sr=sr,  n_fft=1024, hop_length=512)\n",
    "plt.figure(figsize=(15, 5))\n",
    "librosa.display.specshow(b, y_axis='chroma', x_axis='time')\n",
    "plt.colorbar()\n",
    "plt.title('Chromagram')\n",
    "plt.tight_layout()"
   ]
  },
  {
   "cell_type": "code",
   "execution_count": null,
   "metadata": {},
   "outputs": [],
   "source": [
    "# ## split audio\n",
    "# def chunk_wav(file, chunk_ms,folder, title):\n",
    "#     chunks = make_chunks(file, chunk_ms)\n",
    "#     # Export all of the individual chunks as wav files\n",
    "#     for i, chunk in enumerate(chunks):\n",
    "#         chunk_name = os.path.join(\"./test\", folder,\"{0}_chunk{1}.wav\".format(title, i))\n",
    "#         librosa.output.write_wav(chunk_name, chunk, sr)\n"
   ]
  }
 ],
 "metadata": {
  "kernelspec": {
   "display_name": "Python 3",
   "language": "python",
   "name": "python3"
  },
  "language_info": {
   "codemirror_mode": {
    "name": "ipython",
    "version": 3
   },
   "file_extension": ".py",
   "mimetype": "text/x-python",
   "name": "python",
   "nbconvert_exporter": "python",
   "pygments_lexer": "ipython3",
   "version": "3.6.6"
  }
 },
 "nbformat": 4,
 "nbformat_minor": 2
}
